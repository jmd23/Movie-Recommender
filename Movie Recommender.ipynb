{
 "cells": [
  {
   "cell_type": "markdown",
   "id": "53024de0",
   "metadata": {},
   "source": [
    "## Movie Recommendation Project"
   ]
  },
  {
   "cell_type": "markdown",
   "id": "b15876ac",
   "metadata": {},
   "source": [
    "### The Beginning"
   ]
  },
  {
   "cell_type": "code",
   "execution_count": 249,
   "id": "928ee881",
   "metadata": {},
   "outputs": [],
   "source": [
    "# import the libraries\n",
    "import pandas as pd\n",
    "import numpy as np\n",
    "import difflib\n",
    "from sklearn.feature_extraction.text import TfidfVectorizer\n",
    "from sklearn.metrics.pairwise import cosine_similarity\n",
    "import seaborn as sns\n",
    "import matplotlib.pyplot as plt"
   ]
  },
  {
   "cell_type": "code",
   "execution_count": 152,
   "id": "b14b95a8",
   "metadata": {},
   "outputs": [],
   "source": [
    "#read in the data\n",
    "df = pd.read_csv(r'C:\\Users\\joshu\\CSV Files\\movies.csv')"
   ]
  },
  {
   "cell_type": "code",
   "execution_count": 203,
   "id": "b552255f",
   "metadata": {
    "scrolled": true
   },
   "outputs": [
    {
     "data": {
      "text/html": [
       "<div>\n",
       "<style scoped>\n",
       "    .dataframe tbody tr th:only-of-type {\n",
       "        vertical-align: middle;\n",
       "    }\n",
       "\n",
       "    .dataframe tbody tr th {\n",
       "        vertical-align: top;\n",
       "    }\n",
       "\n",
       "    .dataframe thead th {\n",
       "        text-align: right;\n",
       "    }\n",
       "</style>\n",
       "<table border=\"1\" class=\"dataframe\">\n",
       "  <thead>\n",
       "    <tr style=\"text-align: right;\">\n",
       "      <th></th>\n",
       "      <th>index</th>\n",
       "      <th>budget</th>\n",
       "      <th>genres</th>\n",
       "      <th>homepage</th>\n",
       "      <th>id</th>\n",
       "      <th>keywords</th>\n",
       "      <th>original_language</th>\n",
       "      <th>original_title</th>\n",
       "      <th>overview</th>\n",
       "      <th>popularity</th>\n",
       "      <th>...</th>\n",
       "      <th>Unnamed: 1255</th>\n",
       "      <th>Unnamed: 1256</th>\n",
       "      <th>Unnamed: 1257</th>\n",
       "      <th>Unnamed: 1258</th>\n",
       "      <th>Unnamed: 1259</th>\n",
       "      <th>Unnamed: 1260</th>\n",
       "      <th>Unnamed: 1261</th>\n",
       "      <th>Unnamed: 1262</th>\n",
       "      <th>Unnamed: 1263</th>\n",
       "      <th>Unnamed: 1264</th>\n",
       "    </tr>\n",
       "  </thead>\n",
       "  <tbody>\n",
       "    <tr>\n",
       "      <th>0</th>\n",
       "      <td>0</td>\n",
       "      <td>237000000</td>\n",
       "      <td>Action Adventure Fantasy Science Fiction</td>\n",
       "      <td>http://www.avatarmovie.com/</td>\n",
       "      <td>19995</td>\n",
       "      <td>culture clash future space war space colony so...</td>\n",
       "      <td>en</td>\n",
       "      <td>Avatar</td>\n",
       "      <td>In the 22nd century, a paraplegic Marine is di...</td>\n",
       "      <td>150.437577</td>\n",
       "      <td>...</td>\n",
       "      <td>NaN</td>\n",
       "      <td>NaN</td>\n",
       "      <td>NaN</td>\n",
       "      <td>NaN</td>\n",
       "      <td>NaN</td>\n",
       "      <td>NaN</td>\n",
       "      <td>NaN</td>\n",
       "      <td>NaN</td>\n",
       "      <td>NaN</td>\n",
       "      <td>NaN</td>\n",
       "    </tr>\n",
       "    <tr>\n",
       "      <th>1</th>\n",
       "      <td>1</td>\n",
       "      <td>300000000</td>\n",
       "      <td>Adventure Fantasy Action</td>\n",
       "      <td>http://disney.go.com/disneypictures/pirates/</td>\n",
       "      <td>285</td>\n",
       "      <td>ocean drug abuse exotic island east india trad...</td>\n",
       "      <td>en</td>\n",
       "      <td>Pirates of the Caribbean: At World's End</td>\n",
       "      <td>Captain Barbossa, long believed to be dead, ha...</td>\n",
       "      <td>139.082615</td>\n",
       "      <td>...</td>\n",
       "      <td>NaN</td>\n",
       "      <td>NaN</td>\n",
       "      <td>NaN</td>\n",
       "      <td>NaN</td>\n",
       "      <td>NaN</td>\n",
       "      <td>NaN</td>\n",
       "      <td>NaN</td>\n",
       "      <td>NaN</td>\n",
       "      <td>NaN</td>\n",
       "      <td>NaN</td>\n",
       "    </tr>\n",
       "    <tr>\n",
       "      <th>2</th>\n",
       "      <td>2</td>\n",
       "      <td>245000000</td>\n",
       "      <td>Action Adventure Crime</td>\n",
       "      <td>http://www.sonypictures.com/movies/spectre/</td>\n",
       "      <td>206647</td>\n",
       "      <td>spy based on novel secret agent sequel mi6</td>\n",
       "      <td>en</td>\n",
       "      <td>Spectre</td>\n",
       "      <td>A cryptic message from Bond’s past sends him o...</td>\n",
       "      <td>107.376788</td>\n",
       "      <td>...</td>\n",
       "      <td>NaN</td>\n",
       "      <td>NaN</td>\n",
       "      <td>NaN</td>\n",
       "      <td>NaN</td>\n",
       "      <td>NaN</td>\n",
       "      <td>NaN</td>\n",
       "      <td>NaN</td>\n",
       "      <td>NaN</td>\n",
       "      <td>NaN</td>\n",
       "      <td>NaN</td>\n",
       "    </tr>\n",
       "    <tr>\n",
       "      <th>3</th>\n",
       "      <td>3</td>\n",
       "      <td>250000000</td>\n",
       "      <td>Action Crime Drama Thriller</td>\n",
       "      <td>http://www.thedarkknightrises.com/</td>\n",
       "      <td>49026</td>\n",
       "      <td>dc comics crime fighter terrorist secret ident...</td>\n",
       "      <td>en</td>\n",
       "      <td>The Dark Knight Rises</td>\n",
       "      <td>Following the death of District Attorney Harve...</td>\n",
       "      <td>112.31295</td>\n",
       "      <td>...</td>\n",
       "      <td>NaN</td>\n",
       "      <td>NaN</td>\n",
       "      <td>NaN</td>\n",
       "      <td>NaN</td>\n",
       "      <td>NaN</td>\n",
       "      <td>NaN</td>\n",
       "      <td>NaN</td>\n",
       "      <td>NaN</td>\n",
       "      <td>NaN</td>\n",
       "      <td>NaN</td>\n",
       "    </tr>\n",
       "    <tr>\n",
       "      <th>4</th>\n",
       "      <td>4</td>\n",
       "      <td>260000000</td>\n",
       "      <td>Action Adventure Science Fiction</td>\n",
       "      <td>http://movies.disney.com/john-carter</td>\n",
       "      <td>49529</td>\n",
       "      <td>based on novel mars medallion space travel pri...</td>\n",
       "      <td>en</td>\n",
       "      <td>John Carter</td>\n",
       "      <td>John Carter is a war-weary, former military ca...</td>\n",
       "      <td>43.926995</td>\n",
       "      <td>...</td>\n",
       "      <td>NaN</td>\n",
       "      <td>NaN</td>\n",
       "      <td>NaN</td>\n",
       "      <td>NaN</td>\n",
       "      <td>NaN</td>\n",
       "      <td>NaN</td>\n",
       "      <td>NaN</td>\n",
       "      <td>NaN</td>\n",
       "      <td>NaN</td>\n",
       "      <td>NaN</td>\n",
       "    </tr>\n",
       "    <tr>\n",
       "      <th>...</th>\n",
       "      <td>...</td>\n",
       "      <td>...</td>\n",
       "      <td>...</td>\n",
       "      <td>...</td>\n",
       "      <td>...</td>\n",
       "      <td>...</td>\n",
       "      <td>...</td>\n",
       "      <td>...</td>\n",
       "      <td>...</td>\n",
       "      <td>...</td>\n",
       "      <td>...</td>\n",
       "      <td>...</td>\n",
       "      <td>...</td>\n",
       "      <td>...</td>\n",
       "      <td>...</td>\n",
       "      <td>...</td>\n",
       "      <td>...</td>\n",
       "      <td>...</td>\n",
       "      <td>...</td>\n",
       "      <td>...</td>\n",
       "      <td>...</td>\n",
       "    </tr>\n",
       "    <tr>\n",
       "      <th>495</th>\n",
       "      <td>490</td>\n",
       "      <td>80000000</td>\n",
       "      <td>Thriller Science Fiction Adventure Action</td>\n",
       "      <td>http://asoundofthunder.warnerbros.com/</td>\n",
       "      <td>10077</td>\n",
       "      <td>dying and death time travel romance dinosaur</td>\n",
       "      <td>en</td>\n",
       "      <td>A Sound of Thunder</td>\n",
       "      <td>When a hunter sent back to the prehistoric era...</td>\n",
       "      <td>7.342892</td>\n",
       "      <td>...</td>\n",
       "      <td>NaN</td>\n",
       "      <td>NaN</td>\n",
       "      <td>NaN</td>\n",
       "      <td>NaN</td>\n",
       "      <td>NaN</td>\n",
       "      <td>NaN</td>\n",
       "      <td>NaN</td>\n",
       "      <td>NaN</td>\n",
       "      <td>NaN</td>\n",
       "      <td>NaN</td>\n",
       "    </tr>\n",
       "    <tr>\n",
       "      <th>496</th>\n",
       "      <td>491</td>\n",
       "      <td>130000000</td>\n",
       "      <td>Action Adventure History Romance Drama</td>\n",
       "      <td>NaN</td>\n",
       "      <td>76649</td>\n",
       "      <td>gladiator arena gladiator fight lava roman</td>\n",
       "      <td>en</td>\n",
       "      <td>Pompeii</td>\n",
       "      <td>Set in 79 A.D., POMPEII tells the epic story o...</td>\n",
       "      <td>50.561849</td>\n",
       "      <td>...</td>\n",
       "      <td>NaN</td>\n",
       "      <td>NaN</td>\n",
       "      <td>NaN</td>\n",
       "      <td>NaN</td>\n",
       "      <td>NaN</td>\n",
       "      <td>NaN</td>\n",
       "      <td>NaN</td>\n",
       "      <td>NaN</td>\n",
       "      <td>NaN</td>\n",
       "      <td>NaN</td>\n",
       "    </tr>\n",
       "    <tr>\n",
       "      <th>497</th>\n",
       "      <td>492</td>\n",
       "      <td>8000000</td>\n",
       "      <td>Comedy Animation</td>\n",
       "      <td>NaN</td>\n",
       "      <td>293644</td>\n",
       "      <td>3d</td>\n",
       "      <td>es</td>\n",
       "      <td>Don Gato: El inicio de la pandilla</td>\n",
       "      <td>Top Cat has arrived to charm his way into your...</td>\n",
       "      <td>0.719996</td>\n",
       "      <td>...</td>\n",
       "      <td>NaN</td>\n",
       "      <td>NaN</td>\n",
       "      <td>NaN</td>\n",
       "      <td>NaN</td>\n",
       "      <td>NaN</td>\n",
       "      <td>NaN</td>\n",
       "      <td>NaN</td>\n",
       "      <td>NaN</td>\n",
       "      <td>NaN</td>\n",
       "      <td>NaN</td>\n",
       "    </tr>\n",
       "    <tr>\n",
       "      <th>498</th>\n",
       "      <td>493</td>\n",
       "      <td>60000000</td>\n",
       "      <td>Drama Romance</td>\n",
       "      <td>http://www.abeautifulmind.com/</td>\n",
       "      <td>453</td>\n",
       "      <td>individual schizophrenia massachusetts love of...</td>\n",
       "      <td>en</td>\n",
       "      <td>A Beautiful Mind</td>\n",
       "      <td>At Princeton University, John Nash struggles t...</td>\n",
       "      <td>59.248437</td>\n",
       "      <td>...</td>\n",
       "      <td>NaN</td>\n",
       "      <td>NaN</td>\n",
       "      <td>NaN</td>\n",
       "      <td>NaN</td>\n",
       "      <td>NaN</td>\n",
       "      <td>NaN</td>\n",
       "      <td>NaN</td>\n",
       "      <td>NaN</td>\n",
       "      <td>NaN</td>\n",
       "      <td>NaN</td>\n",
       "    </tr>\n",
       "    <tr>\n",
       "      <th>499</th>\n",
       "      <td>494</td>\n",
       "      <td>45000000</td>\n",
       "      <td>Family Animation Drama</td>\n",
       "      <td>http://movies.disney.com/the-lion-king</td>\n",
       "      <td>8587</td>\n",
       "      <td>loss of parents wild boar uncle shaman redemption</td>\n",
       "      <td>en</td>\n",
       "      <td>The Lion King</td>\n",
       "      <td>A young lion cub named Simba can't wait to be ...</td>\n",
       "      <td>90.457886</td>\n",
       "      <td>...</td>\n",
       "      <td>NaN</td>\n",
       "      <td>NaN</td>\n",
       "      <td>NaN</td>\n",
       "      <td>NaN</td>\n",
       "      <td>NaN</td>\n",
       "      <td>NaN</td>\n",
       "      <td>NaN</td>\n",
       "      <td>NaN</td>\n",
       "      <td>NaN</td>\n",
       "      <td>NaN</td>\n",
       "    </tr>\n",
       "  </tbody>\n",
       "</table>\n",
       "<p>500 rows × 1265 columns</p>\n",
       "</div>"
      ],
      "text/plain": [
       "    index     budget                                     genres  \\\n",
       "0       0  237000000   Action Adventure Fantasy Science Fiction   \n",
       "1       1  300000000                   Adventure Fantasy Action   \n",
       "2       2  245000000                     Action Adventure Crime   \n",
       "3       3  250000000                Action Crime Drama Thriller   \n",
       "4       4  260000000           Action Adventure Science Fiction   \n",
       "..    ...        ...                                        ...   \n",
       "495   490   80000000  Thriller Science Fiction Adventure Action   \n",
       "496   491  130000000     Action Adventure History Romance Drama   \n",
       "497   492    8000000                           Comedy Animation   \n",
       "498   493   60000000                              Drama Romance   \n",
       "499   494   45000000                     Family Animation Drama   \n",
       "\n",
       "                                         homepage      id  \\\n",
       "0                     http://www.avatarmovie.com/   19995   \n",
       "1    http://disney.go.com/disneypictures/pirates/     285   \n",
       "2     http://www.sonypictures.com/movies/spectre/  206647   \n",
       "3              http://www.thedarkknightrises.com/   49026   \n",
       "4            http://movies.disney.com/john-carter   49529   \n",
       "..                                            ...     ...   \n",
       "495        http://asoundofthunder.warnerbros.com/   10077   \n",
       "496                                           NaN   76649   \n",
       "497                                           NaN  293644   \n",
       "498                http://www.abeautifulmind.com/     453   \n",
       "499        http://movies.disney.com/the-lion-king    8587   \n",
       "\n",
       "                                              keywords original_language  \\\n",
       "0    culture clash future space war space colony so...                en   \n",
       "1    ocean drug abuse exotic island east india trad...                en   \n",
       "2           spy based on novel secret agent sequel mi6                en   \n",
       "3    dc comics crime fighter terrorist secret ident...                en   \n",
       "4    based on novel mars medallion space travel pri...                en   \n",
       "..                                                 ...               ...   \n",
       "495       dying and death time travel romance dinosaur                en   \n",
       "496         gladiator arena gladiator fight lava roman                en   \n",
       "497                                                 3d                es   \n",
       "498  individual schizophrenia massachusetts love of...                en   \n",
       "499  loss of parents wild boar uncle shaman redemption                en   \n",
       "\n",
       "                               original_title  \\\n",
       "0                                      Avatar   \n",
       "1    Pirates of the Caribbean: At World's End   \n",
       "2                                     Spectre   \n",
       "3                       The Dark Knight Rises   \n",
       "4                                 John Carter   \n",
       "..                                        ...   \n",
       "495                        A Sound of Thunder   \n",
       "496                                   Pompeii   \n",
       "497        Don Gato: El inicio de la pandilla   \n",
       "498                          A Beautiful Mind   \n",
       "499                             The Lion King   \n",
       "\n",
       "                                              overview  popularity  ...  \\\n",
       "0    In the 22nd century, a paraplegic Marine is di...  150.437577  ...   \n",
       "1    Captain Barbossa, long believed to be dead, ha...  139.082615  ...   \n",
       "2    A cryptic message from Bond’s past sends him o...  107.376788  ...   \n",
       "3    Following the death of District Attorney Harve...   112.31295  ...   \n",
       "4    John Carter is a war-weary, former military ca...   43.926995  ...   \n",
       "..                                                 ...         ...  ...   \n",
       "495  When a hunter sent back to the prehistoric era...    7.342892  ...   \n",
       "496  Set in 79 A.D., POMPEII tells the epic story o...   50.561849  ...   \n",
       "497  Top Cat has arrived to charm his way into your...    0.719996  ...   \n",
       "498  At Princeton University, John Nash struggles t...   59.248437  ...   \n",
       "499  A young lion cub named Simba can't wait to be ...   90.457886  ...   \n",
       "\n",
       "    Unnamed: 1255 Unnamed: 1256 Unnamed: 1257 Unnamed: 1258 Unnamed: 1259  \\\n",
       "0             NaN           NaN           NaN           NaN           NaN   \n",
       "1             NaN           NaN           NaN           NaN           NaN   \n",
       "2             NaN           NaN           NaN           NaN           NaN   \n",
       "3             NaN           NaN           NaN           NaN           NaN   \n",
       "4             NaN           NaN           NaN           NaN           NaN   \n",
       "..            ...           ...           ...           ...           ...   \n",
       "495           NaN           NaN           NaN           NaN           NaN   \n",
       "496           NaN           NaN           NaN           NaN           NaN   \n",
       "497           NaN           NaN           NaN           NaN           NaN   \n",
       "498           NaN           NaN           NaN           NaN           NaN   \n",
       "499           NaN           NaN           NaN           NaN           NaN   \n",
       "\n",
       "    Unnamed: 1260 Unnamed: 1261 Unnamed: 1262 Unnamed: 1263 Unnamed: 1264  \n",
       "0             NaN           NaN           NaN           NaN           NaN  \n",
       "1             NaN           NaN           NaN           NaN           NaN  \n",
       "2             NaN           NaN           NaN           NaN           NaN  \n",
       "3             NaN           NaN           NaN           NaN           NaN  \n",
       "4             NaN           NaN           NaN           NaN           NaN  \n",
       "..            ...           ...           ...           ...           ...  \n",
       "495           NaN           NaN           NaN           NaN           NaN  \n",
       "496           NaN           NaN           NaN           NaN           NaN  \n",
       "497           NaN           NaN           NaN           NaN           NaN  \n",
       "498           NaN           NaN           NaN           NaN           NaN  \n",
       "499           NaN           NaN           NaN           NaN           NaN  \n",
       "\n",
       "[500 rows x 1265 columns]"
      ]
     },
     "execution_count": 203,
     "metadata": {},
     "output_type": "execute_result"
    }
   ],
   "source": [
    "df.head(500)"
   ]
  },
  {
   "cell_type": "code",
   "execution_count": 154,
   "id": "f243d269",
   "metadata": {},
   "outputs": [
    {
     "data": {
      "text/plain": [
       "(4809, 1265)"
      ]
     },
     "execution_count": 154,
     "metadata": {},
     "output_type": "execute_result"
    }
   ],
   "source": [
    "df.shape"
   ]
  },
  {
   "cell_type": "code",
   "execution_count": 155,
   "id": "f52e911f",
   "metadata": {},
   "outputs": [],
   "source": [
    "selected_features = ['genres', 'keywords', 'tagline', 'cast', 'director']"
   ]
  },
  {
   "cell_type": "markdown",
   "id": "ac6ea64f",
   "metadata": {},
   "source": [
    "### Data Cleaning"
   ]
  },
  {
   "cell_type": "code",
   "execution_count": 156,
   "id": "7843d500",
   "metadata": {},
   "outputs": [],
   "source": [
    "# handling nulls\n",
    "for i in selected_features:\n",
    "    df[i] = df[i].fillna('')\n",
    "df['title'] = df['title'].fillna('')"
   ]
  },
  {
   "cell_type": "markdown",
   "id": "e7091d5f",
   "metadata": {},
   "source": [
    "### Data Exploration"
   ]
  },
  {
   "cell_type": "code",
   "execution_count": 278,
   "id": "fb41917c",
   "metadata": {},
   "outputs": [],
   "source": [
    "# looks at a list of all words in df['ketywords']\n",
    "keywords = df['genres'].tolist()\n",
    "result = []\n",
    "for i in keywords:\n",
    "    splitted = i.split()\n",
    "    for j in splitted:\n",
    "        result.append(j)"
   ]
  },
  {
   "cell_type": "code",
   "execution_count": 279,
   "id": "f4b32a53",
   "metadata": {},
   "outputs": [
    {
     "name": "stdout",
     "output_type": "stream",
     "text": [
      "{'Action': 1153, 'Adventure': 790, 'Fantasy': 418, 'Science': 530, 'Fiction': 530, 'Crime': 696, 'Drama': 2297, 'Thriller': 1259, 'Animation': 234, 'Family': 510, 'Western': 80, 'Comedy': 1722, 'Romance': 890, \"'credit_id':\": 3, \"'55492449c3a36841b2000363'\": 1, 'Horror': 519, 'Mystery': 347, 'History': 197, 'War': 142, \"'id':\": 1, '1767009}': 1, \"{'name':\": 2, \"'Michael\": 1, \"Parks'\": 1, 'Music': 183, \"'5681e6bfc3a36860e9011ee5'\": 1, \"'58f5f6d1925141277100b78b'\": 1, 'Documentary': 110, \"'Daniel\": 1, \"Gordon'\": 1, 'Foreign': 34, 'TV': 8, 'Movie': 8}\n"
     ]
    }
   ],
   "source": [
    "# creates a dictionary of frequencies for these words\n",
    "dictionary = {}\n",
    "for i in result:\n",
    "    if i in dictionary:\n",
    "        dictionary[i] += 1\n",
    "    else:\n",
    "        dictionary[i] = 1\n",
    "print (dictionary)"
   ]
  },
  {
   "cell_type": "markdown",
   "id": "600580fb",
   "metadata": {},
   "source": [
    "### Creating Text"
   ]
  },
  {
   "cell_type": "code",
   "execution_count": 157,
   "id": "065eeb95",
   "metadata": {},
   "outputs": [],
   "source": [
    "features = df['genres'] + ' ' + df['keywords'] + ' ' + df['tagline'] + ' ' + df['cast'] + ' ' + df['director']"
   ]
  },
  {
   "cell_type": "code",
   "execution_count": 158,
   "id": "272a9bb5",
   "metadata": {},
   "outputs": [
    {
     "name": "stdout",
     "output_type": "stream",
     "text": [
      "0       Action Adventure Fantasy Science Fiction cultu...\n",
      "1       Adventure Fantasy Action ocean drug abuse exot...\n",
      "2       Action Adventure Crime spy based on novel secr...\n",
      "3       Action Crime Drama Thriller dc comics crime fi...\n",
      "4       Action Adventure Science Fiction based on nove...\n",
      "                              ...                        \n",
      "4804    Action Crime Thriller united states\\u2013mexic...\n",
      "4805    Comedy Romance  A newlywed couple's honeymoon ...\n",
      "4806    Comedy Drama Romance TV Movie date love at fir...\n",
      "4807      A New Yorker in Shanghai Daniel Henney Eliza...\n",
      "4808    Documentary obsession camcorder crush dream gi...\n",
      "Length: 4809, dtype: object\n"
     ]
    }
   ],
   "source": [
    "print(features)"
   ]
  },
  {
   "cell_type": "markdown",
   "id": "696b10b8",
   "metadata": {},
   "source": [
    "### Convert to Numerical Values"
   ]
  },
  {
   "cell_type": "code",
   "execution_count": 159,
   "id": "5329e5dc",
   "metadata": {},
   "outputs": [],
   "source": [
    "vectorizer = TfidfVectorizer()"
   ]
  },
  {
   "cell_type": "code",
   "execution_count": 160,
   "id": "65151080",
   "metadata": {},
   "outputs": [],
   "source": [
    "feature_vectors = vectorizer.fit_transform(features)"
   ]
  },
  {
   "cell_type": "code",
   "execution_count": 161,
   "id": "f4b3c557",
   "metadata": {},
   "outputs": [
    {
     "name": "stdout",
     "output_type": "stream",
     "text": [
      "  (0, 2438)\t0.1727269234969866\n",
      "  (0, 7763)\t0.11281946761216571\n",
      "  (0, 13033)\t0.19423432006987434\n",
      "  (0, 10237)\t0.16059231591328046\n",
      "  (0, 8764)\t0.22708109846346383\n",
      "  (0, 14617)\t0.15151416868595385\n",
      "  (0, 16677)\t0.19842983735418923\n",
      "  (0, 14073)\t0.205956457941733\n",
      "  (0, 13328)\t0.2177400340451317\n",
      "  (0, 17299)\t0.2019755488126334\n",
      "  (0, 17016)\t0.23642216288179602\n",
      "  (0, 13358)\t0.15022036822291404\n",
      "  (0, 11511)\t0.27209420901160897\n",
      "  (0, 11200)\t0.09051396620449952\n",
      "  (0, 17007)\t0.1282251636064218\n",
      "  (0, 15270)\t0.0709833692900418\n",
      "  (0, 4952)\t0.24024658931920426\n",
      "  (0, 14280)\t0.21391560760772346\n",
      "  (0, 3231)\t0.24958765373753639\n",
      "  (0, 16596)\t0.12550744845505796\n",
      "  (0, 14387)\t0.3396344162602317\n",
      "  (0, 5843)\t0.16467965954169428\n",
      "  (0, 3071)\t0.22207581114012026\n",
      "  (0, 3685)\t0.21391560760772346\n",
      "  (0, 5444)\t0.10365929555963475\n",
      "  :\t:\n",
      "  (4807, 17275)\t0.28866712901660546\n",
      "  (4807, 4842)\t0.2471929040013495\n",
      "  (4807, 410)\t0.17732764087392294\n",
      "  (4807, 6942)\t0.28866712901660546\n",
      "  (4807, 11671)\t0.21562869602539067\n",
      "  (4807, 1678)\t0.15653010034102868\n",
      "  (4807, 10937)\t0.13509136428761018\n",
      "  (4807, 7482)\t0.11312822232180882\n",
      "  (4807, 3803)\t0.33371131380910507\n",
      "  (4808, 7003)\t0.5699803352373706\n",
      "  (4808, 5374)\t0.22968913544507036\n",
      "  (4808, 3661)\t0.26250487802797257\n",
      "  (4808, 2431)\t0.24001958843725985\n",
      "  (4808, 4615)\t0.24001958843725985\n",
      "  (4808, 6424)\t0.21753429884654715\n",
      "  (4808, 4378)\t0.15383594649941473\n",
      "  (4808, 12998)\t0.16965675358995316\n",
      "  (4808, 1322)\t0.19607891848110867\n",
      "  (4808, 4535)\t0.19504900925583443\n",
      "  (4808, 3442)\t0.21753429884654715\n",
      "  (4808, 6162)\t0.1805717163739769\n",
      "  (4808, 4987)\t0.1607912774644998\n",
      "  (4808, 2135)\t0.3099892404640069\n",
      "  (4808, 4525)\t0.16785410008320537\n",
      "  (4808, 11169)\t0.1786815070359777\n"
     ]
    }
   ],
   "source": [
    "print(feature_vectors)"
   ]
  },
  {
   "cell_type": "markdown",
   "id": "3d9e3221",
   "metadata": {},
   "source": [
    "### Find Similarity Scores"
   ]
  },
  {
   "cell_type": "code",
   "execution_count": 162,
   "id": "7e7d1f52",
   "metadata": {},
   "outputs": [],
   "source": [
    "similarity = cosine_similarity(feature_vectors)"
   ]
  },
  {
   "cell_type": "code",
   "execution_count": 163,
   "id": "19d0dd62",
   "metadata": {},
   "outputs": [
    {
     "name": "stdout",
     "output_type": "stream",
     "text": [
      "[[1.         0.0722257  0.03774545 ... 0.         0.         0.        ]\n",
      " [0.0722257  1.         0.03282986 ... 0.03576038 0.         0.        ]\n",
      " [0.03774545 0.03282986 1.         ... 0.         0.05370221 0.        ]\n",
      " ...\n",
      " [0.         0.03576038 0.         ... 1.         0.         0.02651822]\n",
      " [0.         0.         0.05370221 ... 0.         1.         0.        ]\n",
      " [0.         0.         0.         ... 0.02651822 0.         1.        ]]\n",
      "(4809, 4809)\n"
     ]
    }
   ],
   "source": [
    "print(similarity)\n",
    "print(similarity.shape)"
   ]
  },
  {
   "cell_type": "markdown",
   "id": "bee2d492",
   "metadata": {},
   "source": [
    "### Handling User Input"
   ]
  },
  {
   "cell_type": "code",
   "execution_count": 207,
   "id": "26a957f7",
   "metadata": {},
   "outputs": [
    {
     "name": "stdout",
     "output_type": "stream",
     "text": [
      "Enter Your Favorite Movie: Iron man\n"
     ]
    }
   ],
   "source": [
    "movie_name = input(\"Enter Your Favorite Movie: \")"
   ]
  },
  {
   "cell_type": "code",
   "execution_count": 280,
   "id": "4d36bec5",
   "metadata": {},
   "outputs": [],
   "source": [
    "#List of movies in dataset\n",
    "titles = df['title'].tolist()"
   ]
  },
  {
   "cell_type": "code",
   "execution_count": 209,
   "id": "7e50a61b",
   "metadata": {
    "scrolled": true
   },
   "outputs": [
    {
     "name": "stdout",
     "output_type": "stream",
     "text": [
      "['Iron Man', 'Iron Man 3', 'Iron Man 2']\n"
     ]
    }
   ],
   "source": [
    "# find the matches\n",
    "find_close_match = difflib.get_close_matches(movie_name, titles)\n",
    "print (find_close_match)"
   ]
  },
  {
   "cell_type": "code",
   "execution_count": 210,
   "id": "95dcea4d",
   "metadata": {},
   "outputs": [
    {
     "name": "stdout",
     "output_type": "stream",
     "text": [
      "Iron Man\n"
     ]
    }
   ],
   "source": [
    "# find the legitimate closest match\n",
    "close_match = find_close_match[0]\n",
    "print (close_match)"
   ]
  },
  {
   "cell_type": "code",
   "execution_count": 282,
   "id": "347722cc",
   "metadata": {},
   "outputs": [],
   "source": [
    "#get the index of the movie\n",
    "the_index = df[df.title == close_match].index[0]"
   ]
  },
  {
   "cell_type": "markdown",
   "id": "298c07be",
   "metadata": {},
   "source": [
    "### The Algorithm"
   ]
  },
  {
   "cell_type": "code",
   "execution_count": 281,
   "id": "eecdcc5e",
   "metadata": {},
   "outputs": [],
   "source": [
    "similarity_score = list(enumerate(similarity[int(the_index)]))"
   ]
  },
  {
   "cell_type": "code",
   "execution_count": 216,
   "id": "a6784c8e",
   "metadata": {},
   "outputs": [
    {
     "data": {
      "text/plain": [
       "4809"
      ]
     },
     "execution_count": 216,
     "metadata": {},
     "output_type": "execute_result"
    }
   ],
   "source": [
    "# produces a very long list! (with all similarities to the close-match movie)\n",
    "len(similarity_score)"
   ]
  },
  {
   "cell_type": "code",
   "execution_count": 221,
   "id": "54d7d79a",
   "metadata": {
    "scrolled": false
   },
   "outputs": [],
   "source": [
    "# sort movies based on similarity score\n",
    "sorted_sims = sorted(similarity_score, key = lambda x:x[1], reverse=True)"
   ]
  },
  {
   "cell_type": "markdown",
   "id": "7b077bbc",
   "metadata": {},
   "source": [
    "### Many Examples of the Full Code"
   ]
  },
  {
   "cell_type": "code",
   "execution_count": 277,
   "id": "ea1037c2",
   "metadata": {},
   "outputs": [
    {
     "name": "stdout",
     "output_type": "stream",
     "text": [
      "Enter Your Favorite Movie: Iron Man\n",
      "These are the movies suggested for you: \n",
      "1. Iron Man\n",
      "2. Iron Man 2\n",
      "3. Iron Man 3\n",
      "4. Avengers: Age of Ultron\n",
      "5. The Avengers\n",
      "6. Captain America: Civil War\n",
      "7. Captain America: The Winter Soldier\n",
      "8. Ant-Man\n",
      "9. X-Men\n",
      "10. Made\n"
     ]
    }
   ],
   "source": [
    "# asks for your favorite movie\n",
    "movie_name = input(\"Enter Your Favorite Movie: \")\n",
    "\n",
    "titles = df['title'].tolist()\n",
    "\n",
    "find_close_match = difflib.get_close_matches(movie_name, titles)\n",
    "\n",
    "# returns the closest match to your input (accounting for spelling errors)\n",
    "close_match = find_close_match[0]\n",
    "\n",
    "# finds the index of this match and produces a list of simialrity scores to the other indeces\n",
    "the_index = df[df.title == close_match].index[0]\n",
    "\n",
    "similarity_score = list(enumerate(similarity[int(the_index)]))\n",
    "\n",
    "# sorts the list of similarity scores\n",
    "sorted_sims = sorted(similarity_score, key = lambda x:x[1], reverse=True)\n",
    "\n",
    "print (\"These are the movies suggested for you: \")\n",
    "\n",
    "#prints the movies with the 10 highest similarity scores\n",
    "for i in range(10):\n",
    "    index = sorted_sims[i][0]\n",
    "    title_from_index = df[df.index==index]['title'].values[0]\n",
    "    print (str(i+1) + '.', title_from_index)"
   ]
  },
  {
   "cell_type": "code",
   "execution_count": 273,
   "id": "25eb10f6",
   "metadata": {},
   "outputs": [
    {
     "name": "stdout",
     "output_type": "stream",
     "text": [
      "Enter Your Favorite Movie: The Godfather\n",
      "These are the movies suggested for you: \n",
      "1. The Godfather\n",
      "2. The Godfather: Part III\n",
      "3. Apocalypse Now\n",
      "4. Closer\n",
      "5. The Godfather: Part II\n",
      "6. Mickey Blue Eyes\n",
      "7. August Rush\n",
      "8. Leaving Las Vegas\n",
      "9. Machete\n",
      "10. Dracula\n"
     ]
    }
   ],
   "source": [
    "movie_name = input(\"Enter Your Favorite Movie: \")\n",
    "\n",
    "titles = df['title'].tolist()\n",
    "\n",
    "find_close_match = difflib.get_close_matches(movie_name, titles)\n",
    "\n",
    "close_match = find_close_match[0]\n",
    "\n",
    "the_index = df[df.title == close_match].index[0]\n",
    "\n",
    "similarity_score = list(enumerate(similarity[int(the_index)]))\n",
    "\n",
    "sorted_sims = sorted(similarity_score, key = lambda x:x[1], reverse=True)\n",
    "\n",
    "print (\"These are the movies suggested for you: \")\n",
    "\n",
    "for i in range(10):\n",
    "    index = sorted_sims[i][0]\n",
    "    title_from_index = df[df.index==index]['title'].values[0]\n",
    "    print (str(i+1) + '.', title_from_index)"
   ]
  },
  {
   "cell_type": "code",
   "execution_count": 274,
   "id": "3b65c797",
   "metadata": {},
   "outputs": [
    {
     "name": "stdout",
     "output_type": "stream",
     "text": [
      "Enter Your Favorite Movie: Caddyshack\n",
      "These are the movies suggested for you: \n",
      "1. Caddyshack\n",
      "2. Happy Gilmore\n",
      "3. Tin Cup\n",
      "4. National Lampoon's Vacation\n",
      "5. Groundhog Day\n",
      "6. Stripes\n",
      "7. Jarhead\n",
      "8. Memoirs of an Invisible Man\n",
      "9. Year One\n",
      "10. Modern Problems\n"
     ]
    }
   ],
   "source": [
    "movie_name = input(\"Enter Your Favorite Movie: \")\n",
    "\n",
    "titles = df['title'].tolist()\n",
    "\n",
    "find_close_match = difflib.get_close_matches(movie_name, titles)\n",
    "\n",
    "close_match = find_close_match[0]\n",
    "\n",
    "the_index = df[df.title == close_match].index[0]\n",
    "\n",
    "similarity_score = list(enumerate(similarity[int(the_index)]))\n",
    "\n",
    "sorted_sims = sorted(similarity_score, key = lambda x:x[1], reverse=True)\n",
    "\n",
    "print (\"These are the movies suggested for you: \")\n",
    "\n",
    "for i in range(10):\n",
    "    index = sorted_sims[i][0]\n",
    "    title_from_index = df[df.index==index]['title'].values[0]\n",
    "    print (str(i+1) + '.', title_from_index)"
   ]
  },
  {
   "cell_type": "code",
   "execution_count": 275,
   "id": "d1c26969",
   "metadata": {},
   "outputs": [
    {
     "name": "stdout",
     "output_type": "stream",
     "text": [
      "Enter Your Favorite Movie: Star Wars\n",
      "These are the movies suggested for you: \n",
      "1. Star Wars\n",
      "2. The Empire Strikes Back\n",
      "3. Return of the Jedi\n",
      "4. On Her Majesty's Secret Service\n",
      "5. Titan A.E.\n",
      "6. Star Wars: Episode I - The Phantom Menace\n",
      "7. The Helix... Loaded\n",
      "8. Star Wars: Episode III - Revenge of the Sith\n",
      "9. Timecop\n",
      "10. Lawrence of Arabia\n"
     ]
    }
   ],
   "source": [
    "movie_name = input(\"Enter Your Favorite Movie: \")\n",
    "\n",
    "titles = df['title'].tolist()\n",
    "\n",
    "find_close_match = difflib.get_close_matches(movie_name, titles)\n",
    "\n",
    "close_match = find_close_match[0]\n",
    "\n",
    "the_index = df[df.title == close_match].index[0]\n",
    "\n",
    "similarity_score = list(enumerate(similarity[int(the_index)]))\n",
    "\n",
    "sorted_sims = sorted(similarity_score, key = lambda x:x[1], reverse=True)\n",
    "\n",
    "print (\"These are the movies suggested for you: \")\n",
    "\n",
    "for i in range(10):\n",
    "    index = sorted_sims[i][0]\n",
    "    title_from_index = df[df.index==index]['title'].values[0]\n",
    "    print (str(i+1) + '.', title_from_index)"
   ]
  },
  {
   "cell_type": "code",
   "execution_count": 276,
   "id": "ba78970c",
   "metadata": {},
   "outputs": [
    {
     "name": "stdout",
     "output_type": "stream",
     "text": [
      "Enter Your Favorite Movie: Toy Story\n",
      "These are the movies suggested for you: \n",
      "1. Toy Story\n",
      "2. Toy Story 2\n",
      "3. Toy Story 3\n",
      "4. Cars 2\n",
      "5. Cloud Atlas\n",
      "6. Home\n",
      "7. Larry Crowne\n",
      "8. Quest for Camelot\n",
      "9. Big\n",
      "10. That Thing You Do!\n"
     ]
    }
   ],
   "source": [
    "movie_name = input(\"Enter Your Favorite Movie: \")\n",
    "\n",
    "titles = df['title'].tolist()\n",
    "\n",
    "find_close_match = difflib.get_close_matches(movie_name, titles)\n",
    "\n",
    "close_match = find_close_match[0]\n",
    "\n",
    "the_index = df[df.title == close_match].index[0]\n",
    "\n",
    "similarity_score = list(enumerate(similarity[int(the_index)]))\n",
    "\n",
    "sorted_sims = sorted(similarity_score, key = lambda x:x[1], reverse=True)\n",
    "\n",
    "print (\"These are the movies suggested for you: \")\n",
    "\n",
    "for i in range(10):\n",
    "    index = sorted_sims[i][0]\n",
    "    title_from_index = df[df.index==index]['title'].values[0]\n",
    "    print (str(i+1) + '.', title_from_index)"
   ]
  },
  {
   "cell_type": "code",
   "execution_count": null,
   "id": "e5b2bf74",
   "metadata": {},
   "outputs": [],
   "source": []
  }
 ],
 "metadata": {
  "kernelspec": {
   "display_name": "Python 3",
   "language": "python",
   "name": "python3"
  },
  "language_info": {
   "codemirror_mode": {
    "name": "ipython",
    "version": 3
   },
   "file_extension": ".py",
   "mimetype": "text/x-python",
   "name": "python",
   "nbconvert_exporter": "python",
   "pygments_lexer": "ipython3",
   "version": "3.8.8"
  }
 },
 "nbformat": 4,
 "nbformat_minor": 5
}
