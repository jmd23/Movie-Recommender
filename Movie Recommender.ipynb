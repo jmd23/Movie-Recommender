{
 "cells": [
  {
   "cell_type": "markdown",
   "id": "5d90947e",
   "metadata": {},
   "source": [
    "## Movie Recommendation Project"
   ]
  },
  {
   "cell_type": "markdown",
   "id": "218d4c94",
   "metadata": {},
   "source": [
    "### The Beginning"
   ]
  },
  {
   "cell_type": "code",
   "execution_count": 249,
   "id": "3f8b5ab5",
   "metadata": {},
   "outputs": [],
   "source": [
    "# import the libraries\n",
    "import pandas as pd\n",
    "import numpy as np\n",
    "import difflib\n",
    "from sklearn.feature_extraction.text import TfidfVectorizer\n",
    "from sklearn.metrics.pairwise import cosine_similarity\n",
    "import seaborn as sns\n",
    "import matplotlib.pyplot as plt"
   ]
  },
  {
   "cell_type": "code",
   "execution_count": 152,
   "id": "00cd7462",
   "metadata": {},
   "outputs": [],
   "source": [
    "#read in the data\n",
    "df = pd.read_csv(r'C:\\Users\\joshu\\CSV Files\\movies.csv')"
   ]
  },
  {
   "cell_type": "code",
   "execution_count": 203,
   "id": "781eac4f",
   "metadata": {
    "scrolled": true
   },
   "outputs": [
    {
     "data": {
      "text/html": [
       "<div>\n",
       "<style scoped>\n",
       "    .dataframe tbody tr th:only-of-type {\n",
       "        vertical-align: middle;\n",
       "    }\n",
       "\n",
       "    .dataframe tbody tr th {\n",
       "        vertical-align: top;\n",
       "    }\n",
       "\n",
       "    .dataframe thead th {\n",
       "        text-align: right;\n",
       "    }\n",
       "</style>\n",
       "<table border=\"1\" class=\"dataframe\">\n",
       "  <thead>\n",
       "    <tr style=\"text-align: right;\">\n",
       "      <th></th>\n",
       "      <th>index</th>\n",
       "      <th>budget</th>\n",
       "      <th>genres</th>\n",
       "      <th>homepage</th>\n",
       "      <th>id</th>\n",
       "      <th>keywords</th>\n",
       "      <th>original_language</th>\n",
       "      <th>original_title</th>\n",
       "      <th>overview</th>\n",
       "      <th>popularity</th>\n",
       "      <th>...</th>\n",
       "      <th>Unnamed: 1255</th>\n",
       "      <th>Unnamed: 1256</th>\n",
       "      <th>Unnamed: 1257</th>\n",
       "      <th>Unnamed: 1258</th>\n",
       "      <th>Unnamed: 1259</th>\n",
       "      <th>Unnamed: 1260</th>\n",
       "      <th>Unnamed: 1261</th>\n",
       "      <th>Unnamed: 1262</th>\n",
       "      <th>Unnamed: 1263</th>\n",
       "      <th>Unnamed: 1264</th>\n",
       "    </tr>\n",
       "  </thead>\n",
       "  <tbody>\n",
       "    <tr>\n",
       "      <th>0</th>\n",
       "      <td>0</td>\n",
       "      <td>237000000</td>\n",
       "      <td>Action Adventure Fantasy Science Fiction</td>\n",
       "      <td>http://www.avatarmovie.com/</td>\n",
       "      <td>19995</td>\n",
       "      <td>culture clash future space war space colony so...</td>\n",
       "      <td>en</td>\n",
       "      <td>Avatar</td>\n",
       "      <td>In the 22nd century, a paraplegic Marine is di...</td>\n",
       "      <td>150.437577</td>\n",
       "      <td>...</td>\n",
       "      <td>NaN</td>\n",
       "      <td>NaN</td>\n",
       "      <td>NaN</td>\n",
       "      <td>NaN</td>\n",
       "      <td>NaN</td>\n",
       "      <td>NaN</td>\n",
       "      <td>NaN</td>\n",
       "      <td>NaN</td>\n",
       "      <td>NaN</td>\n",
       "      <td>NaN</td>\n",
       "    </tr>\n",
       "    <tr>\n",
       "      <th>1</th>\n",
       "      <td>1</td>\n",
       "      <td>300000000</td>\n",
       "      <td>Adventure Fantasy Action</td>\n",
       "      <td>http://disney.go.com/disneypictures/pirates/</td>\n",
       "      <td>285</td>\n",
       "      <td>ocean drug abuse exotic island east india trad...</td>\n",
       "      <td>en</td>\n",
       "      <td>Pirates of the Caribbean: At World's End</td>\n",
       "      <td>Captain Barbossa, long believed to be dead, ha...</td>\n",
       "      <td>139.082615</td>\n",
       "      <td>...</td>\n",
       "      <td>NaN</td>\n",
       "      <td>NaN</td>\n",
       "      <td>NaN</td>\n",
       "      <td>NaN</td>\n",
       "      <td>NaN</td>\n",
       "      <td>NaN</td>\n",
       "      <td>NaN</td>\n",
       "      <td>NaN</td>\n",
       "      <td>NaN</td>\n",
       "      <td>NaN</td>\n",
       "    </tr>\n",
       "    <tr>\n",
       "      <th>2</th>\n",
       "      <td>2</td>\n",
       "      <td>245000000</td>\n",
       "      <td>Action Adventure Crime</td>\n",
       "      <td>http://www.sonypictures.com/movies/spectre/</td>\n",
       "      <td>206647</td>\n",
       "      <td>spy based on novel secret agent sequel mi6</td>\n",
       "      <td>en</td>\n",
       "      <td>Spectre</td>\n",
       "      <td>A cryptic message from Bond’s past sends him o...</td>\n",
       "      <td>107.376788</td>\n",
       "      <td>...</td>\n",
       "      <td>NaN</td>\n",
       "      <td>NaN</td>\n",
       "      <td>NaN</td>\n",
       "      <td>NaN</td>\n",
       "      <td>NaN</td>\n",
       "      <td>NaN</td>\n",
       "      <td>NaN</td>\n",
       "      <td>NaN</td>\n",
       "      <td>NaN</td>\n",
       "      <td>NaN</td>\n",
       "    </tr>\n",
       "    <tr>\n",
       "      <th>3</th>\n",
       "      <td>3</td>\n",
       "      <td>250000000</td>\n",
       "      <td>Action Crime Drama Thriller</td>\n",
       "      <td>http://www.thedarkknightrises.com/</td>\n",
       "      <td>49026</td>\n",
       "      <td>dc comics crime fighter terrorist secret ident...</td>\n",
       "      <td>en</td>\n",
       "      <td>The Dark Knight Rises</td>\n",
       "      <td>Following the death of District Attorney Harve...</td>\n",
       "      <td>112.31295</td>\n",
       "      <td>...</td>\n",
       "      <td>NaN</td>\n",
       "      <td>NaN</td>\n",
       "      <td>NaN</td>\n",
       "      <td>NaN</td>\n",
       "      <td>NaN</td>\n",
       "      <td>NaN</td>\n",
       "      <td>NaN</td>\n",
       "      <td>NaN</td>\n",
       "      <td>NaN</td>\n",
       "      <td>NaN</td>\n",
       "    </tr>\n",
       "    <tr>\n",
       "      <th>4</th>\n",
       "      <td>4</td>\n",
       "      <td>260000000</td>\n",
       "      <td>Action Adventure Science Fiction</td>\n",
       "      <td>http://movies.disney.com/john-carter</td>\n",
       "      <td>49529</td>\n",
       "      <td>based on novel mars medallion space travel pri...</td>\n",
       "      <td>en</td>\n",
       "      <td>John Carter</td>\n",
       "      <td>John Carter is a war-weary, former military ca...</td>\n",
       "      <td>43.926995</td>\n",
       "      <td>...</td>\n",
       "      <td>NaN</td>\n",
       "      <td>NaN</td>\n",
       "      <td>NaN</td>\n",
       "      <td>NaN</td>\n",
       "      <td>NaN</td>\n",
       "      <td>NaN</td>\n",
       "      <td>NaN</td>\n",
       "      <td>NaN</td>\n",
       "      <td>NaN</td>\n",
       "      <td>NaN</td>\n",
       "    </tr>\n",
       "    <tr>\n",
       "      <th>...</th>\n",
       "      <td>...</td>\n",
       "      <td>...</td>\n",
       "      <td>...</td>\n",
       "      <td>...</td>\n",
       "      <td>...</td>\n",
       "      <td>...</td>\n",
       "      <td>...</td>\n",
       "      <td>...</td>\n",
       "      <td>...</td>\n",
       "      <td>...</td>\n",
       "      <td>...</td>\n",
       "      <td>...</td>\n",
       "      <td>...</td>\n",
       "      <td>...</td>\n",
       "      <td>...</td>\n",
       "      <td>...</td>\n",
       "      <td>...</td>\n",
       "      <td>...</td>\n",
       "      <td>...</td>\n",
       "      <td>...</td>\n",
       "      <td>...</td>\n",
       "    </tr>\n",
       "    <tr>\n",
       "      <th>495</th>\n",
       "      <td>490</td>\n",
       "      <td>80000000</td>\n",
       "      <td>Thriller Science Fiction Adventure Action</td>\n",
       "      <td>http://asoundofthunder.warnerbros.com/</td>\n",
       "      <td>10077</td>\n",
       "      <td>dying and death time travel romance dinosaur</td>\n",
       "      <td>en</td>\n",
       "      <td>A Sound of Thunder</td>\n",
       "      <td>When a hunter sent back to the prehistoric era...</td>\n",
       "      <td>7.342892</td>\n",
       "      <td>...</td>\n",
       "      <td>NaN</td>\n",
       "      <td>NaN</td>\n",
       "      <td>NaN</td>\n",
       "      <td>NaN</td>\n",
       "      <td>NaN</td>\n",
       "      <td>NaN</td>\n",
       "      <td>NaN</td>\n",
       "      <td>NaN</td>\n",
       "      <td>NaN</td>\n",
       "      <td>NaN</td>\n",
       "    </tr>\n",
       "    <tr>\n",
       "      <th>496</th>\n",
       "      <td>491</td>\n",
       "      <td>130000000</td>\n",
       "      <td>Action Adventure History Romance Drama</td>\n",
       "      <td>NaN</td>\n",
       "      <td>76649</td>\n",
       "      <td>gladiator arena gladiator fight lava roman</td>\n",
       "      <td>en</td>\n",
       "      <td>Pompeii</td>\n",
       "      <td>Set in 79 A.D., POMPEII tells the epic story o...</td>\n",
       "      <td>50.561849</td>\n",
       "      <td>...</td>\n",
       "      <td>NaN</td>\n",
       "      <td>NaN</td>\n",
       "      <td>NaN</td>\n",
       "      <td>NaN</td>\n",
       "      <td>NaN</td>\n",
       "      <td>NaN</td>\n",
       "      <td>NaN</td>\n",
       "      <td>NaN</td>\n",
       "      <td>NaN</td>\n",
       "      <td>NaN</td>\n",
       "    </tr>\n",
       "    <tr>\n",
       "      <th>497</th>\n",
       "      <td>492</td>\n",
       "      <td>8000000</td>\n",
       "      <td>Comedy Animation</td>\n",
       "      <td>NaN</td>\n",
       "      <td>293644</td>\n",
       "      <td>3d</td>\n",
       "      <td>es</td>\n",
       "      <td>Don Gato: El inicio de la pandilla</td>\n",
       "      <td>Top Cat has arrived to charm his way into your...</td>\n",
       "      <td>0.719996</td>\n",
       "      <td>...</td>\n",
       "      <td>NaN</td>\n",
       "      <td>NaN</td>\n",
       "      <td>NaN</td>\n",
       "      <td>NaN</td>\n",
       "      <td>NaN</td>\n",
       "      <td>NaN</td>\n",
       "      <td>NaN</td>\n",
       "      <td>NaN</td>\n",
       "      <td>NaN</td>\n",
       "      <td>NaN</td>\n",
       "    </tr>\n",
       "    <tr>\n",
       "      <th>498</th>\n",
       "      <td>493</td>\n",
       "      <td>60000000</td>\n",
       "      <td>Drama Romance</td>\n",
       "      <td>http://www.abeautifulmind.com/</td>\n",
       "      <td>453</td>\n",
       "      <td>individual schizophrenia massachusetts love of...</td>\n",
       "      <td>en</td>\n",
       "      <td>A Beautiful Mind</td>\n",
       "      <td>At Princeton University, John Nash struggles t...</td>\n",
       "      <td>59.248437</td>\n",
       "      <td>...</td>\n",
       "      <td>NaN</td>\n",
       "      <td>NaN</td>\n",
       "      <td>NaN</td>\n",
       "      <td>NaN</td>\n",
       "      <td>NaN</td>\n",
       "      <td>NaN</td>\n",
       "      <td>NaN</td>\n",
       "      <td>NaN</td>\n",
       "      <td>NaN</td>\n",
       "      <td>NaN</td>\n",
       "    </tr>\n",
       "    <tr>\n",
       "      <th>499</th>\n",
       "      <td>494</td>\n",
       "      <td>45000000</td>\n",
       "      <td>Family Animation Drama</td>\n",
       "      <td>http://movies.disney.com/the-lion-king</td>\n",
       "      <td>8587</td>\n",
       "      <td>loss of parents wild boar uncle shaman redemption</td>\n",
       "      <td>en</td>\n",
       "      <td>The Lion King</td>\n",
       "      <td>A young lion cub named Simba can't wait to be ...</td>\n",
       "      <td>90.457886</td>\n",
       "      <td>...</td>\n",
       "      <td>NaN</td>\n",
       "      <td>NaN</td>\n",
       "      <td>NaN</td>\n",
       "      <td>NaN</td>\n",
       "      <td>NaN</td>\n",
       "      <td>NaN</td>\n",
       "      <td>NaN</td>\n",
       "      <td>NaN</td>\n",
       "      <td>NaN</td>\n",
       "      <td>NaN</td>\n",
       "    </tr>\n",
       "  </tbody>\n",
       "</table>\n",
       "<p>500 rows × 1265 columns</p>\n",
       "</div>"
      ],
      "text/plain": [
       "    index     budget                                     genres  \\\n",
       "0       0  237000000   Action Adventure Fantasy Science Fiction   \n",
       "1       1  300000000                   Adventure Fantasy Action   \n",
       "2       2  245000000                     Action Adventure Crime   \n",
       "3       3  250000000                Action Crime Drama Thriller   \n",
       "4       4  260000000           Action Adventure Science Fiction   \n",
       "..    ...        ...                                        ...   \n",
       "495   490   80000000  Thriller Science Fiction Adventure Action   \n",
       "496   491  130000000     Action Adventure History Romance Drama   \n",
       "497   492    8000000                           Comedy Animation   \n",
       "498   493   60000000                              Drama Romance   \n",
       "499   494   45000000                     Family Animation Drama   \n",
       "\n",
       "                                         homepage      id  \\\n",
       "0                     http://www.avatarmovie.com/   19995   \n",
       "1    http://disney.go.com/disneypictures/pirates/     285   \n",
       "2     http://www.sonypictures.com/movies/spectre/  206647   \n",
       "3              http://www.thedarkknightrises.com/   49026   \n",
       "4            http://movies.disney.com/john-carter   49529   \n",
       "..                                            ...     ...   \n",
       "495        http://asoundofthunder.warnerbros.com/   10077   \n",
       "496                                           NaN   76649   \n",
       "497                                           NaN  293644   \n",
       "498                http://www.abeautifulmind.com/     453   \n",
       "499        http://movies.disney.com/the-lion-king    8587   \n",
       "\n",
       "                                              keywords original_language  \\\n",
       "0    culture clash future space war space colony so...                en   \n",
       "1    ocean drug abuse exotic island east india trad...                en   \n",
       "2           spy based on novel secret agent sequel mi6                en   \n",
       "3    dc comics crime fighter terrorist secret ident...                en   \n",
       "4    based on novel mars medallion space travel pri...                en   \n",
       "..                                                 ...               ...   \n",
       "495       dying and death time travel romance dinosaur                en   \n",
       "496         gladiator arena gladiator fight lava roman                en   \n",
       "497                                                 3d                es   \n",
       "498  individual schizophrenia massachusetts love of...                en   \n",
       "499  loss of parents wild boar uncle shaman redemption                en   \n",
       "\n",
       "                               original_title  \\\n",
       "0                                      Avatar   \n",
       "1    Pirates of the Caribbean: At World's End   \n",
       "2                                     Spectre   \n",
       "3                       The Dark Knight Rises   \n",
       "4                                 John Carter   \n",
       "..                                        ...   \n",
       "495                        A Sound of Thunder   \n",
       "496                                   Pompeii   \n",
       "497        Don Gato: El inicio de la pandilla   \n",
       "498                          A Beautiful Mind   \n",
       "499                             The Lion King   \n",
       "\n",
       "                                              overview  popularity  ...  \\\n",
       "0    In the 22nd century, a paraplegic Marine is di...  150.437577  ...   \n",
       "1    Captain Barbossa, long believed to be dead, ha...  139.082615  ...   \n",
       "2    A cryptic message from Bond’s past sends him o...  107.376788  ...   \n",
       "3    Following the death of District Attorney Harve...   112.31295  ...   \n",
       "4    John Carter is a war-weary, former military ca...   43.926995  ...   \n",
       "..                                                 ...         ...  ...   \n",
       "495  When a hunter sent back to the prehistoric era...    7.342892  ...   \n",
       "496  Set in 79 A.D., POMPEII tells the epic story o...   50.561849  ...   \n",
       "497  Top Cat has arrived to charm his way into your...    0.719996  ...   \n",
       "498  At Princeton University, John Nash struggles t...   59.248437  ...   \n",
       "499  A young lion cub named Simba can't wait to be ...   90.457886  ...   \n",
       "\n",
       "    Unnamed: 1255 Unnamed: 1256 Unnamed: 1257 Unnamed: 1258 Unnamed: 1259  \\\n",
       "0             NaN           NaN           NaN           NaN           NaN   \n",
       "1             NaN           NaN           NaN           NaN           NaN   \n",
       "2             NaN           NaN           NaN           NaN           NaN   \n",
       "3             NaN           NaN           NaN           NaN           NaN   \n",
       "4             NaN           NaN           NaN           NaN           NaN   \n",
       "..            ...           ...           ...           ...           ...   \n",
       "495           NaN           NaN           NaN           NaN           NaN   \n",
       "496           NaN           NaN           NaN           NaN           NaN   \n",
       "497           NaN           NaN           NaN           NaN           NaN   \n",
       "498           NaN           NaN           NaN           NaN           NaN   \n",
       "499           NaN           NaN           NaN           NaN           NaN   \n",
       "\n",
       "    Unnamed: 1260 Unnamed: 1261 Unnamed: 1262 Unnamed: 1263 Unnamed: 1264  \n",
       "0             NaN           NaN           NaN           NaN           NaN  \n",
       "1             NaN           NaN           NaN           NaN           NaN  \n",
       "2             NaN           NaN           NaN           NaN           NaN  \n",
       "3             NaN           NaN           NaN           NaN           NaN  \n",
       "4             NaN           NaN           NaN           NaN           NaN  \n",
       "..            ...           ...           ...           ...           ...  \n",
       "495           NaN           NaN           NaN           NaN           NaN  \n",
       "496           NaN           NaN           NaN           NaN           NaN  \n",
       "497           NaN           NaN           NaN           NaN           NaN  \n",
       "498           NaN           NaN           NaN           NaN           NaN  \n",
       "499           NaN           NaN           NaN           NaN           NaN  \n",
       "\n",
       "[500 rows x 1265 columns]"
      ]
     },
     "execution_count": 203,
     "metadata": {},
     "output_type": "execute_result"
    }
   ],
   "source": [
    "df.head(500)"
   ]
  },
  {
   "cell_type": "code",
   "execution_count": 154,
   "id": "c5b89e46",
   "metadata": {},
   "outputs": [
    {
     "data": {
      "text/plain": [
       "(4809, 1265)"
      ]
     },
     "execution_count": 154,
     "metadata": {},
     "output_type": "execute_result"
    }
   ],
   "source": [
    "df.shape"
   ]
  },
  {
   "cell_type": "code",
   "execution_count": 155,
   "id": "e85e358e",
   "metadata": {},
   "outputs": [],
   "source": [
    "selected_features = ['genres', 'keywords', 'tagline', 'cast', 'director']"
   ]
  },
  {
   "cell_type": "markdown",
   "id": "a91b2174",
   "metadata": {},
   "source": [
    "### Data Cleaning"
   ]
  },
  {
   "cell_type": "code",
   "execution_count": 156,
   "id": "9f331865",
   "metadata": {},
   "outputs": [],
   "source": [
    "# handling nulls\n",
    "for i in selected_features:\n",
    "    df[i] = df[i].fillna('')\n",
    "df['title'] = df['title'].fillna('')"
   ]
  },
  {
   "cell_type": "markdown",
   "id": "d1f370d0",
   "metadata": {},
   "source": [
    "### Data Exploration"
   ]
  },
  {
   "cell_type": "code",
   "execution_count": 278,
   "id": "0846d5ba",
   "metadata": {},
   "outputs": [],
   "source": [
    "# looks at a list of all words in df['ketywords']\n",
    "keywords = df['genres'].tolist()\n",
    "result = []\n",
    "for i in keywords:\n",
    "    splitted = i.split()\n",
    "    for j in splitted:\n",
    "        result.append(j)"
   ]
  },
  {
   "cell_type": "code",
   "execution_count": 279,
   "id": "d21873d7",
   "metadata": {},
   "outputs": [
    {
     "name": "stdout",
     "output_type": "stream",
     "text": [
      "{'Action': 1153, 'Adventure': 790, 'Fantasy': 418, 'Science': 530, 'Fiction': 530, 'Crime': 696, 'Drama': 2297, 'Thriller': 1259, 'Animation': 234, 'Family': 510, 'Western': 80, 'Comedy': 1722, 'Romance': 890, \"'credit_id':\": 3, \"'55492449c3a36841b2000363'\": 1, 'Horror': 519, 'Mystery': 347, 'History': 197, 'War': 142, \"'id':\": 1, '1767009}': 1, \"{'name':\": 2, \"'Michael\": 1, \"Parks'\": 1, 'Music': 183, \"'5681e6bfc3a36860e9011ee5'\": 1, \"'58f5f6d1925141277100b78b'\": 1, 'Documentary': 110, \"'Daniel\": 1, \"Gordon'\": 1, 'Foreign': 34, 'TV': 8, 'Movie': 8}\n"
     ]
    }
   ],
   "source": [
    "# creates a dictionary of frequencies for these words\n",
    "dictionary = {}\n",
    "for i in result:\n",
    "    if i in dictionary:\n",
    "        dictionary[i] += 1\n",
    "    else:\n",
    "        dictionary[i] = 1\n",
    "print (dictionary)"
   ]
  },
  {
   "cell_type": "markdown",
   "id": "44c82a70",
   "metadata": {},
   "source": [
    "### Creating Text"
   ]
  },
  {
   "cell_type": "code",
   "execution_count": 157,
   "id": "ba54894e",
   "metadata": {},
   "outputs": [],
   "source": [
    "features = df['genres'] + ' ' + df['keywords'] + ' ' + df['tagline'] + ' ' + df['cast'] + ' ' + df['director']"
   ]
  },
  {
   "cell_type": "code",
   "execution_count": 158,
   "id": "401ec96f",
   "metadata": {},
   "outputs": [
    {
     "name": "stdout",
     "output_type": "stream",
     "text": [
      "0       Action Adventure Fantasy Science Fiction cultu...\n",
      "1       Adventure Fantasy Action ocean drug abuse exot...\n",
      "2       Action Adventure Crime spy based on novel secr...\n",
      "3       Action Crime Drama Thriller dc comics crime fi...\n",
      "4       Action Adventure Science Fiction based on nove...\n",
      "                              ...                        \n",
      "4804    Action Crime Thriller united states\\u2013mexic...\n",
      "4805    Comedy Romance  A newlywed couple's honeymoon ...\n",
      "4806    Comedy Drama Romance TV Movie date love at fir...\n",
      "4807      A New Yorker in Shanghai Daniel Henney Eliza...\n",
      "4808    Documentary obsession camcorder crush dream gi...\n",
      "Length: 4809, dtype: object\n"
     ]
    }
   ],
   "source": [
    "print(features)"
   ]
  },
  {
   "cell_type": "markdown",
   "id": "794849ca",
   "metadata": {},
   "source": [
    "### Convert to Numerical Values"
   ]
  },
  {
   "cell_type": "code",
   "execution_count": 159,
   "id": "fd9e77af",
   "metadata": {},
   "outputs": [],
   "source": [
    "vectorizer = TfidfVectorizer()"
   ]
  },
  {
   "cell_type": "code",
   "execution_count": 160,
   "id": "39a39fb0",
   "metadata": {},
   "outputs": [],
   "source": [
    "feature_vectors = vectorizer.fit_transform(features)"
   ]
  },
  {
   "cell_type": "code",
   "execution_count": 161,
   "id": "c53e6f90",
   "metadata": {},
   "outputs": [
    {
     "name": "stdout",
     "output_type": "stream",
     "text": [
      "  (0, 2438)\t0.1727269234969866\n",
      "  (0, 7763)\t0.11281946761216571\n",
      "  (0, 13033)\t0.19423432006987434\n",
      "  (0, 10237)\t0.16059231591328046\n",
      "  (0, 8764)\t0.22708109846346383\n",
      "  (0, 14617)\t0.15151416868595385\n",
      "  (0, 16677)\t0.19842983735418923\n",
      "  (0, 14073)\t0.205956457941733\n",
      "  (0, 13328)\t0.2177400340451317\n",
      "  (0, 17299)\t0.2019755488126334\n",
      "  (0, 17016)\t0.23642216288179602\n",
      "  (0, 13358)\t0.15022036822291404\n",
      "  (0, 11511)\t0.27209420901160897\n",
      "  (0, 11200)\t0.09051396620449952\n",
      "  (0, 17007)\t0.1282251636064218\n",
      "  (0, 15270)\t0.0709833692900418\n",
      "  (0, 4952)\t0.24024658931920426\n",
      "  (0, 14280)\t0.21391560760772346\n",
      "  (0, 3231)\t0.24958765373753639\n",
      "  (0, 16596)\t0.12550744845505796\n",
      "  (0, 14387)\t0.3396344162602317\n",
      "  (0, 5843)\t0.16467965954169428\n",
      "  (0, 3071)\t0.22207581114012026\n",
      "  (0, 3685)\t0.21391560760772346\n",
      "  (0, 5444)\t0.10365929555963475\n",
      "  :\t:\n",
      "  (4807, 17275)\t0.28866712901660546\n",
      "  (4807, 4842)\t0.2471929040013495\n",
      "  (4807, 410)\t0.17732764087392294\n",
      "  (4807, 6942)\t0.28866712901660546\n",
      "  (4807, 11671)\t0.21562869602539067\n",
      "  (4807, 1678)\t0.15653010034102868\n",
      "  (4807, 10937)\t0.13509136428761018\n",
      "  (4807, 7482)\t0.11312822232180882\n",
      "  (4807, 3803)\t0.33371131380910507\n",
      "  (4808, 7003)\t0.5699803352373706\n",
      "  (4808, 5374)\t0.22968913544507036\n",
      "  (4808, 3661)\t0.26250487802797257\n",
      "  (4808, 2431)\t0.24001958843725985\n",
      "  (4808, 4615)\t0.24001958843725985\n",
      "  (4808, 6424)\t0.21753429884654715\n",
      "  (4808, 4378)\t0.15383594649941473\n",
      "  (4808, 12998)\t0.16965675358995316\n",
      "  (4808, 1322)\t0.19607891848110867\n",
      "  (4808, 4535)\t0.19504900925583443\n",
      "  (4808, 3442)\t0.21753429884654715\n",
      "  (4808, 6162)\t0.1805717163739769\n",
      "  (4808, 4987)\t0.1607912774644998\n",
      "  (4808, 2135)\t0.3099892404640069\n",
      "  (4808, 4525)\t0.16785410008320537\n",
      "  (4808, 11169)\t0.1786815070359777\n"
     ]
    }
   ],
   "source": [
    "print(feature_vectors)"
   ]
  },
  {
   "cell_type": "markdown",
   "id": "d1a2b440",
   "metadata": {},
   "source": [
    "### Find Similarity Scores"
   ]
  },
  {
   "cell_type": "code",
   "execution_count": 162,
   "id": "94ad4ab4",
   "metadata": {},
   "outputs": [],
   "source": [
    "similarity = cosine_similarity(feature_vectors)"
   ]
  },
  {
   "cell_type": "code",
   "execution_count": 163,
   "id": "3233e86b",
   "metadata": {},
   "outputs": [
    {
     "name": "stdout",
     "output_type": "stream",
     "text": [
      "[[1.         0.0722257  0.03774545 ... 0.         0.         0.        ]\n",
      " [0.0722257  1.         0.03282986 ... 0.03576038 0.         0.        ]\n",
      " [0.03774545 0.03282986 1.         ... 0.         0.05370221 0.        ]\n",
      " ...\n",
      " [0.         0.03576038 0.         ... 1.         0.         0.02651822]\n",
      " [0.         0.         0.05370221 ... 0.         1.         0.        ]\n",
      " [0.         0.         0.         ... 0.02651822 0.         1.        ]]\n",
      "(4809, 4809)\n"
     ]
    }
   ],
   "source": [
    "print(similarity)\n",
    "print(similarity.shape)"
   ]
  },
  {
   "cell_type": "markdown",
   "id": "43ff0121",
   "metadata": {},
   "source": [
    "### Handling User Input"
   ]
  },
  {
   "cell_type": "code",
   "execution_count": 207,
   "id": "a462f499",
   "metadata": {},
   "outputs": [
    {
     "name": "stdout",
     "output_type": "stream",
     "text": [
      "Enter Your Favorite Movie: Iron man\n"
     ]
    }
   ],
   "source": [
    "movie_name = input(\"Enter Your Favorite Movie: \")"
   ]
  },
  {
   "cell_type": "code",
   "execution_count": 280,
   "id": "522ccc89",
   "metadata": {},
   "outputs": [],
   "source": [
    "#List of movies in dataset\n",
    "titles = df['title'].tolist()"
   ]
  },
  {
   "cell_type": "code",
   "execution_count": 209,
   "id": "42158ee8",
   "metadata": {
    "scrolled": true
   },
   "outputs": [
    {
     "name": "stdout",
     "output_type": "stream",
     "text": [
      "['Iron Man', 'Iron Man 3', 'Iron Man 2']\n"
     ]
    }
   ],
   "source": [
    "# find the matches\n",
    "find_close_match = difflib.get_close_matches(movie_name, titles)\n",
    "print (find_close_match)"
   ]
  },
  {
   "cell_type": "code",
   "execution_count": 210,
   "id": "597b7cff",
   "metadata": {},
   "outputs": [
    {
     "name": "stdout",
     "output_type": "stream",
     "text": [
      "Iron Man\n"
     ]
    }
   ],
   "source": [
    "# find the legitimate closest match\n",
    "close_match = find_close_match[0]\n",
    "print (close_match)"
   ]
  },
  {
   "cell_type": "code",
   "execution_count": 213,
   "id": "d9c841fd",
   "metadata": {},
   "outputs": [
    {
     "name": "stdout",
     "output_type": "stream",
     "text": [
      "69\n"
     ]
    }
   ],
   "source": [
    "#get the index of the movie\n",
    "the_index = df[df.title == close_match].index[0]\n",
    "print (the_index)"
   ]
  },
  {
   "cell_type": "markdown",
   "id": "91ee2014",
   "metadata": {},
   "source": [
    "### The Algorithm"
   ]
  },
  {
   "cell_type": "code",
   "execution_count": 215,
   "id": "e2738485",
   "metadata": {},
   "outputs": [
    {
     "name": "stdout",
     "output_type": "stream",
     "text": [
      "[(0, 0.03358379103481251), (1, 0.05465009729745318), (2, 0.013743167359589824), (3, 0.006472407458075143), (4, 0.03270206570382855), (5, 0.013914206795630699), (6, 0.07693825481438513), (7, 0.23945283538298054), (8, 0.007886442277287633), (9, 0.0759979593639291), (10, 0.07537428591211721), (11, 0.011932267618466426), (12, 0.013714561024445758), (13, 0.012382423322785168), (14, 0.0965825145754013), (15, 0.007289559360676009), (16, 0.2270554756713479), (17, 0.01311962727035421), (18, 0.04141648041130168), (19, 0.07883371701219326), (20, 0.07981724556148166), (21, 0.011272671062879127), (22, 0.006895558259187204), (23, 0.006602345328342218), (24, 0.012670332970512954), (25, 0.0), (26, 0.21567278301132473), (27, 0.030593877143290968), (28, 0.06453933511362897), (29, 0.0), (30, 0.014054021485629911), (31, 0.0807771825315426), (32, 0.31466830471914936), (33, 0.028786440767309778), (34, 0.13090912583212602), (35, 0.0), (36, 0.03536476251917614), (37, 0.03186639292236786), (38, 0.00802786944436025), (39, 0.11262268882694433), (40, 0.08904071111795228), (41, 0.0080895166085279), (42, 0.06455250931860829), (43, 0.0), (44, 0.054327165443823655), (45, 0.0062483475209216075), (46, 0.023540363798556615), (47, 0.14217356287698046), (48, 0.03718338206289831), (49, 0.01376270808325164), (50, 0.0), (51, 0.012985441638433737), (52, 0.02756844560906281), (53, 0.030338618000885484), (54, 0.02246550968556041), (55, 0.049768503383356234), (56, 0.014130854383770106), (57, 0.03766940344598994), (58, 0.03611803469025314), (59, 0.00656336789462052), (60, 0.031692468674156274), (61, 0.013843875975422812), (62, 0.033486672981297), (63, 0.013299303752566674), (64, 0.007055773820611802), (65, 0.15300235152912364), (66, 0.0059108387953400185), (67, 0.0072009913278582565), (68, 0.028685545162646986), (69, 0.9999999999999999), (70, 0.013040213661153908), (71, 0.03297433627087715), (72, 0.01765642123041454), (73, 0.07118000067328634), (74, 0.0), (75, 0.026065517312687587), (76, 0.012712591177230993), (77, 0.05141339255368593), (78, 0.0), (79, 0.08428107740687284), (80, 0.4089534634567507), (81, 0.008266050263874359), (82, 0.02059276084104691), (83, 0.027360518843540703), (84, 0.034566144016110835), (85, 0.0109016771399746), (86, 0.2061690965221718), (87, 0.006517350866360172), (88, 0.027333597536214976), (89, 0.013144710925474623), (90, 0.006547107082767068), (91, 0.020322620501057976), (92, 0.0732741297042667), (93, 0.01585175733560989), (94, 0.024954791541182058), (95, 0.13617781952222954), (96, 0.06253492654753157), (97, 0.03342058653494924), (98, 0.026106138795143046), (99, 0.04906179111298551), (100, 0.00556477315158202), (101, 0.0), (102, 0.14402655076158513), (103, 0.03559806407421555), (104, 0.03700674355562774), (105, 0.01372281699277191), (106, 0.0), (107, 0.008022702570839216), (108, 0.028290406523228354), (109, 0.0334926236796368), (110, 0.005551247929008587), (111, 0.039178741867589656), (112, 0.0354685575482343), (113, 0.013279606133058931), (114, 0.007763777651547869), (115, 0.006992729085298347), (116, 0.005579287140632714), (117, 0.023326748925888513), (118, 0.006977610683120081), (119, 0.0), (120, 0.006099966720084323), (121, 0.0), (122, 0.01262611175445112), (123, 0.10851510087006763), (124, 0.031166512162028516), (125, 0.0067828178111288715), (126, 0.030683081690784136), (127, 0.13264476512116233), (128, 0.035360706639832575), (129, 0.02920993461649216), (130, 0.08101719277104202), (131, 0.0068081981064693), (132, 0.1314645038692472), (133, 0.007031871825406727), (134, 0.0), (135, 0.012676235208955024), (136, 0.0), (137, 0.04236239336554405), (138, 0.0), (139, 0.11846065196093176), (140, 0.012077545706751139), (141, 0.005963828946764585), (142, 0.007394117322114657), (143, 0.008294416884368251), (144, 0.007860605926890352), (145, 0.007663013769347242), (146, 0.006300723342378106), (147, 0.03080506806901602), (148, 0.012094877693145923), (149, 0.005823605883330257), (150, 0.032418010976985566), (151, 0.03236786121900414), (152, 0.02597674258744486), (153, 0.012619441975180787), (154, 0.012534147297499233), (155, 0.0), (156, 0.0), (157, 0.004782244089024854), (158, 0.014114734454902331), (159, 0.03542978045454272), (160, 0.00542633110043188), (161, 0.01350905912313599), (162, 0.0), (163, 0.007054004529748622), (164, 0.050583755959556345), (165, 0.019570967464105825), (166, 0.028673929010935562), (167, 0.06572421569589937), (168, 0.02135099099913864), (169, 0.032013674150331274), (170, 0.13810379720430244), (171, 0.022068073026222473), (172, 0.007051453113735881), (173, 0.02008048909868755), (174, 0.0), (175, 0.14720709445130498), (176, 0.007281281436512102), (177, 0.007020268411802694), (178, 0.0), (179, 0.04407775169730811), (180, 0.007885069031425143), (181, 0.006213459236918766), (182, 0.00784568145861223), (183, 0.19574830242263389), (184, 0.034874490245982936), (185, 0.022476987591528597), (186, 0.06861877727793857), (187, 0.011684706320731746), (188, 0.019956984824379315), (189, 0.005875561822853369), (190, 0.00841449301352953), (191, 0.014315155591347092), (192, 0.007339652651801687), (193, 0.0), (194, 0.035385572646029144), (195, 0.0), (196, 0.007186022371477311), (197, 0.027181347381555313), (198, 0.0077642848847791), (199, 0.08153685694161741), (200, 0.04892082192047344), (201, 0.028796253195822907), (202, 0.02964217585533572), (203, 0.007335068795535492), (204, 0.14819447670643152), (205, 0.005776256403566251), (206, 0.08975048196911573), (207, 0.012372732573149258), (208, 0.047181823796652984), (209, 0.012840393416698185), (210, 0.0059746117440228515), (211, 0.005534239063449432), (212, 0.02741799451298803), (213, 0.033438148435673304), (214, 0.0), (215, 0.014663991985345057), (216, 0.0), (217, 0.01410008646762579), (218, 0.012424930193799553), (219, 0.005599593338064796), (220, 0.0068236044578129365), (221, 0.02955145378540795), (222, 0.024788632376745286), (223, 0.00805720211098797), (224, 0.026856500537652143), (225, 0.02357270582784953), (226, 0.02490483329115758), (227, 0.028903370998511816), (228, 0.0), (229, 0.005712050682096134), (230, 0.03157611814192348), (231, 0.03434675566611014), (232, 0.026370638646956348), (233, 0.0), (234, 0.0), (235, 0.09093214806745274), (236, 0.02754163850622144), (237, 0.007822928780594525), (238, 0.007059484218308104), (239, 0.005838192470517981), (240, 0.012516160277757721), (241, 0.06737298327974114), (242, 0.01807138930743397), (243, 0.013622308524549466), (244, 0.04223165808242181), (245, 0.10631697763456882), (246, 0.013147650752709092), (247, 0.004880954842121709), (248, 0.011584938038374227), (249, 0.005385809729945165), (250, 0.0), (251, 0.006066100281337328), (252, 0.04111587630419357), (253, 0.0), (254, 0.0), (255, 0.005879946963706174), (256, 0.0048551860192900444), (257, 0.035321872141359366), (258, 0.0), (259, 0.040794841472947554), (260, 0.025563309354921623), (261, 0.0), (262, 0.01192705001749555), (263, 0.03310620294857399), (264, 0.006621866306048507), (265, 0.05093134035902966), (266, 0.02596358603727092), (267, 0.021328466760193256), (268, 0.0), (269, 0.026227883248065242), (270, 0.011026142864064937), (271, 0.0), (272, 0.0), (273, 0.056631756236864075), (274, 0.036745060858622926), (275, 0.0), (276, 0.005448584084585806), (277, 0.014378756769337114), (278, 0.02445698889678668), (279, 0.007667415994506724), (280, 0.01340813713997908), (281, 0.06500153020452952), (282, 0.04185956067951626), (283, 0.0), (284, 0.0), (285, 0.005176144726026919), (286, 0.0), (287, 0.013250944413764728), (288, 0.005307068518744958), (289, 0.019138388885097557), (290, 0.0), (291, 0.0), (292, 0.0072894387666677584), (293, 0.013830871819623988), (294, 0.0597084415759526), (295, 0.021840621566251446), (296, 0.0), (297, 0.008143461450432475), (298, 0.00549850811353564), (299, 0.0060588088840498435), (300, 0.0058790869786336415), (301, 0.0), (302, 0.0), (303, 0.005955267825122115), (304, 0.027793209848207552), (305, 0.020738284472327423), (306, 0.007482060414578168), (307, 0.005847587617576957), (308, 0.01263795034187327), (309, 0.02769503385498731), (310, 0.027882109901073957), (311, 0.09363618962543607), (312, 0.004939297534823704), (313, 0.040020398298451984), (314, 0.040109197762250984), (315, 0.033044146569566904), (316, 0.01175218406678028), (317, 0.026759830546133474), (318, 0.0), (319, 0.011829431308724226), (320, 0.041277912721719205), (321, 0.0), (322, 0.07438063870148501), (323, 0.027477406407934862), (324, 0.005803503019584463), (325, 0.0), (326, 0.03472816137825467), (327, 0.0), (328, 0.04589340180914912), (329, 0.01127828705031276), (330, 0.0), (331, 0.0), (332, 0.03376494747859921), (333, 0.05105843926645247), (334, 0.05240307955079844), (335, 0.04967404465869789), (336, 0.061999219445989004), (337, 0.017505146342469396), (338, 0.031359968244678973), (339, 0.025740685136559346), (340, 0.00700311953017421), (341, 0.003789334254432038), (342, 0.0), (343, 0.014309879451874659), (344, 0.016184517155939323), (345, 0.007274183823222038), (346, 0.030567880046570038), (347, 0.0), (348, 0.004797050170671107), (349, 0.03124379474742731), (350, 0.011806257047453441), (351, 0.011677552823748117), (352, 0.007481501212948738), (353, 0.00717173219257092), (354, 0.022608534670874113), (355, 0.0), (356, 0.006989150906772331), (357, 0.11169362928258639), (358, 0.0), (359, 0.006059146503484142), (360, 0.08927940315932667), (361, 0.0), (362, 0.025540671739503504), (363, 0.007312505622105925), (364, 0.01683691884266656), (365, 0.08373826182392007), (366, 0.02786268612328248), (367, 0.019546406716430226), (368, 0.0), (369, 0.030138110019077798), (370, 0.031608470144190534), (371, 0.0), (372, 0.006488779712987243), (373, 0.01081320289011678), (374, 0.036709924662722944), (375, 0.026459498122841485), (376, 0.017888814582553557), (377, 0.021529084114082525), (378, 0.00674214294381312), (379, 0.018136157968253453), (380, 0.024332014519513747), (381, 0.02587578294855494), (382, 0.0), (383, 0.011358280696606778), (384, 0.02458926495398633), (385, 0.007060712416266593), (386, 0.05966313418689159), (387, 0.01253374304028916), (388, 0.02043972035382265), (389, 0.0), (390, 0.024047606768406442), (391, 0.005752529935935511), (392, 0.0), (393, 0.022880239901276613), (394, 0.0), (395, 0.0), (396, 0.00547920189988583), (397, 0.03094796284068037), (398, 0.005818967744773125), (399, 0.0), (400, 0.07315062862759747), (401, 0.0), (402, 0.0), (403, 0.006593049768033863), (404, 0.029443821918549183), (405, 0.08176599096304342), (406, 0.034905422980759535), (407, 0.012462279965227172), (408, 0.0), (409, 0.004496624136625678), (410, 0.0), (411, 0.0), (412, 0.005893601078889661), (413, 0.0), (414, 0.025801030442736864), (415, 0.010318131545229257), (416, 0.03225521550376434), (417, 0.0), (418, 0.020636142182168787), (419, 0.028864684532627423), (420, 0.02746558620465028), (421, 0.0), (422, 0.0), (423, 0.0), (424, 0.029942459407000566), (425, 0.059185803918140885), (426, 0.07488297296740944), (427, 0.019700697677459127), (428, 0.0), (429, 0.013169897388250935), (430, 0.039305725004377054), (431, 0.026037670303914646), (432, 0.0), (433, 0.006119811426015739), (434, 0.0), (435, 0.0), (436, 0.0), (437, 0.01866733750379217), (438, 0.006338306920583988), (439, 0.0), (440, 0.0), (441, 0.0619603374727422), (442, 0.006409045516912802), (443, 0.0), (444, 0.0), (445, 0.03374805573896281), (446, 0.042069856126796194), (447, 0.022188071940725154), (448, 0.01548773667158809), (449, 0.0), (450, 0.0), (451, 0.039166075975592615), (452, 0.006324784834814974), (453, 0.0), (454, 0.02374387976855084), (455, 0.019679733626343524), (456, 0.039250947280756565), (457, 0.0), (458, 0.006045967449102636), (459, 0.017112653105023842), (460, 0.005636876706727276), (461, 0.025877482618913886), (462, 0.05196683710076044), (463, 0.007590992015049653), (464, 0.030910461288859853), (465, 0.06949749819241255), (466, 0.02952119219532974), (467, 0.021987654181909885), (468, 0.0), (469, 0.04205569983498327), (470, 0.0), (471, 0.04489796749399694), (472, 0.015056223457205222), (473, 0.005587932405315109), (474, 0.012110937408405359), (475, 0.020898402324181997), (476, 0.018796800916526777), (477, 0.012902569564320798), (478, 0.019668925169129124), (479, 0.0), (480, 0.025899455509347843), (481, 0.026441365459892282), (482, 0.0), (483, 0.013230274489467495), (484, 0.01633450993461879), (485, 0.026468566390615213), (486, 0.0), (487, 0.0), (488, 0.04524519904616704), (489, 0.0066608577394396086), (490, 0.006744585835581242), (491, 0.012785309004574537), (492, 0.030889104942371466), (493, 0.013406765329300978), (494, 0.0), (495, 0.03230955954071091), (496, 0.01155062407343422), (497, 0.0), (498, 0.02796344052545254), (499, 0.00676062394281956), (500, 0.03341359701879803), (501, 0.0), (502, 0.0), (503, 0.006872670472554934), (504, 0.0), (505, 0.005451380405184821), (506, 0.07757771990467739), (507, 0.015499985819406122), (508, 0.030436701142140213), (509, 0.017700034571463075), (510, 0.02496393619084683), (511, 0.0), (512, 0.05660249576828697), (513, 0.05802900628581529), (514, 0.0), (515, 0.02534982144695181), (516, 0.16703969161979648), (517, 0.00607967274357958), (518, 0.010927641845805497), (519, 0.0056759038143473104), (520, 0.0), (521, 0.0), (522, 0.0), (523, 0.015181689410881955), (524, 0.0), (525, 0.0), (526, 0.0), (527, 0.0), (528, 0.013488489241064848), (529, 0.0), (530, 0.01676156754275161), (531, 0.0), (532, 0.0), (533, 0.004294516118332432), (534, 0.005137488669685569), (535, 0.020673768131055828), (536, 0.012252148680901284), (537, 0.0), (538, 0.0), (539, 0.006585161294267797), (540, 0.012194977390821865), (541, 0.0386327677053531), (542, 0.0055593530401222445), (543, 0.0), (544, 0.044748901150721235), (545, 0.01715025870012302), (546, 0.02050322786057155), (547, 0.023480869459808342), (548, 0.011143376526725092), (549, 0.01313911973039466), (550, 0.04506193809428876), (551, 0.043972003478178354), (552, 0.005914352650060842), (553, 0.0), (554, 0.017705959368606587), (555, 0.0), (556, 0.007251060236275042), (557, 0.0), (558, 0.0058333248566447065), (559, 0.0), (560, 0.0), (561, 0.004906078793422889), (562, 0.0), (563, 0.0), (564, 0.0), (565, 0.018139356860916837), (566, 0.005256167226397689), (567, 0.027319759252087416), (568, 0.0), (569, 0.03678479738751601), (570, 0.008105678134856518), (571, 0.006762519576009107), (572, 0.0), (573, 0.01279385407629243), (574, 0.007853530386652105), (575, 0.03285862954145336), (576, 0.0053114728582366036), (577, 0.007442509579868171), (578, 0.0060427938378642835), (579, 0.050223995203904914), (580, 0.020003316523882063), (581, 0.0), (582, 0.03065429560435375), (583, 0.016787485790734028), (584, 0.004305988042416619), (585, 0.005438963559012724), (586, 0.029653903154380032), (587, 0.02435941038278797), (588, 0.014514074619874483), (589, 0.0), (590, 0.0), (591, 0.005012404431079147), (592, 0.034796294657215565), (593, 0.0), (594, 0.005708476609694973), (595, 0.005534056176755718), (596, 0.022057403040811597), (597, 0.006637261498312933), (598, 0.02759610743701125), (599, 0.013414704219344417), (600, 0.011986262831823585), (601, 0.013703156103758198), (602, 0.00570371772154496), (603, 0.0), (604, 0.05853845783940598), (605, 0.031152099884762887), (606, 0.027871880843023604), (607, 0.014679830608902144), (608, 0.0), (609, 0.012983464521797213), (610, 0.0), (611, 0.0), (612, 0.1138784327140752), (613, 0.0), (614, 0.026667314702788773), (615, 0.01194223391588311), (616, 0.005174078292881677), (617, 0.02236933375338429), (618, 0.01800798979890659), (619, 0.0), (620, 0.017257824116146646), (621, 0.0), (622, 0.0067170508336919805), (623, 0.10255891889047697), (624, 0.0), (625, 0.0), (626, 0.005186353993075281), (627, 0.0058375272577120855), (628, 0.0), (629, 0.005101593431612458), (630, 0.02255539964820211), (631, 0.022256396387490378), (632, 0.009955944226475687), (633, 0.0), (634, 0.004731178334561567), (635, 0.0), (636, 0.05438906121595427), (637, 0.02093930599352434), (638, 0.0), (639, 0.024815719354847013), (640, 0.0298481530939464), (641, 0.0), (642, 0.0), (643, 0.0), (644, 0.017188326306380196), (645, 0.012739387122516039), (646, 0.07252370061544237), (647, 0.0), (648, 0.013120972246695659), (649, 0.020735179931231713), (650, 0.013626378114489138), (651, 0.03387121757594269), (652, 0.0), (653, 0.0), (654, 0.0), (655, 0.0), (656, 0.0), (657, 0.012378176573574463), (658, 0.005681031172989741), (659, 0.06894663873777068), (660, 0.006132256717880906), (661, 0.0), (662, 0.026508946785692288), (663, 0.024476342742821944), (664, 0.005777638555511861), (665, 0.01691825131392239), (666, 0.11728927297261048), (667, 0.0), (668, 0.0), (669, 0.051855546132729434), (670, 0.02598937611408524), (671, 0.0), (672, 0.0), (673, 0.03483525921013734), (674, 0.014388683053730105), (675, 0.017026939147557225), (676, 0.00696934042169873), (677, 0.0), (678, 0.014871815703249348), (679, 0.07435475790577313), (680, 0.056735956127467055), (681, 0.01257654755032164), (682, 0.005492438630526461), (683, 0.015149792511782858), (684, 0.0), (685, 0.05897789638584043), (686, 0.0), (687, 0.0), (688, 0.01194945718450513), (689, 0.0), (690, 0.02808242326175754), (691, 0.0), (692, 0.012621078943395087), (693, 0.012866185327542749), (694, 0.0), (695, 0.0), (696, 0.01216261049699822), (697, 0.0), (698, 0.0), (699, 0.005475603030550189), (700, 0.011550287467462818), (701, 0.0), (702, 0.0), (703, 0.008187799350244704), (704, 0.026348448601221687), (705, 0.03541165340139777), (706, 0.02336704845593507), (707, 0.005853163914326013), (708, 0.01212161594813918), (709, 0.007606502072519578), (710, 0.06359367571581609), (711, 0.022032371650288055), (712, 0.007732204189636601), (713, 0.005210260510557818), (714, 0.0), (715, 0.0), (716, 0.02252140689363006), (717, 0.0), (718, 0.027288417788141426), (719, 0.0), (720, 0.015626859676598742), (721, 0.01844513688668628), (722, 0.0), (723, 0.020286648026363967), (724, 0.0), (725, 0.10087758630232754), (726, 0.006971662667324801), (727, 0.0), (728, 0.01654780832995571), (729, 0.005627849180996879), (730, 0.07243406917842027), (731, 0.04201466176749485), (732, 0.0), (733, 0.05329677554632904), (734, 0.013111361673427427), (735, 0.0064265149153715515), (736, 0.014200588505289906), (737, 0.03705476198057801), (738, 0.03332190172459581), (739, 0.019577580769315452), (740, 0.032507624005172014), (741, 0.004985283481990654), (742, 0.00571178873746078), (743, 0.014658211292523813), (744, 0.005327490795527355), (745, 0.026820312242176274), (746, 0.005416758130931453), (747, 0.0), (748, 0.0), (749, 0.01290834220777021), (750, 0.0053471250426758874), (751, 0.01155755392432915), (752, 0.005818751238421598), (753, 0.008027694017266048), (754, 0.0), (755, 0.007336253287674832), (756, 0.0), (757, 0.03990626638058614), (758, 0.005820681631727404), (759, 0.023190125544332984), (760, 0.033213724270447366), (761, 0.016716753072461094), (762, 0.013865549734693493), (763, 0.0), (764, 0.0), (765, 0.0146125731478372), (766, 0.03798532206702314), (767, 0.0059540754789341455), (768, 0.07476112718520164), (769, 0.013900005431028664), (770, 0.0), (771, 0.0), (772, 0.013411772928058292), (773, 0.025685759987268957), (774, 0.009977347040579619), (775, 0.01899735052465252), (776, 0.016522529552591068), (777, 0.0), (778, 0.014955410965204852), (779, 0.022594309737282214), (780, 0.02995082406468461), (781, 0.0), (782, 0.025547594694156187), (783, 0.027743277465392818), (784, 0.0), (785, 0.022082638132751773), (786, 0.013982892823520885), (787, 0.05414636984645264), (788, 0.12179424645113486), (789, 0.014246091144648275), (790, 0.0076680603480040925), (791, 0.01436781762425174), (792, 0.004816574031189108), (793, 0.13306296202813855), (794, 0.05680065226705744), (795, 0.005512721224201526), (796, 0.008467296696943577), (797, 0.0), (798, 0.020768456875432554), (799, 0.010672116416510467), (800, 0.0), (801, 0.0), (802, 0.02520746689847593), (803, 0.0), (804, 0.029853759347123855), (805, 0.09504221063474952), (806, 0.0), (807, 0.0), (808, 0.0), (809, 0.005798202906741719), (810, 0.0657921671468352), (811, 0.0), (812, 0.005967655238340634), (813, 0.013193285515381695), (814, 0.011218506598970227), (815, 0.0), (816, 0.01290215914885307), (817, 0.007409098863370029), (818, 0.03186885615889615), (819, 0.018289420484331614), (820, 0.0), (821, 0.00786845267960579), (822, 0.0), (823, 0.0059588145557292515), (824, 0.0), (825, 0.0), (826, 0.00554984313320536), (827, 0.0), (828, 0.005699352781006256), (829, 0.0), (830, 0.01212494629480825), (831, 0.0), (832, 0.0), (833, 0.005947050890009494), (834, 0.0), (835, 0.005050230089617396), (836, 0.011194473474494118), (837, 0.009512557537643088), (838, 0.05109183382878102), (839, 0.013549132146334651), (840, 0.0), (841, 0.012019702449709738), (842, 0.0), (843, 0.027143667806145737), (844, 0.0), (845, 0.06870246425405051), (846, 0.008114431173343253), (847, 0.008583362988598936), (848, 0.0), (849, 0.005685043544799594), (850, 0.050616484298696966), (851, 0.0), (852, 0.0), (853, 0.008129933036592141), (854, 0.0), (855, 0.02529171463560973), (856, 0.010803374083076673), (857, 0.0), (858, 0.0), (859, 0.02299414880425062), (860, 0.03379055131151252), (861, 0.01751762165164699), (862, 0.0), (863, 0.007916068724036843), (864, 0.011522970655574751), (865, 0.0), (866, 0.0), (867, 0.01633333726804435), (868, 0.005939141336986017), (869, 0.03611258571494906), (870, 0.0), (871, 0.006434631809020153), (872, 0.0), (873, 0.0), (874, 0.0), (875, 0.09575387541133139), (876, 0.0), (877, 0.0), (878, 0.04974189231550949), (879, 0.006913880997733501), (880, 0.0), (881, 0.0), (882, 0.0), (883, 0.029920119017316137), (884, 0.0), (885, 0.017830136899283415), (886, 0.0), (887, 0.0885428868909973), (888, 0.0), (889, 0.0), (890, 0.0713605068261141), (891, 0.0), (892, 0.0), (893, 0.012885329833582362), (894, 0.03786110870145998), (895, 0.0), (896, 0.0), (897, 0.013237266046705668), (898, 0.005371148293765565), (899, 0.005070810082786201), (900, 0.014707623430399757), (901, 0.0), (902, 0.0), (903, 0.02143848205502523), (904, 0.007794377806679962), (905, 0.021568094756326664), (906, 0.0064402304866626875), (907, 0.020952692683866504), (908, 0.0), (909, 0.021811053194517926), (910, 0.0), (911, 0.0), (912, 0.0), (913, 0.021720231559371084), (914, 0.0), (915, 0.0), (916, 0.0475225223854431), (917, 0.0), (918, 0.0), (919, 0.00510237942442456), (920, 0.0), (921, 0.0), (922, 0.0), (923, 0.0), (924, 0.006097711333087134), (925, 0.03119200157265149), (926, 0.0), (927, 0.03273221096709543), (928, 0.0), (929, 0.0), (930, 0.0), (931, 0.0), (932, 0.0), (933, 0.0), (934, 0.04171731744012604), (935, 0.005205356950213161), (936, 0.028467216075830352), (937, 0.00417337574432926), (938, 0.013089326340411845), (939, 0.006339001598039659), (940, 0.0077164395633480334), (941, 0.0), (942, 0.00524218028673759), (943, 0.0), (944, 0.027439735454250744), (945, 0.08757476449319457), (946, 0.004989755813553704), (947, 0.007876063611423472), (948, 0.0), (949, 0.0), (950, 0.08346751826571243), (951, 0.0), (952, 0.0), (953, 0.02545329087982252), (954, 0.022314063445136093), (955, 0.011674115205654114), (956, 0.005585031611908165), (957, 0.006252734174693837), (958, 0.04465053321712781), (959, 0.09865393222063054), (960, 0.005220653902417838), (961, 0.049386920682994495), (962, 0.0), (963, 0.0), (964, 0.004961710102862436), (965, 0.08228544236715761), (966, 0.006653136099441895), (967, 0.0), (968, 0.005110155272673468), (969, 0.0), (970, 0.028583580055279043), (971, 0.0), (972, 0.0274917195603994), (973, 0.0), (974, 0.012288656405017095), (975, 0.0), (976, 0.0), (977, 0.03409877759260414), (978, 0.005088594693089815), (979, 0.02173454033146122), (980, 0.0), (981, 0.03554355593004394), (982, 0.04556042022440935), (983, 0.007398858705378762), (984, 0.00581474652089053), (985, 0.0), (986, 0.0057955302818096304), (987, 0.005775952318484792), (988, 0.0), (989, 0.014524968936282787), (990, 0.015058284717181219), (991, 0.0), (992, 0.0), (993, 0.018147856741878347), (994, 0.012091649488708025), (995, 0.02181122035888488), (996, 0.0), (997, 0.005519516590566781), (998, 0.0059194305742688354), (999, 0.021171773100741302), (1000, 0.0), (1001, 0.02186222217155122), (1002, 0.0), (1003, 0.0), (1004, 0.015240473776500393), (1005, 0.005569699076140875), (1006, 0.030027910564011544), (1007, 0.027350081190101697), (1008, 0.004856789750211259), (1009, 0.0), (1010, 0.031955982983943934), (1011, 0.011791231019265904), (1012, 0.0), (1013, 0.01850832729556071), (1014, 0.0), (1015, 0.0), (1016, 0.0), (1017, 0.01414563755547027), (1018, 0.0), (1019, 0.027457852492097867), (1020, 0.08303398334835582), (1021, 0.04945602378138493), (1022, 0.0), (1023, 0.004090757312329131), (1024, 0.0), (1025, 0.006298000960365368), (1026, 0.0), (1027, 0.0), (1028, 0.0), (1029, 0.04722879406497518), (1030, 0.0), (1031, 0.0), (1032, 0.012728935678816191), (1033, 0.0236680162374834), (1034, 0.07915753050685805), (1035, 0.0), (1036, 0.0), (1037, 0.0), (1038, 0.0), (1039, 0.030921312333265297), (1040, 0.0058984830642274865), (1041, 0.0), (1042, 0.0), (1043, 0.0), (1044, 0.04129928026127054), (1045, 0.0), (1046, 0.0558517129967693), (1047, 0.0), (1048, 0.005610422265072174), (1049, 0.029665970072600363), (1050, 0.0), (1051, 0.0), (1052, 0.0), (1053, 0.0), (1054, 0.005338627820694305), (1055, 0.013082132934539052), (1056, 0.0), (1057, 0.03506252719522039), (1058, 0.020711868098391144), (1059, 0.0), (1060, 0.03982423059901145), (1061, 0.005083221123052665), (1062, 0.012858847361742375), (1063, 0.026625473621370847), (1064, 0.02861179265973142), (1065, 0.0), (1066, 0.0), (1067, 0.006982390048795448), (1068, 0.0), (1069, 0.004590984247271723), (1070, 0.0), (1071, 0.0), (1072, 0.010909826891946216), (1073, 0.02822253893169124), (1074, 0.0), (1075, 0.026533025410289665), (1076, 0.0), (1077, 0.007252808717008327), (1078, 0.01360441453117724), (1079, 0.007622513257101747), (1080, 0.0), (1081, 0.013660699167715317), (1082, 0.010539787452871187), (1083, 0.00746763694786234), (1084, 0.029730808767428275), (1085, 0.007550678209485437), (1086, 0.0), (1087, 0.011161543470286226), (1088, 0.034447188899689674), (1089, 0.012928975398896144), (1090, 0.016803613848040657), (1091, 0.048089389470547174), (1092, 0.0), (1093, 0.0), (1094, 0.013365021033511247), (1095, 0.012880936745766899), (1096, 0.0), (1097, 0.023364763903958294), (1098, 0.031408184737389475), (1099, 0.0), (1100, 0.004940527715603377), (1101, 0.005328131349776764), (1102, 0.036313998162687544), (1103, 0.0), (1104, 0.008462572523232657), (1105, 0.012448294812185762), (1106, 0.005284321406811553), (1107, 0.0), (1108, 0.012428659068847901), (1109, 0.005200700652421313), (1110, 0.01274220288704471), (1111, 0.012087028005476239), (1112, 0.0), (1113, 0.0), (1114, 0.004810022745412834), (1115, 0.024662962526528043), (1116, 0.01656273319757013), (1117, 0.0), (1118, 0.0), (1119, 0.006523484120820847), (1120, 0.0), (1121, 0.0), (1122, 0.0), (1123, 0.005952654067132047), (1124, 0.03280023388731574), (1125, 0.0), (1126, 0.0), (1127, 0.0), (1128, 0.0), (1129, 0.011950217243093681), (1130, 0.0), (1131, 0.0), (1132, 0.0), (1133, 0.06296011836729651), (1134, 0.0), (1135, 0.0), (1136, 0.02528138631190497), (1137, 0.0), (1138, 0.021250258904290092), (1139, 0.0), (1140, 0.007111566946704309), (1141, 0.08291609305485043), (1142, 0.011393800063811963), (1143, 0.005404964198905511), (1144, 0.004839773533620387), (1145, 0.013143053998891156), (1146, 0.004860204366577101), (1147, 0.0), (1148, 0.005996100518111516), (1149, 0.013810272143951533), (1150, 0.005964105383367407), (1151, 0.0), (1152, 0.0052469931340789035), (1153, 0.0), (1154, 0.0), (1155, 0.0), (1156, 0.0), (1157, 0.0), (1158, 0.05373080624749916), (1159, 0.0187820979099174), (1160, 0.0), (1161, 0.04121439864395398), (1162, 0.0), (1163, 0.016482552972200564), (1164, 0.005650820413884349), (1165, 0.020649647617246417), (1166, 0.0), (1167, 0.0), (1168, 0.0), (1169, 0.0), (1170, 0.0), (1171, 0.06459393369847771), (1172, 0.0), (1173, 0.0), (1174, 0.0), (1175, 0.0), (1176, 0.08173842140289218), (1177, 0.025104917967568585), (1178, 0.013723338964663084), (1179, 0.014433498570807196), (1180, 0.005038976943441921), (1181, 0.01229344283892818), (1182, 0.0), (1183, 0.03906217243821314), (1184, 0.00602359389419227), (1185, 0.0), (1186, 0.07102911356868875), (1187, 0.0), (1188, 0.0), (1189, 0.0070148462513018785), (1190, 0.020857433908160552), (1191, 0.0), (1192, 0.0), (1193, 0.0), (1194, 0.005398078243969383), (1195, 0.0), (1196, 0.0), (1197, 0.029580649146828807), (1198, 0.09330758836455737), (1199, 0.018085771040070288), (1200, 0.0), (1201, 0.005534095821322234), (1202, 0.0), (1203, 0.0), (1204, 0.026208398051984362), (1205, 0.011402424880655192), (1206, 0.05662672480066616), (1207, 0.030156322018842073), (1208, 0.008739505678760254), (1209, 0.0), (1210, 0.0), (1211, 0.0), (1212, 0.0), (1213, 0.0), (1214, 0.0), (1215, 0.032875457230673144), (1216, 0.09912074720182011), (1217, 0.0), (1218, 0.006107918162048458), (1219, 0.055490193437266466), (1220, 0.006331996833172956), (1221, 0.0), (1222, 0.0), (1223, 0.0239227671712414), (1224, 0.0), (1225, 0.0), (1226, 0.0), (1227, 0.0), (1228, 0.017173659024402984), (1229, 0.0), (1230, 0.0), (1231, 0.0), (1232, 0.0), (1233, 0.0), (1234, 0.0), (1235, 0.0), (1236, 0.069483884162823), (1237, 0.0), (1238, 0.022560072845534785), (1239, 0.056629336539113895), (1240, 0.013010614335571286), (1241, 0.0), (1242, 0.0), (1243, 0.028451165546293223), (1244, 0.019752183735121245), (1245, 0.013196309837889199), (1246, 0.0), (1247, 0.0), (1248, 0.0), (1249, 0.011819560257132355), (1250, 0.01935859055751121), (1251, 0.006041755168979286), (1252, 0.0), (1253, 0.03528078824106031), (1254, 0.008902451856790871), (1255, 0.04334405018599467), (1256, 0.03155462909529321), (1257, 0.010720328845676004), (1258, 0.0), (1259, 0.007520405897739432), (1260, 0.005907473157949539), (1261, 0.0), (1262, 0.014462488308751568), (1263, 0.007928483775241241), (1264, 0.0), (1265, 0.03223777749184718), (1266, 0.0), (1267, 0.0), (1268, 0.0), (1269, 0.007056748419834757), (1270, 0.0), (1271, 0.0), (1272, 0.012762530376931017), (1273, 0.007862506974476647), (1274, 0.0), (1275, 0.024767131339539804), (1276, 0.02253661743746299), (1277, 0.023917712047519503), (1278, 0.04394305918117342), (1279, 0.014260376099957828), (1280, 0.08215857563583176), (1281, 0.019318596635662256), (1282, 0.0), (1283, 0.06339834970222372), (1284, 0.006528890858719851), (1285, 0.013037175038269006), (1286, 0.0), (1287, 0.0050611062195990795), (1288, 0.08890899902328313), (1289, 0.016565566903470143), (1290, 0.0059172348766619275), (1291, 0.028847475934103015), (1292, 0.020582708067540516), (1293, 0.00732281038957336), (1294, 0.040074320485228174), (1295, 0.006209714269994914), (1296, 0.01187017221127231), (1297, 0.04784313229966659), (1298, 0.0), (1299, 0.0), (1300, 0.03245169175640741), (1301, 0.0), (1302, 0.026503184396046955), (1303, 0.034454363357215544), (1304, 0.010876926023349219), (1305, 0.020657814178397266), (1306, 0.01303603976197389), (1307, 0.0), (1308, 0.027074102540891768), (1309, 0.031602842694180615), (1310, 0.00396538364707547), (1311, 0.012879179432911544), (1312, 0.008852029041802349), (1313, 0.0), (1314, 0.0), (1315, 0.0), (1316, 0.005066975124004658), (1317, 0.06810457478744296), (1318, 0.0), (1319, 0.0), (1320, 0.0), (1321, 0.0), (1322, 0.0), (1323, 0.06892840741916681), (1324, 0.019268497180889303), (1325, 0.02533134521307039), (1326, 0.013798497449100257), (1327, 0.0059768261465005116), (1328, 0.015284603338702258), (1329, 0.0), (1330, 0.03659052158668845), (1331, 0.0), (1332, 0.0258681447866419), (1333, 0.0), (1334, 0.021032358241019015), (1335, 0.0), (1336, 0.0), (1337, 0.015128613510442174), (1338, 0.029131349094640886), (1339, 0.0), (1340, 0.005506892843944472), (1341, 0.02423004641194446), (1342, 0.021724430282194146), (1343, 0.02028841036655707), (1344, 0.011872692687809334), (1345, 0.005753893771410106), (1346, 0.0), (1347, 0.015960857688946384), (1348, 0.006174028911816367), (1349, 0.012047925254080594), (1350, 0.0267347839911446), (1351, 0.022118792244121603), (1352, 0.0), (1353, 0.005425946749740898), (1354, 0.0), (1355, 0.0), (1356, 0.0), (1357, 0.0), (1358, 0.019438155962198424), (1359, 0.0), (1360, 0.024383172557048496), (1361, 0.0), (1362, 0.0), (1363, 0.006818528560115775), (1364, 0.047435442930652084), (1365, 0.005133205836333099), (1366, 0.0), (1367, 0.011994838188096702), (1368, 0.0), (1369, 0.02454527605654611), (1370, 0.0), (1371, 0.06577069822293113), (1372, 0.0), (1373, 0.04644599470457412), (1374, 0.09415151095889683), (1375, 0.012560806495029256), (1376, 0.02493139191849262), (1377, 0.0), (1378, 0.0), (1379, 0.0), (1380, 0.0), (1381, 0.007560977944730419), (1382, 0.0), (1383, 0.027140838982462168), (1384, 0.0), (1385, 0.018735758109507478), (1386, 0.013233448486808012), (1387, 0.0), (1388, 0.008694590215513054), (1389, 0.023307079996905646), (1390, 0.0), (1391, 0.0), (1392, 0.0), (1393, 0.02395022218691819), (1394, 0.0), (1395, 0.0), (1396, 0.035004314533349117), (1397, 0.0), (1398, 0.04320845242799081), (1399, 0.0), (1400, 0.0), (1401, 0.026002851090835503), (1402, 0.03943916819948205), (1403, 0.0), (1404, 0.045266257728892326), (1405, 0.026879524498204882), (1406, 0.0), (1407, 0.0), (1408, 0.007673694218107677), (1409, 0.0), (1410, 0.010288826783881617), (1411, 0.0), (1412, 0.09571027711103064), (1413, 0.0), (1414, 0.0), (1415, 0.0), (1416, 0.0), (1417, 0.0), (1418, 0.020356344116687002), (1419, 0.0), (1420, 0.0), (1421, 0.01832007068896327), (1422, 0.0), (1423, 0.006438878816178259), (1424, 0.0), (1425, 0.01871662499184771), (1426, 0.0), (1427, 0.0), (1428, 0.020751084169172707), (1429, 0.0), (1430, 0.0), (1431, 0.02448983942311571), (1432, 0.007564247683409314), (1433, 0.0), (1434, 0.08051895239797502), (1435, 0.0), (1436, 0.0), (1437, 0.0053000240696854245), (1438, 0.005777755517327859), (1439, 0.006585553028422261), (1440, 0.028469549443268204), (1441, 0.0), (1442, 0.016674891033646475), (1443, 0.005057086362124496), (1444, 0.01188049626337952), (1445, 0.03929127097412034), (1446, 0.03002816106128477), (1447, 0.0), (1448, 0.0), (1449, 0.005435741294485654), (1450, 0.0), (1451, 0.035842828921062636), (1452, 0.03855015687434253), (1453, 0.012438250600074318), (1454, 0.006075918243867772), (1455, 0.0), (1456, 0.005240521137979163), (1457, 0.10785285300421397), (1458, 0.020574468299717028), (1459, 0.00506648272668748), (1460, 0.0), (1461, 0.0), (1462, 0.03555739125737069), (1463, 0.005520984248021952), (1464, 0.0), (1465, 0.07353243568966132), (1466, 0.007558189236759169), (1467, 0.0), (1468, 0.0), (1469, 0.005039424077424774), (1470, 0.0), (1471, 0.024595451859011422), (1472, 0.0), (1473, 0.015700785174313135), (1474, 0.0275060158208436), (1475, 0.03610061148184074), (1476, 0.0056631956012144664), (1477, 0.0), (1478, 0.019265050269062427), (1479, 0.019143586228302954), (1480, 0.01652976815476142), (1481, 0.0), (1482, 0.0), (1483, 0.0), (1484, 0.0), (1485, 0.006451433745871157), (1486, 0.04124759912381489), (1487, 0.013695862180906402), (1488, 0.06097656421422635), (1489, 0.0), (1490, 0.054000853960999226), (1491, 0.0), (1492, 0.00566330446393589), (1493, 0.0), (1494, 0.021297396616075277), (1495, 0.0), (1496, 0.034007131115501986), (1497, 0.024378422849036914), (1498, 0.0), (1499, 0.0), (1500, 0.06450011774508117), (1501, 0.05217781363199192), (1502, 0.027395332595852858), (1503, 0.0), (1504, 0.0), (1505, 0.0), (1506, 0.005582738344784478), (1507, 0.0), (1508, 0.05758892581417895), (1509, 0.007035893120141647), (1510, 0.013038530943996507), (1511, 0.006156387774384355), (1512, 0.02170884912063984), (1513, 0.028268398178092805), (1514, 0.0), (1515, 0.008250445215859386), (1516, 0.005721751237211448), (1517, 0.0), (1518, 0.0), (1519, 0.005094166323605303), (1520, 0.005807581482617479), (1521, 0.00582822493806448), (1522, 0.0), (1523, 0.020601193353516144), (1524, 0.029985101209943847), (1525, 0.0), (1526, 0.0), (1527, 0.0), (1528, 0.0), (1529, 0.0), (1530, 0.009091720273929429), (1531, 0.013632174734805536), (1532, 0.0), (1533, 0.0), (1534, 0.006458342043876052), (1535, 0.01341330516299245), (1536, 0.01525020272506515), (1537, 0.027061582067437195), (1538, 0.0), (1539, 0.0), (1540, 0.019910870730083113), (1541, 0.021744927268082574), (1542, 0.0), (1543, 0.0), (1544, 0.005022436680587183), (1545, 0.020388709788462273), (1546, 0.0), (1547, 0.0), (1548, 0.03601930675521632), (1549, 0.0), (1550, 0.0), (1551, 0.0), (1552, 0.014269209319641584), (1553, 0.021511907538405192), (1554, 0.0), (1555, 0.0), (1556, 0.0070340961405164935), (1557, 0.011152859665812356), (1558, 0.0), (1559, 0.10797253395829721), (1560, 0.01811477740548334), (1561, 0.0), (1562, 0.0), (1563, 0.0), (1564, 0.010320563842019077), (1565, 0.0), (1566, 0.0), (1567, 0.0), (1568, 0.007171788108780766), (1569, 0.0), (1570, 0.0070255652222511004), (1571, 0.0), (1572, 0.0), (1573, 0.0), (1574, 0.023862402626344918), (1575, 0.027020963319522136), (1576, 0.0), (1577, 0.0), (1578, 0.0), (1579, 0.08334486837037304), (1580, 0.0), (1581, 0.01898022878299347), (1582, 0.0), (1583, 0.019043444024213443), (1584, 0.0), (1585, 0.0), (1586, 0.00870568362133811), (1587, 0.0), (1588, 0.0), (1589, 0.03332466044612905), (1590, 0.0), (1591, 0.0), (1592, 0.013536476593005314), (1593, 0.0074686819695009), (1594, 0.019970320628943997), (1595, 0.020629946754247074), (1596, 0.0), (1597, 0.0), (1598, 0.0054087202622618005), (1599, 0.0), (1600, 0.0), (1601, 0.021441407558856887), (1602, 0.027498026557201537), (1603, 0.0070556382026567025), (1604, 0.0), (1605, 0.0), (1606, 0.016614161210743442), (1607, 0.024157730987927707), (1608, 0.00788239086140206), (1609, 0.0), (1610, 0.044872105554865115), (1611, 0.0), (1612, 0.016394208042210534), (1613, 0.017565067677271125), (1614, 0.0213217519101637), (1615, 0.0), (1616, 0.013183095380432625), (1617, 0.019629971332624462), (1618, 0.0), (1619, 0.0), (1620, 0.0), (1621, 0.013114348305272524), (1622, 0.00513592743474969), (1623, 0.033127669370603297), (1624, 0.0), (1625, 0.0), (1626, 0.0), (1627, 0.0), (1628, 0.0), (1629, 0.0), (1630, 0.0), (1631, 0.023946712908649588), (1632, 0.004882080649057328), (1633, 0.0), (1634, 0.013792151901509427), (1635, 0.0), (1636, 0.0), (1637, 0.0), (1638, 0.0), (1639, 0.02634989481769213), (1640, 0.0), (1641, 0.005336427957066669), (1642, 0.03851211139044161), (1643, 0.015645174748958254), (1644, 0.0), (1645, 0.01987899792535519), (1646, 0.0), (1647, 0.04711934265988747), (1648, 0.025529656430597698), (1649, 0.01731482753774047), (1650, 0.022952753502100465), (1651, 0.01235451984453366), (1652, 0.017923419770133488), (1653, 0.0), (1654, 0.0), (1655, 0.038787539367529884), (1656, 0.047126100691680294), (1657, 0.072664687809214), (1658, 0.06816742172773772), (1659, 0.00527734371960506), (1660, 0.06822264970346929), (1661, 0.0), (1662, 0.0), (1663, 0.012261380332414243), (1664, 0.008977823723700719), (1665, 0.0), (1666, 0.0), (1667, 0.0054580109263372934), (1668, 0.0), (1669, 0.01055788994021186), (1670, 0.0665812578329939), (1671, 0.0), (1672, 0.0), (1673, 0.0169730710038972), (1674, 0.0), (1675, 0.005300661553676657), (1676, 0.06236709858740442), (1677, 0.005319617274189046), (1678, 0.011710139813605198), (1679, 0.0), (1680, 0.0), (1681, 0.006537383856103524), (1682, 0.0), (1683, 0.0), (1684, 0.0), (1685, 0.0), (1686, 0.005987077054046932), (1687, 0.0), (1688, 0.007731856380567334), (1689, 0.02355147757151281), (1690, 0.013299445905370355), (1691, 0.0), (1692, 0.011653791496176368), (1693, 0.025516469254904472), (1694, 0.0), (1695, 0.0), (1696, 0.0), (1697, 0.0), (1698, 0.0), (1699, 0.0), (1700, 0.0), (1701, 0.008150863471781716), (1702, 0.04253285589047489), (1703, 0.018530175087985594), (1704, 0.0), (1705, 0.005872881481392032), (1706, 0.0), (1707, 0.024467763824138646), (1708, 0.005499949185346429), (1709, 0.0515844431498782), (1710, 0.0), (1711, 0.0), (1712, 0.0), (1713, 0.005132422254756773), (1714, 0.0), (1715, 0.020194523695110392), (1716, 0.07824241751422352), (1717, 0.0), (1718, 0.03776361876930023), (1719, 0.012960617205037335), (1720, 0.0), (1721, 0.050218843276433174), (1722, 0.0), (1723, 0.0), (1724, 0.0), (1725, 0.0), (1726, 0.06716005325963545), (1727, 0.017480046081962138), (1728, 0.0), (1729, 0.0), (1730, 0.0), (1731, 0.018231513879754534), (1732, 0.005967040129153091), (1733, 0.006384324286582983), (1734, 0.012372299789388485), (1735, 0.0), (1736, 0.0), (1737, 0.0), (1738, 0.0), (1739, 0.006248414890684388), (1740, 0.01872301928304753), (1741, 0.020988038988620172), (1742, 0.0), (1743, 0.0), (1744, 0.011653332453882318), (1745, 0.012878878063163523), (1746, 0.1362471377761577), (1747, 0.005771852217115699), (1748, 0.01842556519553605), (1749, 0.011968250046981006), (1750, 0.0), (1751, 0.0), (1752, 0.0), (1753, 0.005630965048722707), (1754, 0.0), (1755, 0.0), (1756, 0.02960588800460652), (1757, 0.0), (1758, 0.0), (1759, 0.0601058686261462), (1760, 0.0072461003319178), (1761, 0.0), (1762, 0.0), (1763, 0.025838241062179988), (1764, 0.0), (1765, 0.0), (1766, 0.0), (1767, 0.006143737246515576), (1768, 0.021625531260753172), (1769, 0.0), (1770, 0.014710533768627625), (1771, 0.020447050158745803), (1772, 0.0), (1773, 0.0), (1774, 0.0), (1775, 0.022193935008190495), (1776, 0.0), (1777, 0.017027966503431094), (1778, 0.0172866565544908), (1779, 0.017223133439327812), (1780, 0.014930152271832992), (1781, 0.0), (1782, 0.0), (1783, 0.014401393015842829), (1784, 0.0), (1785, 0.0), (1786, 0.07695539255704739), (1787, 0.0), (1788, 0.03281183546147357), (1789, 0.005644011304115899), (1790, 0.0), (1791, 0.012958646346245212), (1792, 0.019878449683564316), (1793, 0.0), (1794, 0.0), (1795, 0.0), (1796, 0.03054731666274709), (1797, 0.0), (1798, 0.005716852743694216), (1799, 0.0), (1800, 0.03481596868078045), (1801, 0.004723751926113999), (1802, 0.0), (1803, 0.007457551259541472), (1804, 0.01253765019067953), (1805, 0.0), (1806, 0.0), (1807, 0.0), (1808, 0.035399384690957776), (1809, 0.0), (1810, 0.0), (1811, 0.0), (1812, 0.0), (1813, 0.018772338776600127), (1814, 0.01706632141235101), (1815, 0.0), (1816, 0.0), (1817, 0.0), (1818, 0.0), (1819, 0.0), (1820, 0.0), (1821, 0.021959767349591694), (1822, 0.0), (1823, 0.004274521601361651), (1824, 0.0), (1825, 0.026440607142007223), (1826, 0.0), (1827, 0.07386516069252032), (1828, 0.006915965388651507), (1829, 0.013543924155907112), (1830, 0.0), (1831, 0.012504017578577553), (1832, 0.026702829331328573), (1833, 0.02873346269429652), (1834, 0.012201847336550897), (1835, 0.0), (1836, 0.0051026486909956145), (1837, 0.0), (1838, 0.0), (1839, 0.0), (1840, 0.0), (1841, 0.0), (1842, 0.012991332007935508), (1843, 0.004412091596017695), (1844, 0.0), (1845, 0.0), (1846, 0.0), (1847, 0.01844894313473714), (1848, 0.0), (1849, 0.0), (1850, 0.006037512803756578), (1851, 0.012774820391850737), (1852, 0.016393745864793884), (1853, 0.013908471104991563), (1854, 0.005157049662441484), (1855, 0.0), (1856, 0.020203414931017613), (1857, 0.012842460756425124), (1858, 0.02681391585531417), (1859, 0.005545892628829215), (1860, 0.012410629465333289), (1861, 0.0), (1862, 0.00627262606007927), (1863, 0.0), (1864, 0.011948470883162834), (1865, 0.0), (1866, 0.006273091221639646), (1867, 0.0), (1868, 0.0), (1869, 0.022540610787281284), (1870, 0.08058071406914984), (1871, 0.039862208262893106), (1872, 0.0), (1873, 0.0), (1874, 0.005837933003998176), (1875, 0.0), (1876, 0.0), (1877, 0.0), (1878, 0.034144479140499805), (1879, 0.0), (1880, 0.05919400883378548), (1881, 0.0), (1882, 0.0), (1883, 0.010371681645880263), (1884, 0.006197054696808887), (1885, 0.0), (1886, 0.028255203163337395), (1887, 0.0), (1888, 0.006713500505647521), (1889, 0.0), (1890, 0.0), (1891, 0.0), (1892, 0.0), (1893, 0.0), (1894, 0.0), (1895, 0.0), (1896, 0.0), (1897, 0.0), (1898, 0.011484418769544903), (1899, 0.0), (1900, 0.006120991628686851), (1901, 0.0), (1902, 0.023095127969150014), (1903, 0.0064552137874054226), (1904, 0.0), (1905, 0.04306728428555351), (1906, 0.0), (1907, 0.0), (1908, 0.020366151316577312), (1909, 0.0), (1910, 0.0), (1911, 0.0), (1912, 0.0), (1913, 0.011671863308298523), (1914, 0.005252991819619447), (1915, 0.0), (1916, 0.005707211352104617), (1917, 0.0), (1918, 0.013434624908599764), (1919, 0.0), (1920, 0.01875733622686452), (1921, 0.012766155204334401), (1922, 0.05767012477962188), (1923, 0.0), (1924, 0.022280865821138054), (1925, 0.016412746293710773), (1926, 0.006234899869988001), (1927, 0.0), (1928, 0.02797568720443739), (1929, 0.0), (1930, 0.0), (1931, 0.029890306242420107), (1932, 0.0), (1933, 0.0), (1934, 0.0), (1935, 0.0), (1936, 0.005175192133008658), (1937, 0.021510578660429026), (1938, 0.04400121738722672), (1939, 0.006389483209607805), (1940, 0.0), (1941, 0.0), (1942, 0.02152780483215403), (1943, 0.007258534492863092), (1944, 0.020159009786520438), (1945, 0.01283357394229575), (1946, 0.0), (1947, 0.0), (1948, 0.0), (1949, 0.01213074789702828), (1950, 0.0), (1951, 0.0), (1952, 0.0), (1953, 0.0), (1954, 0.0), (1955, 0.0), (1956, 0.0052194053929766416), (1957, 0.0), (1958, 0.0), (1959, 0.014038378769702166), (1960, 0.006066471323882139), (1961, 0.004890711229084545), (1962, 0.08773326143126157), (1963, 0.0), (1964, 0.00817115908411869), (1965, 0.02244395395500673), (1966, 0.0), (1967, 0.0), (1968, 0.00779895236772245), (1969, 0.0), (1970, 0.0), (1971, 0.0), (1972, 0.0), (1973, 0.04448442741504539), (1974, 0.02168781507534017), (1975, 0.014414276335810336), (1976, 0.0), (1977, 0.06573726464507113), (1978, 0.07117224047738904), (1979, 0.012454131312819694), (1980, 0.020872290956777843), (1981, 0.01313151971286495), (1982, 0.020150931930366267), (1983, 0.005724145377384374), (1984, 0.052638603781281344), (1985, 0.0), (1986, 0.0), (1987, 0.0), (1988, 0.0), (1989, 0.0), (1990, 0.03237853670220788), (1991, 0.014230160105317727), (1992, 0.03149444306651461), (1993, 0.006524821189227699), (1994, 0.0), (1995, 0.0), (1996, 0.041707911104815976), (1997, 0.005804449409932057), (1998, 0.012315847344360998), (1999, 0.0), (2000, 0.0), (2001, 0.021623635904312648), (2002, 0.0), (2003, 0.018707956604525577), (2004, 0.0), (2005, 0.024102046471123913), (2006, 0.0), (2007, 0.008175451922002525), (2008, 0.023713784997687268), (2009, 0.007325745433440827), (2010, 0.010453434531204503), (2011, 0.0), (2012, 0.0), (2013, 0.03413629872554981), (2014, 0.0), (2015, 0.0), (2016, 0.029643378305840115), (2017, 0.0), (2018, 0.0), (2019, 0.018475034268298905), (2020, 0.0), (2021, 0.01858077421692687), (2022, 0.004183712075648395), (2023, 0.0), (2024, 0.0), (2025, 0.0), (2026, 0.0), (2027, 0.0), (2028, 0.0), (2029, 0.00498006465963776), (2030, 0.02622396115602326), (2031, 0.0), (2032, 0.022449085707434136), (2033, 0.0), (2034, 0.03782963536192598), (2035, 0.006382485379151804), (2036, 0.0), (2037, 0.0), (2038, 0.0), (2039, 0.0), (2040, 0.023447382109389615), (2041, 0.0), (2042, 0.015087073817175787), (2043, 0.014634043611274714), (2044, 0.0), (2045, 0.04916004981192879), (2046, 0.0), (2047, 0.0), (2048, 0.013782323258665295), (2049, 0.03694978252217434), (2050, 0.0718370546445434), (2051, 0.0), (2052, 0.04661503376591862), (2053, 0.02914304243866153), (2054, 0.0), (2055, 0.013018622354446703), (2056, 0.005367611604456356), (2057, 0.0), (2058, 0.0), (2059, 0.0), (2060, 0.005259556476783862), (2061, 0.0067965552322162386), (2062, 0.0), (2063, 0.010801442074388537), (2064, 0.012798155336511595), (2065, 0.0), (2066, 0.03645257204384154), (2067, 0.0), (2068, 0.0), (2069, 0.08009873206569461), (2070, 0.006171624991794245), (2071, 0.0), (2072, 0.0820677941384217), (2073, 0.0), (2074, 0.0), (2075, 0.012310555910486498), (2076, 0.0), (2077, 0.014707171338737099), (2078, 0.0), (2079, 0.0), (2080, 0.005287880065322696), (2081, 0.02923355040212787), (2082, 0.019803236464866748), (2083, 0.025639672750411204), (2084, 0.0), (2085, 0.0), (2086, 0.0), (2087, 0.0), (2088, 0.0), (2089, 0.0), (2090, 0.02483176968441635), (2091, 0.011919371134748113), (2092, 0.007115709577003486), (2093, 0.01948519696739542), (2094, 0.0), (2095, 0.05720988859524726), (2096, 0.0), (2097, 0.0), (2098, 0.0), (2099, 0.03131383643243911), (2100, 0.0), (2101, 0.005901274004914435), (2102, 0.0), (2103, 0.00626003015802026), (2104, 0.0), (2105, 0.0), (2106, 0.0054966089266330325), (2107, 0.033611559157288265), (2108, 0.012732124204880981), (2109, 0.026706626353111586), (2110, 0.0), (2111, 0.0), (2112, 0.0), (2113, 0.04195164543148286), (2114, 0.0), (2115, 0.0), (2116, 0.017589588570298652), (2117, 0.03268166621414504), (2118, 0.02460352536987772), (2119, 0.0), (2120, 0.0352468970424647), (2121, 0.0), (2122, 0.007398542501269051), (2123, 0.0), (2124, 0.0), (2125, 0.0), (2126, 0.0), (2127, 0.007415771675379292), (2128, 0.014639766428417262), (2129, 0.0), (2130, 0.0), (2131, 0.0), (2132, 0.0), (2133, 0.05806700023720224), (2134, 0.0268426550124459), (2135, 0.04443029698919113), (2136, 0.0), (2137, 0.018070959649990607), (2138, 0.0), (2139, 0.0), (2140, 0.0), (2141, 0.0), (2142, 0.011826337520389928), (2143, 0.0), (2144, 0.0625446366374062), (2145, 0.0), (2146, 0.005298561270608534), (2147, 0.0), (2148, 0.005416468367029744), (2149, 0.0), (2150, 0.0), (2151, 0.04113059174077102), (2152, 0.0), (2153, 0.0), (2154, 0.0), (2155, 0.0), (2156, 0.0), (2157, 0.039212713957691506), (2158, 0.017869926215866107), (2159, 0.0), (2160, 0.006219294962201183), (2161, 0.024049110483236186), (2162, 0.021693160593247024), (2163, 0.023292378756597728), (2164, 0.0), (2165, 0.0065061674620472245), (2166, 0.018784033324582103), (2167, 0.011645932311876515), (2168, 0.007933191745965244), (2169, 0.032506181380555554), (2170, 0.04845768219735894), (2171, 0.014494692024363716), (2172, 0.0), (2173, 0.007510769574058372), (2174, 0.0), (2175, 0.005626497372935269), (2176, 0.0), (2177, 0.02866756907172498), (2178, 0.014358808759570824), (2179, 0.0), (2180, 0.013182676938229797), (2181, 0.006699805850195372), (2182, 0.0), (2183, 0.0), (2184, 0.006826162977586942), (2185, 0.021989665681917566), (2186, 0.0), (2187, 0.01649710468970239), (2188, 0.0), (2189, 0.06120315364838052), (2190, 0.004377240150236088), (2191, 0.006818291337578272), (2192, 0.0889536617697528), (2193, 0.0), (2194, 0.006785123727931305), (2195, 0.0), (2196, 0.0), (2197, 0.0), (2198, 0.024505047593626882), (2199, 0.0), (2200, 0.005135742812518987), (2201, 0.005181732297406795), (2202, 0.026814275252762074), (2203, 0.0), (2204, 0.026656945748493897), (2205, 0.0), (2206, 0.005165974118349984), (2207, 0.006671655448268809), (2208, 0.0), (2209, 0.005093672827349887), (2210, 0.0), (2211, 0.04020516241317753), (2212, 0.015645857715918247), (2213, 0.01468092213890828), (2214, 0.0), (2215, 0.016279008907201943), (2216, 0.0), (2217, 0.0), (2218, 0.006205730483603814), (2219, 0.026380446038942938), (2220, 0.0), (2221, 0.0), (2222, 0.012040572496094063), (2223, 0.0), (2224, 0.006155305127472443), (2225, 0.012449947339006664), (2226, 0.021692644626703787), (2227, 0.07189533801839701), (2228, 0.006886964671075453), (2229, 0.0), (2230, 0.019355664118277494), (2231, 0.0), (2232, 0.026700795880743866), (2233, 0.0), (2234, 0.034633430660903276), (2235, 0.01693724071341625), (2236, 0.0), (2237, 0.0), (2238, 0.0), (2239, 0.0), (2240, 0.0), (2241, 0.09830564821960713), (2242, 0.0), (2243, 0.005277909121404419), (2244, 0.0), (2245, 0.0), (2246, 0.0), (2247, 0.0), (2248, 0.0), (2249, 0.0), (2250, 0.005481621431810044), (2251, 0.025452588829982727), (2252, 0.0), (2253, 0.006055388729829725), (2254, 0.0), (2255, 0.0), (2256, 0.013778232315683984), (2257, 0.0), (2258, 0.0), (2259, 0.056822614208520514), (2260, 0.0), (2261, 0.005733477329510769), (2262, 0.0), (2263, 0.0), (2264, 0.017553729735472156), (2265, 0.0), (2266, 0.0), (2267, 0.007512240971846098), (2268, 0.017593460612523013), (2269, 0.01484423741852319), (2270, 0.025243104257466464), (2271, 0.0), (2272, 0.0), (2273, 0.0), (2274, 0.006559444395882091), (2275, 0.0), (2276, 0.03379884273035695), (2277, 0.0), (2278, 0.0), (2279, 0.013395482488445), (2280, 0.013043675007180627), (2281, 0.0), (2282, 0.0), (2283, 0.005569202149928991), (2284, 0.006355171717041637), (2285, 0.0), (2286, 0.0), (2287, 0.0), (2288, 0.0), (2289, 0.0), (2290, 0.0), (2291, 0.07436232565969685), (2292, 0.0), (2293, 0.0), (2294, 0.005438397215813227), (2295, 0.025804537935882516), (2296, 0.0), (2297, 0.004877147151046867), (2298, 0.025906740203627446), (2299, 0.005631359071121407), (2300, 0.006154934816582755), (2301, 0.005794952740600066), (2302, 0.005577644980070519), (2303, 0.0), (2304, 0.007677923274566557), (2305, 0.0), (2306, 0.01870010795961611), (2307, 0.0), (2308, 0.0), (2309, 0.0), (2310, 0.010832506200804894), (2311, 0.0), (2312, 0.0), (2313, 0.0), (2314, 0.013030156548232813), (2315, 0.006290353428136509), (2316, 0.006560781948423799), (2317, 0.0), (2318, 0.0), (2319, 0.0), (2320, 0.031400178296199274), (2321, 0.0), (2322, 0.012026890089127646), (2323, 0.035473164084118415), (2324, 0.0), (2325, 0.0), (2326, 0.02681224053126368), (2327, 0.0), (2328, 0.0), (2329, 0.02169104902800348), (2330, 0.01857567565341743), (2331, 0.0), (2332, 0.05904837452087715), (2333, 0.030009038480500863), (2334, 0.0), (2335, 0.0), (2336, 0.0), (2337, 0.0), (2338, 0.01168192914263578), (2339, 0.0), (2340, 0.03027956642520694), (2341, 0.036167733745393865), (2342, 0.004133670686425604), (2343, 0.0), (2344, 0.010457224571743971), (2345, 0.0), (2346, 0.005018202349831266), (2347, 0.0), (2348, 0.0), (2349, 0.02027373988502167), (2350, 0.014973212106515891), (2351, 0.0), (2352, 0.04016544204802335), (2353, 0.0), (2354, 0.0136298522728923), (2355, 0.02086777520148893), (2356, 0.0), (2357, 0.0), (2358, 0.05871618985182187), (2359, 0.0), (2360, 0.023931248009100445), (2361, 0.0), (2362, 0.0), (2363, 0.009606545096607192), (2364, 0.0), (2365, 0.0), (2366, 0.03386069822554251), (2367, 0.0), (2368, 0.0), (2369, 0.03049071528599507), (2370, 0.050041043572643225), (2371, 0.015548722025737483), (2372, 0.00600194150085282), (2373, 0.0), (2374, 0.0), (2375, 0.0), (2376, 0.0), (2377, 0.005727657864376847), (2378, 0.03070984244337503), (2379, 0.0), (2380, 0.0), (2381, 0.05653799372129191), (2382, 0.0), (2383, 0.0), (2384, 0.0), (2385, 0.0), (2386, 0.025949846852151084), (2387, 0.020405338508084826), (2388, 0.0), (2389, 0.020559923264331634), (2390, 0.0), (2391, 0.0), (2392, 0.0054400590616223675), (2393, 0.036420369550015805), (2394, 0.005404600137480286), (2395, 0.02390717975174138), (2396, 0.100071737700116), (2397, 0.013663915434934571), (2398, 0.0), (2399, 0.0), (2400, 0.006182064065862641), (2401, 0.07165438567172482), (2402, 0.0), (2403, 0.03986745931887578), (2404, 0.018107348022774982), (2405, 0.0), (2406, 0.005721501519305571), (2407, 0.0), (2408, 0.0), (2409, 0.027066168877044217), (2410, 0.0), (2411, 0.041107889376956926), (2412, 0.022697863208889783), (2413, 0.0), (2414, 0.0), (2415, 0.0), (2416, 0.03868523492678719), (2417, 0.07790505087166089), (2418, 0.005807667796902399), (2419, 0.0), (2420, 0.0), (2421, 0.0), (2422, 0.0), (2423, 0.0), (2424, 0.0), (2425, 0.0), (2426, 0.0), (2427, 0.0), (2428, 0.0), (2429, 0.02483278075681458), (2430, 0.0), (2431, 0.03419574915227743), (2432, 0.0), (2433, 0.0), (2434, 0.0), (2435, 0.004622369727243879), (2436, 0.0), (2437, 0.0), (2438, 0.014802973554210027), (2439, 0.02212528354573367), (2440, 0.0), (2441, 0.005012957833484115), (2442, 0.0), (2443, 0.018527535576447797), (2444, 0.0), (2445, 0.0056174812922774745), (2446, 0.0), (2447, 0.0), (2448, 0.11726142832588413), (2449, 0.0), (2450, 0.03521424549850468), (2451, 0.0), (2452, 0.018412218179512666), (2453, 0.0800127670507591), (2454, 0.0), (2455, 0.0), (2456, 0.0), (2457, 0.02908581653759418), (2458, 0.0), (2459, 0.012505883806956301), (2460, 0.024246841683221332), (2461, 0.0), (2462, 0.0), (2463, 0.007296801502953891), (2464, 0.022086084615358922), (2465, 0.0), (2466, 0.0), (2467, 0.0), (2468, 0.0), (2469, 0.0), (2470, 0.0), (2471, 0.0), (2472, 0.006232715545972712), (2473, 0.0), (2474, 0.0), (2475, 0.006284500762582728), (2476, 0.004561787903918903), (2477, 0.005713528639364953), (2478, 0.0), (2479, 0.0), (2480, 0.011334887110225005), (2481, 0.034515469840890184), (2482, 0.0), (2483, 0.0), (2484, 0.0), (2485, 0.02639527038734652), (2486, 0.01343671608031449), (2487, 0.0), (2488, 0.042894702391667226), (2489, 0.0), (2490, 0.015853513658521997), (2491, 0.0), (2492, 0.022683436088957804), (2493, 0.12309070851536369), (2494, 0.0), (2495, 0.0), (2496, 0.013246631134900145), (2497, 0.0), (2498, 0.07071965837925133), (2499, 0.0), (2500, 0.0), (2501, 0.0), (2502, 0.0), (2503, 0.0), (2504, 0.0), (2505, 0.0), (2506, 0.0), (2507, 0.0), (2508, 0.0), (2509, 0.0), (2510, 0.02181822477289713), (2511, 0.0), (2512, 0.015634125440299906), (2513, 0.0), (2514, 0.009945401642359306), (2515, 0.020633740708153242), (2516, 0.006368870298392474), (2517, 0.0), (2518, 0.01563487686407674), (2519, 0.0), (2520, 0.005413480272306346), (2521, 0.01028840316154856), (2522, 0.0), (2523, 0.0), (2524, 0.0), (2525, 0.0), (2526, 0.0), (2527, 0.010970694181691748), (2528, 0.0), (2529, 0.04673696320757702), (2530, 0.0), (2531, 0.04884586430113724), (2532, 0.0), (2533, 0.006050200739504702), (2534, 0.023844809404843414), (2535, 0.0), (2536, 0.0), (2537, 0.0), (2538, 0.0), (2539, 0.01737218494045407), (2540, 0.0), (2541, 0.0), (2542, 0.012309838921072597), (2543, 0.013639328193096387), (2544, 0.02159898762471024), (2545, 0.0225933199671273), (2546, 0.0), (2547, 0.03366917927053933), (2548, 0.0), (2549, 0.020700789006868815), (2550, 0.04653384236698839), (2551, 0.014987565937977993), (2552, 0.0), (2553, 0.0), (2554, 0.0), (2555, 0.0), (2556, 0.00826871766737701), (2557, 0.0), (2558, 0.007680606261753377), (2559, 0.0), (2560, 0.0), (2561, 0.0), (2562, 0.00613623105322492), (2563, 0.0), (2564, 0.005374513786379997), (2565, 0.0), (2566, 0.0), (2567, 0.029265487124322954), (2568, 0.0), (2569, 0.02143271593255277), (2570, 0.02487369213591959), (2571, 0.005662020251952366), (2572, 0.0), (2573, 0.0), (2574, 0.0), (2575, 0.0), (2576, 0.0), (2577, 0.0), (2578, 0.0), (2579, 0.02338925280225421), (2580, 0.0), (2581, 0.025241149046253634), (2582, 0.0), (2583, 0.022489292143333978), (2584, 0.025681816132477667), (2585, 0.0052265680210244), (2586, 0.06986786872473076), (2587, 0.04155461628229837), (2588, 0.020116808090234486), (2589, 0.006009515535308174), (2590, 0.0), (2591, 0.024113298955013348), (2592, 0.0065470037715403785), (2593, 0.024607485863937857), (2594, 0.0), (2595, 0.0), (2596, 0.024838383237533318), (2597, 0.027777138188117754), (2598, 0.021001493120194115), (2599, 0.06252185865589308), (2600, 0.0), (2601, 0.0), (2602, 0.01459341920576536), (2603, 0.004743389014135886), (2604, 0.061127681013271346), (2605, 0.0), (2606, 0.0), (2607, 0.0), (2608, 0.004831729324988062), (2609, 0.0), (2610, 0.0), (2611, 0.031903165381455705), (2612, 0.0), (2613, 0.05787276822358223), (2614, 0.02016500183938679), (2615, 0.005262887206437906), (2616, 0.0), (2617, 0.018049846756707705), (2618, 0.040871552369267886), (2619, 0.0), (2620, 0.0), (2621, 0.0), (2622, 0.0), (2623, 0.0), (2624, 0.0), (2625, 0.0), (2626, 0.0), (2627, 0.0), (2628, 0.0), (2629, 0.006254122567674618), (2630, 0.0), (2631, 0.07770438141089214), (2632, 0.0), (2633, 0.0), (2634, 0.0), (2635, 0.0), (2636, 0.034871781345514316), (2637, 0.0), (2638, 0.0), (2639, 0.013208979493363962), (2640, 0.0), (2641, 0.0), (2642, 0.018559418184120813), (2643, 0.0), (2644, 0.013921995208129048), (2645, 0.021470672634643258), (2646, 0.0), (2647, 0.004840246612982482), (2648, 0.0), (2649, 0.0), (2650, 0.01296315549707688), (2651, 0.01299495494763516), (2652, 0.006216126245817272), (2653, 0.0), (2654, 0.0671040921427805), (2655, 0.0), (2656, 0.006100684426410843), (2657, 0.1121794212781643), (2658, 0.0), (2659, 0.015983098032363776), (2660, 0.028060218163301), (2661, 0.014312922960965382), (2662, 0.0), (2663, 0.018282716130426205), (2664, 0.0), (2665, 0.0), (2666, 0.0), (2667, 0.0), (2668, 0.0), (2669, 0.02320964867021702), (2670, 0.0), (2671, 0.039488441606205314), (2672, 0.0), (2673, 0.0), (2674, 0.0), (2675, 0.006679212417147497), (2676, 0.0), (2677, 0.0), (2678, 0.01921411748707354), (2679, 0.0), (2680, 0.0), (2681, 0.012415386660430901), (2682, 0.020980248565638793), (2683, 0.0), (2684, 0.012397661077660885), (2685, 0.0), (2686, 0.0), (2687, 0.011310103644917618), (2688, 0.0), (2689, 0.012749958844250078), (2690, 0.03176774020748906), (2691, 0.0), (2692, 0.0), (2693, 0.0), (2694, 0.007418205408218778), (2695, 0.0), (2696, 0.0), (2697, 0.0), (2698, 0.012123558872585162), (2699, 0.01413275659483774), (2700, 0.0), (2701, 0.0), (2702, 0.01882513783917035), (2703, 0.0), (2704, 0.01990739853182962), (2705, 0.0), (2706, 0.0), (2707, 0.0), (2708, 0.0), (2709, 0.0), (2710, 0.004626163558228643), (2711, 0.0), (2712, 0.0727427967316324), (2713, 0.0), (2714, 0.019494652022856093), (2715, 0.0), (2716, 0.0), (2717, 0.0), (2718, 0.00552699530699252), (2719, 0.0), (2720, 0.0), (2721, 0.0), (2722, 0.0), (2723, 0.0), (2724, 0.0), (2725, 0.0), (2726, 0.0), (2727, 0.0), (2728, 0.01769996812491912), (2729, 0.0), (2730, 0.0), (2731, 0.0), (2732, 0.015968907963902476), (2733, 0.0), (2734, 0.035225094669330506), (2735, 0.02061013342772084), (2736, 0.0), (2737, 0.023712663590270466), (2738, 0.0), (2739, 0.012579215518931779), (2740, 0.0), (2741, 0.03102592351962613), (2742, 0.011602376724782789), (2743, 0.0), (2744, 0.0), (2745, 0.0), (2746, 0.0), (2747, 0.04135736163198958), (2748, 0.0), (2749, 0.016672307719013582), (2750, 0.0), (2751, 0.0), (2752, 0.01602277644360525), (2753, 0.011056282777617332), (2754, 0.0), (2755, 0.0), (2756, 0.0), (2757, 0.01731643082263091), (2758, 0.018726224607918448), (2759, 0.0), (2760, 0.0), (2761, 0.02674353526054905), (2762, 0.0), (2763, 0.009728558343837075), (2764, 0.025046011438987312), (2765, 0.02081897468696509), (2766, 0.0), (2767, 0.029444613412319794), (2768, 0.0), (2769, 0.0), (2770, 0.016911817273997088), (2771, 0.0), (2772, 0.014306294012566546), (2773, 0.0), (2774, 0.025873204683461073), (2775, 0.0), (2776, 0.0), (2777, 0.0), (2778, 0.0), (2779, 0.0), (2780, 0.0), (2781, 0.005804953740427145), (2782, 0.0), (2783, 0.02358218586353633), (2784, 0.082541335152398), (2785, 0.0), (2786, 0.0), (2787, 0.023874528695501603), (2788, 0.0), (2789, 0.0), (2790, 0.015976538020085224), (2791, 0.02055297238127928), (2792, 0.0), (2793, 0.012615763706745982), (2794, 0.0), (2795, 0.0), (2796, 0.00529606375402033), (2797, 0.01929747258227739), (2798, 0.0), (2799, 0.0), (2800, 0.030681624795410076), (2801, 0.0), (2802, 0.02576492781024213), (2803, 0.0), (2804, 0.0), (2805, 0.0), (2806, 0.01652582917790908), (2807, 0.0), (2808, 0.0), (2809, 0.02719505262681477), (2810, 0.0), (2811, 0.05164383702356942), (2812, 0.010207007251181706), (2813, 0.02096711909749451), (2814, 0.0), (2815, 0.021368817155182452), (2816, 0.0), (2817, 0.0), (2818, 0.013028063296523375), (2819, 0.0), (2820, 0.0), (2821, 0.029300805629598876), (2822, 0.0), (2823, 0.019290252195683644), (2824, 0.01518749766781816), (2825, 0.004775035496815315), (2826, 0.0), (2827, 0.013339782837618264), (2828, 0.050045562989531694), (2829, 0.07596936379529637), (2830, 0.021440523602007627), (2831, 0.0), (2832, 0.025734954112559418), (2833, 0.013036871538029505), (2834, 0.0), (2835, 0.0), (2836, 0.0), (2837, 0.019655059024663503), (2838, 0.03333399917389507), (2839, 0.0), (2840, 0.015144841726849923), (2841, 0.0), (2842, 0.0), (2843, 0.0), (2844, 0.0), (2845, 0.0), (2846, 0.0), (2847, 0.03404492608919611), (2848, 0.0), (2849, 0.0), (2850, 0.0), (2851, 0.03376393496459499), (2852, 0.0), (2853, 0.0), (2854, 0.04267403536716532), (2855, 0.006610416690836695), (2856, 0.0), (2857, 0.02353898132332651), (2858, 0.0), (2859, 0.0047150546302726845), (2860, 0.0), (2861, 0.0), (2862, 0.023409310534534607), (2863, 0.0), (2864, 0.0), (2865, 0.0), (2866, 0.011166954682268668), (2867, 0.0), (2868, 0.020538902227526856), (2869, 0.012610661305804016), (2870, 0.0), (2871, 0.017697237341418978), (2872, 0.0), (2873, 0.007595017015362146), (2874, 0.08634839463672825), (2875, 0.0), (2876, 0.0), (2877, 0.0), (2878, 0.014446531944932771), (2879, 0.0), (2880, 0.0), (2881, 0.0957131913689129), (2882, 0.0), (2883, 0.014818635325718756), (2884, 0.023521325195402648), (2885, 0.013652607250122576), (2886, 0.09560167300637015), (2887, 0.0), (2888, 0.0), (2889, 0.0), (2890, 0.015928321953317216), (2891, 0.0), (2892, 0.006994006873103436), (2893, 0.0), (2894, 0.0), (2895, 0.0), (2896, 0.0), (2897, 0.0), (2898, 0.0), (2899, 0.0), (2900, 0.0), (2901, 0.0), (2902, 0.0), (2903, 0.020745867070866307), (2904, 0.0), (2905, 0.04297774104295929), (2906, 0.018925010369773874), (2907, 0.0), (2908, 0.0), (2909, 0.0), (2910, 0.022736042775088627), (2911, 0.0), (2912, 0.0), (2913, 0.0), (2914, 0.0), (2915, 0.0), (2916, 0.0), (2917, 0.0), (2918, 0.02886488326420627), (2919, 0.011181588169162513), (2920, 0.0), (2921, 0.0074671942738470404), (2922, 0.0), (2923, 0.0), (2924, 0.029486926168377194), (2925, 0.0), (2926, 0.0), (2927, 0.0071322559378882155), (2928, 0.0), (2929, 0.018251178648963372), (2930, 0.0), (2931, 0.0), (2932, 0.01426763526133275), (2933, 0.0), (2934, 0.0), (2935, 0.0), (2936, 0.00751663698247381), (2937, 0.0069632778683217525), (2938, 0.0), (2939, 0.007764812754268513), (2940, 0.05328670471821129), (2941, 0.0), (2942, 0.0), (2943, 0.04952598957659492), (2944, 0.0), (2945, 0.0), (2946, 0.0), (2947, 0.0), (2948, 0.0), (2949, 0.0), (2950, 0.0), (2951, 0.0), (2952, 0.0), (2953, 0.0), (2954, 0.0), (2955, 0.0), (2956, 0.0), (2957, 0.0), (2958, 0.0), (2959, 0.012245925034944295), (2960, 0.0), (2961, 0.0), (2962, 0.0), (2963, 0.0), (2964, 0.0), (2965, 0.005530848603603089), (2966, 0.0), (2967, 0.025848047987301063), (2968, 0.0), (2969, 0.0), (2970, 0.0423028225343959), (2971, 0.0), (2972, 0.03287810307549412), (2973, 0.03447059943990562), (2974, 0.024910973306469467), (2975, 0.0074385892948217215), (2976, 0.0), (2977, 0.0), (2978, 0.03310119039104602), (2979, 0.0), (2980, 0.0), (2981, 0.0), (2982, 0.0), (2983, 0.0), (2984, 0.005283424846775767), (2985, 0.0), (2986, 0.00624933669046642), (2987, 0.02891720692992677), (2988, 0.0), (2989, 0.0), (2990, 0.0), (2991, 0.0), (2992, 0.004582946198377807), (2993, 0.04010766471406193), (2994, 0.0), (2995, 0.0), (2996, 0.0), (2997, 0.04225076390058679), (2998, 0.0), (2999, 0.0), (3000, 0.01781156501939468), (3001, 0.03223341419838871), (3002, 0.012581572479495755), (3003, 0.0), (3004, 0.0), (3005, 0.0), (3006, 0.0), (3007, 0.0108498295335895), (3008, 0.04618149668589319), (3009, 0.0), (3010, 0.007645617366445275), (3011, 0.0), (3012, 0.027564946831978035), (3013, 0.004464833500805129), (3014, 0.004571580921347975), (3015, 0.0), (3016, 0.0), (3017, 0.0), (3018, 0.038636352718108787), (3019, 0.03170857736129945), (3020, 0.016910717871428147), (3021, 0.011688095684791379), (3022, 0.0), (3023, 0.0), (3024, 0.016104987789411194), (3025, 0.01084135506411561), (3026, 0.005617896476719709), (3027, 0.0063362838100266385), (3028, 0.0), (3029, 0.0), (3030, 0.02042226262889505), (3031, 0.0), (3032, 0.0), (3033, 0.0), (3034, 0.0), (3035, 0.005199301406264712), (3036, 0.005292408903446083), (3037, 0.0), (3038, 0.02226706991113081), (3039, 0.058542931140641276), (3040, 0.025432956760589712), (3041, 0.01169811470844964), (3042, 0.0), (3043, 0.0), (3044, 0.0), (3045, 0.0), (3046, 0.005687690889765436), (3047, 0.0), (3048, 0.0), (3049, 0.009470841262601391), (3050, 0.0), (3051, 0.0), (3052, 0.0), (3053, 0.016459721944019023), (3054, 0.08585436896298895), (3055, 0.0), (3056, 0.0), (3057, 0.015046315367673507), (3058, 0.0), (3059, 0.0), (3060, 0.022492175466495786), (3061, 0.020255908969198978), (3062, 0.0), (3063, 0.0), (3064, 0.0), (3065, 0.04770491967984865), (3066, 0.0), (3067, 0.0), (3068, 0.0055612387982074745), (3069, 0.0), (3070, 0.0), (3071, 0.0), (3072, 0.0), (3073, 0.0), (3074, 0.00679346311714104), (3075, 0.04086374613827565), (3076, 0.0), (3077, 0.0), (3078, 0.02106098795957703), (3079, 0.005129531441207798), (3080, 0.005217343427232044), (3081, 0.0), (3082, 0.0), (3083, 0.005710926330886715), (3084, 0.0), (3085, 0.0), (3086, 0.0), (3087, 0.0), (3088, 0.0068276389928988305), (3089, 0.03929451639808316), (3090, 0.0), (3091, 0.0), (3092, 0.005200318636162654), (3093, 0.019400624898439387), (3094, 0.0), (3095, 0.026728638724614194), (3096, 0.02125901403178014), (3097, 0.0), (3098, 0.08005687757730601), (3099, 0.0), (3100, 0.01607576100087768), (3101, 0.0), (3102, 0.0), (3103, 0.0), (3104, 0.01371476151859414), (3105, 0.004598418468426235), (3106, 0.0), (3107, 0.0), (3108, 0.02292845881459906), (3109, 0.0), (3110, 0.0), (3111, 0.04691322261712897), (3112, 0.08085855791788697), (3113, 0.0), (3114, 0.0), (3115, 0.0), (3116, 0.0), (3117, 0.0), (3118, 0.0), (3119, 0.0), (3120, 0.0), (3121, 0.0), (3122, 0.09304445501400135), (3123, 0.0), (3124, 0.0), (3125, 0.0), (3126, 0.015468107228883437), (3127, 0.0), (3128, 0.0), (3129, 0.0), (3130, 0.0), (3131, 0.0), (3132, 0.017956647179310798), (3133, 0.014009591084531385), (3134, 0.0063149252235505954), (3135, 0.008375120084677588), (3136, 0.027035508154232606), (3137, 0.0), (3138, 0.0), (3139, 0.03798359022729376), (3140, 0.0), (3141, 0.0), (3142, 0.011639347314889196), (3143, 0.0), (3144, 0.005041495202709754), (3145, 0.0), (3146, 0.0), (3147, 0.0), (3148, 0.05368215439573008), (3149, 0.010281878796863625), (3150, 0.006218181790872984), (3151, 0.0), (3152, 0.0), (3153, 0.018842933907422123), (3154, 0.011860310411001225), (3155, 0.0), (3156, 0.0360807493212182), (3157, 0.005299208639491655), (3158, 0.0), (3159, 0.005868396065580242), (3160, 0.006401323323301838), (3161, 0.016379251215777997), (3162, 0.0), (3163, 0.0), (3164, 0.022916589894343635), (3165, 0.0), (3166, 0.0373353332850979), (3167, 0.0), (3168, 0.010537548457135991), (3169, 0.02147495708211148), (3170, 0.0), (3171, 0.004935907254602152), (3172, 0.0924727542115153), (3173, 0.0), (3174, 0.0), (3175, 0.0), (3176, 0.019278154594252597), (3177, 0.007025989959017095), (3178, 0.06470679543657426), (3179, 0.0), (3180, 0.0), (3181, 0.0), (3182, 0.0), (3183, 0.011192363320334174), (3184, 0.0), (3185, 0.0), (3186, 0.006274211784316334), (3187, 0.02556682141021702), (3188, 0.014836517629418216), (3189, 0.0), (3190, 0.04368677703447107), (3191, 0.0), (3192, 0.0), (3193, 0.0), (3194, 0.0), (3195, 0.0), (3196, 0.08739964619140574), (3197, 0.0), (3198, 0.0), (3199, 0.0), (3200, 0.0), (3201, 0.046044097918313674), (3202, 0.013105906463279712), (3203, 0.0), (3204, 0.01566882322589712), (3205, 0.0), (3206, 0.0), (3207, 0.0), (3208, 0.0077529435598468), (3209, 0.0210669168384347), (3210, 0.03272986056505527), (3211, 0.0), (3212, 0.0), (3213, 0.0659634340243054), (3214, 0.03504486901373863), (3215, 0.004941259278948002), (3216, 0.023526831176829213), (3217, 0.07521929046289479), (3218, 0.0), (3219, 0.0), (3220, 0.017688605639035605), (3221, 0.0066228943931589705), (3222, 0.0), (3223, 0.0), (3224, 0.0), (3225, 0.054944877459146266), (3226, 0.0), (3227, 0.005130128729774122), (3228, 0.0), (3229, 0.0), (3230, 0.032823883413388745), (3231, 0.00915115044395514), (3232, 0.0), (3233, 0.0), (3234, 0.0), (3235, 0.010174595991317838), (3236, 0.022004268001483827), (3237, 0.0741142389834449), (3238, 0.032020716225699325), (3239, 0.007452746661789912), (3240, 0.0), (3241, 0.0), (3242, 0.012963141053244514), (3243, 0.02660914710848429), (3244, 0.0), (3245, 0.0), (3246, 0.014651267450384631), (3247, 0.0), (3248, 0.0), (3249, 0.0), (3250, 0.0), (3251, 0.02593602668597613), (3252, 0.0), (3253, 0.0), (3254, 0.0), (3255, 0.061066563677717935), (3256, 0.012150330661713551), (3257, 0.010531194128267328), (3258, 0.012185550125424882), (3259, 0.0), (3260, 0.0), (3261, 0.01642581899633027), (3262, 0.016970169401209833), (3263, 0.0), (3264, 0.0), (3265, 0.005051191077278484), (3266, 0.027436456446725148), (3267, 0.0), (3268, 0.0), (3269, 0.0), (3270, 0.0), (3271, 0.0), (3272, 0.0), (3273, 0.08388769738873245), (3274, 0.0), (3275, 0.0), (3276, 0.0), (3277, 0.0), (3278, 0.0), (3279, 0.0), (3280, 0.03796221683732147), (3281, 0.0), (3282, 0.0), (3283, 0.0), (3284, 0.0), (3285, 0.0), (3286, 0.007326218162299414), (3287, 0.0), (3288, 0.024861044816064177), (3289, 0.0), (3290, 0.0068038875613788885), (3291, 0.0), (3292, 0.07359108112714222), (3293, 0.0), (3294, 0.0), (3295, 0.0), (3296, 0.022284405170404743), (3297, 0.0), (3298, 0.0), (3299, 0.018647065311045038), (3300, 0.0), (3301, 0.0), (3302, 0.01622825362054372), (3303, 0.005540031140579648), (3304, 0.0), (3305, 0.006826347147085227), (3306, 0.0), (3307, 0.0), (3308, 0.0), (3309, 0.0), (3310, 0.007452314303175081), (3311, 0.029406034188920162), (3312, 0.006413550318680612), (3313, 0.0), (3314, 0.023744355578256042), (3315, 0.0049803429511368486), (3316, 0.0), (3317, 0.0), (3318, 0.016301230081507426), (3319, 0.0), (3320, 0.0), (3321, 0.024274489277127827), (3322, 0.005899414823776922), (3323, 0.0), (3324, 0.026191016071608106), (3325, 0.0), (3326, 0.0), (3327, 0.053940988382592425), (3328, 0.0), (3329, 0.016792394987385627), (3330, 0.0), (3331, 0.0), (3332, 0.0061512402612577625), (3333, 0.0), (3334, 0.0), (3335, 0.008118248221382544), (3336, 0.0), (3337, 0.0), (3338, 0.006249543157212855), (3339, 0.012933423916188727), (3340, 0.0), (3341, 0.006015295992342407), (3342, 0.012904965510174579), (3343, 0.012723372998042567), (3344, 0.0), (3345, 0.0), (3346, 0.0), (3347, 0.0), (3348, 0.0), (3349, 0.013250209143713757), (3350, 0.0), (3351, 0.0), (3352, 0.0), (3353, 0.03875902808692991), (3354, 0.0), (3355, 0.01732309609742168), (3356, 0.027500989422887645), (3357, 0.011902884253515671), (3358, 0.013741740814443874), (3359, 0.007073352572269289), (3360, 0.047396375913670415), (3361, 0.01400678958177489), (3362, 0.0), (3363, 0.0), (3364, 0.0), (3365, 0.007932543704264515), (3366, 0.0), (3367, 0.02732200256786617), (3368, 0.0), (3369, 0.015868941268544042), (3370, 0.007798851174306586), (3371, 0.0), (3372, 0.025385252137699772), (3373, 0.0), (3374, 0.022861944009740853), (3375, 0.0), (3376, 0.010969110988314981), (3377, 0.0), (3378, 0.024263203861395445), (3379, 0.016417365730513854), (3380, 0.0), (3381, 0.0), (3382, 0.0), (3383, 0.029952447370935296), (3384, 0.0), (3385, 0.0), (3386, 0.0), (3387, 0.0), (3388, 0.005528530620980557), (3389, 0.021092907537265296), (3390, 0.0), (3391, 0.09760349151497058), (3392, 0.09147621508096551), (3393, 0.0), (3394, 0.0), (3395, 0.0), (3396, 0.0), (3397, 0.0), (3398, 0.009944027083835877), (3399, 0.0), (3400, 0.0), (3401, 0.08228567358677041), (3402, 0.019605426644513514), (3403, 0.0), (3404, 0.0), (3405, 0.004644629290971312), (3406, 0.0), (3407, 0.0), (3408, 0.0), (3409, 0.008774937215799007), (3410, 0.0), (3411, 0.06382711569992279), (3412, 0.0), (3413, 0.0), (3414, 0.0), (3415, 0.0), (3416, 0.0), (3417, 0.0), (3418, 0.006203362708750986), (3419, 0.0), (3420, 0.06591618327145694), (3421, 0.0), (3422, 0.005057572450641213), (3423, 0.0042595003961575645), (3424, 0.0), (3425, 0.0), (3426, 0.019355912179946744), (3427, 0.031739644975983076), (3428, 0.0), (3429, 0.0), (3430, 0.011223684893842005), (3431, 0.0), (3432, 0.0), (3433, 0.025381512233263844), (3434, 0.014476282353422226), (3435, 0.0), (3436, 0.0), (3437, 0.0), (3438, 0.0), (3439, 0.0), (3440, 0.0), (3441, 0.0), (3442, 0.0), (3443, 0.0174598427576801), (3444, 0.0), (3445, 0.02725781269550767), (3446, 0.0), (3447, 0.029476580207757574), (3448, 0.03694321664433894), (3449, 0.09878133959944804), (3450, 0.023881601541432904), (3451, 0.005661996360083066), (3452, 0.011833893753963794), (3453, 0.012573652269728145), (3454, 0.012678186437380827), (3455, 0.012018527958343022), (3456, 0.010712516922286744), (3457, 0.0), (3458, 0.0), (3459, 0.0), (3460, 0.0), (3461, 0.013333585381349282), (3462, 0.0), (3463, 0.0), (3464, 0.0), (3465, 0.0), (3466, 0.02021070723439476), (3467, 0.0), (3468, 0.019927240040570178), (3469, 0.0415883068278384), (3470, 0.0), (3471, 0.0), (3472, 0.06914890782908988), (3473, 0.0), (3474, 0.0), (3475, 0.03831080472606049), (3476, 0.0), (3477, 0.0), (3478, 0.0), (3479, 0.032355371932135724), (3480, 0.0), (3481, 0.0), (3482, 0.0), (3483, 0.00483752390078383), (3484, 0.0), (3485, 0.0), (3486, 0.0), (3487, 0.0), (3488, 0.0), (3489, 0.01972775945132226), (3490, 0.0), (3491, 0.006295158361954532), (3492, 0.02458690847673554), (3493, 0.0), (3494, 0.0), (3495, 0.0), (3496, 0.016311543830900506), (3497, 0.0), (3498, 0.005895408144551499), (3499, 0.0), (3500, 0.04601347577092323), (3501, 0.0), (3502, 0.0), (3503, 0.0), (3504, 0.0), (3505, 0.0), (3506, 0.008680383591105208), (3507, 0.0), (3508, 0.0), (3509, 0.0), (3510, 0.0), (3511, 0.032765315332574374), (3512, 0.0), (3513, 0.0), (3514, 0.0), (3515, 0.033122775200207046), (3516, 0.0), (3517, 0.01683803297015833), (3518, 0.01339349152041727), (3519, 0.0), (3520, 0.0), (3521, 0.0), (3522, 0.00501267128521148), (3523, 0.0), (3524, 0.005173287135632804), (3525, 0.0), (3526, 0.0), (3527, 0.0), (3528, 0.014446435008207501), (3529, 0.005964674197945193), (3530, 0.0), (3531, 0.0), (3532, 0.027025844717520692), (3533, 0.012195653967482727), (3534, 0.0), (3535, 0.0), (3536, 0.0), (3537, 0.0), (3538, 0.0), (3539, 0.0), (3540, 0.01714428624700837), (3541, 0.0), (3542, 0.0), (3543, 0.0), (3544, 0.0), (3545, 0.0), (3546, 0.0), (3547, 0.0), (3548, 0.0), (3549, 0.0), (3550, 0.0), (3551, 0.005821869645066782), (3552, 0.018394092989489876), (3553, 0.0), (3554, 0.0), (3555, 0.03944674258225883), (3556, 0.0), (3557, 0.0), (3558, 0.016664507799040013), (3559, 0.004200862666586511), (3560, 0.0), (3561, 0.0), (3562, 0.041230883750427), (3563, 0.025021573306684492), (3564, 0.0), (3565, 0.0), (3566, 0.0), (3567, 0.03272499470880203), (3568, 0.020262103941141425), (3569, 0.0), (3570, 0.0), (3571, 0.0), (3572, 0.027717374164257375), (3573, 0.0), (3574, 0.039382403610617775), (3575, 0.025061778488953333), (3576, 0.0), (3577, 0.0), (3578, 0.0), (3579, 0.0), (3580, 0.0), (3581, 0.028051511530328848), (3582, 0.0), (3583, 0.0), (3584, 0.0), (3585, 0.004603269069363892), (3586, 0.0), (3587, 0.024207803715394254), (3588, 0.0260630956637999), (3589, 0.0), (3590, 0.0051185346103360795), (3591, 0.0), (3592, 0.0), (3593, 0.0), (3594, 0.0), (3595, 0.0), (3596, 0.0), (3597, 0.005284834766378032), (3598, 0.0), (3599, 0.0), (3600, 0.03152450611652062), (3601, 0.0), (3602, 0.0), (3603, 0.0), (3604, 0.0), (3605, 0.0), (3606, 0.0), (3607, 0.0), (3608, 0.0), (3609, 0.004846123523452017), (3610, 0.016112753036275546), (3611, 0.0), (3612, 0.005542540079851538), (3613, 0.04114974873261236), (3614, 0.0), (3615, 0.0), (3616, 0.0), (3617, 0.0), (3618, 0.037709490604229415), (3619, 0.01974751033095338), (3620, 0.0), (3621, 0.0), (3622, 0.035454777876982216), (3623, 0.012119478706265108), (3624, 0.03051473115535168), (3625, 0.012327613886155556), (3626, 0.019540882399059753), (3627, 0.0), (3628, 0.0), (3629, 0.1610780094435868), (3630, 0.018721778272019842), (3631, 0.0), (3632, 0.0), (3633, 0.0), (3634, 0.0), (3635, 0.0), (3636, 0.017683934420782765), (3637, 0.0), (3638, 0.0), (3639, 0.0), (3640, 0.0), (3641, 0.0), (3642, 0.03215472991135166), (3643, 0.01627026960662283), (3644, 0.0), (3645, 0.01671112347909984), (3646, 0.0), (3647, 0.0), (3648, 0.019549605585506273), (3649, 0.0462468089384928), (3650, 0.01591823976972725), (3651, 0.0), (3652, 0.0), (3653, 0.0), (3654, 0.0), (3655, 0.014730231360995941), (3656, 0.014514083839162471), (3657, 0.0), (3658, 0.034388720001203875), (3659, 0.0), (3660, 0.0), (3661, 0.0), (3662, 0.01967871708623671), (3663, 0.0), (3664, 0.0), (3665, 0.0), (3666, 0.0), (3667, 0.0), (3668, 0.0), (3669, 0.0), (3670, 0.03816479205423967), (3671, 0.0), (3672, 0.0), (3673, 0.005804085214571653), (3674, 0.025272706598267677), (3675, 0.0), (3676, 0.0), (3677, 0.0), (3678, 0.005775593074057008), (3679, 0.0), (3680, 0.0), (3681, 0.0), (3682, 0.0), (3683, 0.0), (3684, 0.0), (3685, 0.027263078451473945), (3686, 0.0), (3687, 0.0), (3688, 0.0), (3689, 0.0), (3690, 0.0), (3691, 0.0), (3692, 0.0), (3693, 0.0), (3694, 0.0), (3695, 0.005885534609950523), (3696, 0.0), (3697, 0.0), (3698, 0.01055309862733859), (3699, 0.012520213069519531), (3700, 0.0), (3701, 0.006838856321698048), (3702, 0.0), (3703, 0.0), (3704, 0.013615655963799194), (3705, 0.037227032829759074), (3706, 0.0), (3707, 0.0), (3708, 0.0), (3709, 0.0), (3710, 0.0), (3711, 0.035979558915489665), (3712, 0.0), (3713, 0.0056323019315817), (3714, 0.0), (3715, 0.0), (3716, 0.0), (3717, 0.014409486870507924), (3718, 0.0), (3719, 0.0), (3720, 0.007550677515492592), (3721, 0.01226778012444516), (3722, 0.0), (3723, 0.0), (3724, 0.0), (3725, 0.0), (3726, 0.0), (3727, 0.0), (3728, 0.00465171188652051), (3729, 0.0), (3730, 0.014050679903700139), (3731, 0.0058795296583077205), (3732, 0.0), (3733, 0.0), (3734, 0.0), (3735, 0.0), (3736, 0.01785849780287992), (3737, 0.0), (3738, 0.0), (3739, 0.004763615615118067), (3740, 0.0), (3741, 0.0), (3742, 0.02146765779700549), (3743, 0.02134027155982715), (3744, 0.0), (3745, 0.0), (3746, 0.005558397664792943), (3747, 0.0), (3748, 0.0), (3749, 0.0), (3750, 0.0), (3751, 0.0), (3752, 0.0), (3753, 0.0), (3754, 0.014399515258718278), (3755, 0.057363051114892344), (3756, 0.02166126856788284), (3757, 0.04381014620583554), (3758, 0.0), (3759, 0.0), (3760, 0.0), (3761, 0.023392178879929136), (3762, 0.006106114618265926), (3763, 0.0), (3764, 0.004962190307876747), (3765, 0.0), (3766, 0.0), (3767, 0.0), (3768, 0.0), (3769, 0.0), (3770, 0.0044769660878296366), (3771, 0.0), (3772, 0.0), (3773, 0.0), (3774, 0.0), (3775, 0.0), (3776, 0.0), (3777, 0.024578345775855468), (3778, 0.0), (3779, 0.0), (3780, 0.006484631036064337), (3781, 0.0), (3782, 0.0), (3783, 0.05101505000115292), (3784, 0.0), (3785, 0.0), (3786, 0.0), (3787, 0.0), (3788, 0.0), (3789, 0.0), (3790, 0.0), (3791, 0.0), (3792, 0.013930715554497174), (3793, 0.0), (3794, 0.0), (3795, 0.0), (3796, 0.0), (3797, 0.0), (3798, 0.0), (3799, 0.0), (3800, 0.0), (3801, 0.0271247135165777), (3802, 0.02494048588583915), (3803, 0.0), (3804, 0.0), (3805, 0.013412728462832244), (3806, 0.021509918808321395), (3807, 0.0), (3808, 0.053316348481722835), (3809, 0.0), (3810, 0.024974700459713978), (3811, 0.0), (3812, 0.0), (3813, 0.0), (3814, 0.0), (3815, 0.0), (3816, 0.009638710622252545), (3817, 0.012644444891649833), (3818, 0.036769736511170936), (3819, 0.02663819037575209), (3820, 0.0), (3821, 0.023901647144743403), (3822, 0.03450113367814037), (3823, 0.0), (3824, 0.0), (3825, 0.04159735301450154), (3826, 0.0), (3827, 0.0), (3828, 0.0), (3829, 0.023310404201026484), (3830, 0.01277394632452389), (3831, 0.038729984425335026), (3832, 0.013841843437150076), (3833, 0.02155676580314831), (3834, 0.03964634374071605), (3835, 0.0), (3836, 0.006103275198660384), (3837, 0.01803295330995903), (3838, 0.0), (3839, 0.00546620531099762), (3840, 0.020379659127890627), (3841, 0.012435870909521744), (3842, 0.03065210092104755), (3843, 0.0), (3844, 0.0), (3845, 0.0), (3846, 0.02199997838422432), (3847, 0.0), (3848, 0.01921384513154996), (3849, 0.0), (3850, 0.0), (3851, 0.006401401954112941), (3852, 0.012131068563780316), (3853, 0.0), (3854, 0.005365815368090956), (3855, 0.005989600977632151), (3856, 0.0), (3857, 0.017008717502654053), (3858, 0.0), (3859, 0.0623244135086477), (3860, 0.004837038162273289), (3861, 0.0), (3862, 0.013466741738188553), (3863, 0.007299590269777858), (3864, 0.05321183472737186), (3865, 0.0), (3866, 0.0), (3867, 0.0), (3868, 0.0), (3869, 0.0), (3870, 0.0), (3871, 0.0), (3872, 0.03373994630894218), (3873, 0.04549638529128872), (3874, 0.0), (3875, 0.0), (3876, 0.0), (3877, 0.0), (3878, 0.0), (3879, 0.0056306160806665236), (3880, 0.0), (3881, 0.0), (3882, 0.0), (3883, 0.0), (3884, 0.0), (3885, 0.0), (3886, 0.0), (3887, 0.0), (3888, 0.006280773553124895), (3889, 0.0), (3890, 0.010366179322445962), (3891, 0.033316399977464814), (3892, 0.0), (3893, 0.014661126800947522), (3894, 0.0), (3895, 0.0), (3896, 0.0), (3897, 0.0), (3898, 0.0), (3899, 0.026577293346522965), (3900, 0.0), (3901, 0.017879087746430884), (3902, 0.0), (3903, 0.0), (3904, 0.0), (3905, 0.019002387516148446), (3906, 0.0), (3907, 0.013448228326878732), (3908, 0.0), (3909, 0.0), (3910, 0.021598021543185353), (3911, 0.0), (3912, 0.0), (3913, 0.0), (3914, 0.03917979765914057), (3915, 0.0), (3916, 0.0), (3917, 0.0), (3918, 0.007031773614288303), (3919, 0.0), (3920, 0.0), (3921, 0.0), (3922, 0.02133619813655761), (3923, 0.0), (3924, 0.0), (3925, 0.0), (3926, 0.02404607584902319), (3927, 0.0), (3928, 0.0), (3929, 0.0), (3930, 0.0), (3931, 0.0), (3932, 0.0), (3933, 0.0), (3934, 0.0), (3935, 0.02333957740125241), (3936, 0.0), (3937, 0.046910323949210214), (3938, 0.025127424626971876), (3939, 0.0), (3940, 0.0), (3941, 0.0), (3942, 0.0), (3943, 0.020498180694982205), (3944, 0.06480974719446721), (3945, 0.0), (3946, 0.004182423259676999), (3947, 0.005993891555371152), (3948, 0.041328403269837236), (3949, 0.006767299497376554), (3950, 0.0), (3951, 0.03193014623086202), (3952, 0.0), (3953, 0.0), (3954, 0.023454612404013087), (3955, 0.0), (3956, 0.0), (3957, 0.0), (3958, 0.012154740948643009), (3959, 0.0), (3960, 0.0), (3961, 0.0), (3962, 0.01726928483940071), (3963, 0.0), (3964, 0.0), (3965, 0.0), (3966, 0.0), (3967, 0.0), (3968, 0.07740496625640622), (3969, 0.016942323933328295), (3970, 0.0), (3971, 0.005671980582401619), (3972, 0.004478606468527593), (3973, 0.0), (3974, 0.0), (3975, 0.01622464405949397), (3976, 0.0), (3977, 0.0), (3978, 0.006481600362146684), (3979, 0.0), (3980, 0.0), (3981, 0.0), (3982, 0.006019660830315563), (3983, 0.0), (3984, 0.0), (3985, 0.0), (3986, 0.0), (3987, 0.03419050909795041), (3988, 0.0055318840755844015), (3989, 0.08438156818108589), (3990, 0.0), (3991, 0.0), (3992, 0.026291830373737318), (3993, 0.01993584811446719), (3994, 0.028517724595657136), (3995, 0.0681126597342351), (3996, 0.0), (3997, 0.005528438228328053), (3998, 0.0), (3999, 0.03605777299122301), (4000, 0.014737809461248667), (4001, 0.0), (4002, 0.0), (4003, 0.0), (4004, 0.0246223820074631), (4005, 0.0), (4006, 0.0), (4007, 0.0), (4008, 0.04469344457924568), (4009, 0.015213886537247293), (4010, 0.014316883435666637), (4011, 0.0), (4012, 0.0), (4013, 0.0), (4014, 0.0), (4015, 0.0), (4016, 0.0), (4017, 0.018273822175528916), (4018, 0.024201856112518617), (4019, 0.005193435442598316), (4020, 0.0), (4021, 0.0), (4022, 0.0), (4023, 0.0), (4024, 0.0), (4025, 0.0), (4026, 0.0), (4027, 0.0), (4028, 0.019169973549426924), (4029, 0.0), (4030, 0.0), (4031, 0.0), (4032, 0.0), (4033, 0.0), (4034, 0.0), (4035, 0.0), (4036, 0.0), (4037, 0.0), (4038, 0.017218564747061762), (4039, 0.07812002342726508), (4040, 0.0), (4041, 0.020474902896458484), (4042, 0.0), (4043, 0.0), (4044, 0.0), (4045, 0.02663808321793521), (4046, 0.0), (4047, 0.0), (4048, 0.03217502857606061), (4049, 0.0), (4050, 0.0), (4051, 0.06067031589045636), (4052, 0.02613663903641888), (4053, 0.0), (4054, 0.0), (4055, 0.024925090254439355), (4056, 0.0), (4057, 0.0), (4058, 0.0), (4059, 0.0), (4060, 0.023932555483933023), (4061, 0.02893579507628664), (4062, 0.0), (4063, 0.0), (4064, 0.0), (4065, 0.0), (4066, 0.0), (4067, 0.05487748010468192), (4068, 0.0), (4069, 0.0), (4070, 0.0), (4071, 0.02767207022622069), (4072, 0.0), (4073, 0.0), (4074, 0.0), (4075, 0.01800890216419676), (4076, 0.007551193316762688), (4077, 0.02180369421179926), (4078, 0.040970544221483655), (4079, 0.01780837119213789), (4080, 0.011062901242678558), (4081, 0.0), (4082, 0.014065532870427363), (4083, 0.02912015071796474), (4084, 0.004363657977112964), (4085, 0.0), (4086, 0.0), (4087, 0.028125421362590934), (4088, 0.0), (4089, 0.025102273899380988), (4090, 0.0054770795835982974), (4091, 0.006347920960361893), (4092, 0.0), (4093, 0.0), (4094, 0.0), (4095, 0.0), (4096, 0.0), (4097, 0.0), (4098, 0.0), (4099, 0.013997926366258785), (4100, 0.0), (4101, 0.0), (4102, 0.0), (4103, 0.0), (4104, 0.0), (4105, 0.005413511706435717), (4106, 0.0), (4107, 0.0), (4108, 0.0), (4109, 0.0), (4110, 0.0696824896710543), (4111, 0.0), (4112, 0.011786617801134372), (4113, 0.0), (4114, 0.0), (4115, 0.0), (4116, 0.0), (4117, 0.006739113403573012), (4118, 0.0), (4119, 0.0), (4120, 0.005227899481062173), (4121, 0.0), (4122, 0.0), (4123, 0.03505490368834727), (4124, 0.0), (4125, 0.0), (4126, 0.0), (4127, 0.0), (4128, 0.0), (4129, 0.0), (4130, 0.006303312939436531), (4131, 0.008991456893303358), (4132, 0.0), (4133, 0.0), (4134, 0.02204716870336725), (4135, 0.006265255078929649), (4136, 0.0), (4137, 0.019445369151324755), (4138, 0.0), (4139, 0.0), (4140, 0.0), (4141, 0.016967319338096892), (4142, 0.0), (4143, 0.02976137459118), (4144, 0.0), (4145, 0.0), (4146, 0.0), (4147, 0.0), (4148, 0.0), (4149, 0.04318623229633605), (4150, 0.0), (4151, 0.013591316171223852), (4152, 0.01351022859367121), (4153, 0.0), (4154, 0.0), (4155, 0.06478669286905946), (4156, 0.0), (4157, 0.0), (4158, 0.0), (4159, 0.0), (4160, 0.015050272139466137), (4161, 0.012820195771305762), (4162, 0.02057312050818658), (4163, 0.0), (4164, 0.020374645081520894), (4165, 0.0), (4166, 0.02764290937327021), (4167, 0.007546668466326066), (4168, 0.010051356570485632), (4169, 0.0), (4170, 0.0), (4171, 0.0), (4172, 0.0), (4173, 0.0), (4174, 0.0), (4175, 0.026253125819364745), (4176, 0.0), (4177, 0.0), (4178, 0.0), (4179, 0.0), (4180, 0.0), (4181, 0.0), (4182, 0.018400783434429302), (4183, 0.0), (4184, 0.0), (4185, 0.0), (4186, 0.0), (4187, 0.0), (4188, 0.005728781039850205), (4189, 0.03960611095157424), (4190, 0.0), (4191, 0.0), (4192, 0.0), (4193, 0.028907060541478166), (4194, 0.0), (4195, 0.02343187089581477), (4196, 0.0), (4197, 0.00667171333440752), (4198, 0.0), (4199, 0.03646089376068084), (4200, 0.0), (4201, 0.025137881828893083), (4202, 0.0), (4203, 0.0), (4204, 0.0), (4205, 0.0), (4206, 0.0), (4207, 0.0), (4208, 0.01832864590132882), (4209, 0.0), (4210, 0.0), (4211, 0.0), (4212, 0.0), (4213, 0.0), (4214, 0.0), (4215, 0.0), (4216, 0.0), (4217, 0.0), (4218, 0.0), (4219, 0.0), (4220, 0.0), (4221, 0.004757794151217761), (4222, 0.0), (4223, 0.0), (4224, 0.024704948835453253), (4225, 0.018910695350101345), (4226, 0.004949347729331957), (4227, 0.0), (4228, 0.0), (4229, 0.0), (4230, 0.0), (4231, 0.019197636319240576), (4232, 0.0), (4233, 0.0), (4234, 0.0), (4235, 0.0), (4236, 0.006007915301498479), (4237, 0.0), (4238, 0.0), (4239, 0.007107694517794891), (4240, 0.0), (4241, 0.054137596111158814), (4242, 0.0), (4243, 0.0), (4244, 0.0), (4245, 0.0), (4246, 0.0), (4247, 0.06917238746056456), (4248, 0.0), (4249, 0.0), (4250, 0.0), (4251, 0.018727632763638535), (4252, 0.0), (4253, 0.0), (4254, 0.019255796136183584), (4255, 0.0), (4256, 0.03460024478837996), (4257, 0.022403267078188176), (4258, 0.0), (4259, 0.0), (4260, 0.022389310400548458), (4261, 0.0), (4262, 0.03663792595178415), (4263, 0.0), (4264, 0.006724585745346927), (4265, 0.0), (4266, 0.0), (4267, 0.008464990948426319), (4268, 0.009521728555140259), (4269, 0.0), (4270, 0.02267367634842665), (4271, 0.0), (4272, 0.02032494204828884), (4273, 0.02471434211026579), (4274, 0.0), (4275, 0.022175714983013132), (4276, 0.0), (4277, 0.0), (4278, 0.0), (4279, 0.01829504186376578), (4280, 0.0), (4281, 0.005403631229282207), (4282, 0.017881664216890306), (4283, 0.008025800996516149), (4284, 0.0), (4285, 0.0), (4286, 0.04222333707114683), (4287, 0.0), (4288, 0.0), (4289, 0.022098951010085726), (4290, 0.05718425585490722), (4291, 0.0), (4292, 0.006589586993770039), (4293, 0.0), (4294, 0.0), (4295, 0.0), (4296, 0.0), (4297, 0.0), (4298, 0.0), (4299, 0.0), (4300, 0.0), (4301, 0.0), (4302, 0.03004753253148687), (4303, 0.0), (4304, 0.0), (4305, 0.0), (4306, 0.0), (4307, 0.0), (4308, 0.0), (4309, 0.0), (4310, 0.0), (4311, 0.0), (4312, 0.0), (4313, 0.0), (4314, 0.0), (4315, 0.0), (4316, 0.019956264826426245), (4317, 0.0), (4318, 0.03818470509383152), (4319, 0.0), (4320, 0.0), (4321, 0.01159826336326061), (4322, 0.011644174124353708), (4323, 0.0), (4324, 0.01783164425369815), (4325, 0.0), (4326, 0.0), (4327, 0.021877542640628172), (4328, 0.0), (4329, 0.0), (4330, 0.0), (4331, 0.02382802232753196), (4332, 0.004322212924493312), (4333, 0.022984912759580704), (4334, 0.0), (4335, 0.014839933878592709), (4336, 0.0), (4337, 0.0), (4338, 0.023006830467520407), (4339, 0.0), (4340, 0.0), (4341, 0.0057250143950414835), (4342, 0.0), (4343, 0.043590141338026175), (4344, 0.0), (4345, 0.02154945897516153), (4346, 0.0), (4347, 0.0), (4348, 0.0), (4349, 0.07746359477869251), (4350, 0.027636903772831685), (4351, 0.0), (4352, 0.0), (4353, 0.0), (4354, 0.0), (4355, 0.0325287190426337), (4356, 0.0), (4357, 0.005208585222089374), (4358, 0.0), (4359, 0.01174811678989111), (4360, 0.0), (4361, 0.0), (4362, 0.010740111956680676), (4363, 0.0167712083675454), (4364, 0.0), (4365, 0.0), (4366, 0.0), (4367, 0.0), (4368, 0.0), (4369, 0.0), (4370, 0.05838704161436837), (4371, 0.0), (4372, 0.0), (4373, 0.0), (4374, 0.0), (4375, 0.0), (4376, 0.0), (4377, 0.0), (4378, 0.0), (4379, 0.0), (4380, 0.0), (4381, 0.0), (4382, 0.0), (4383, 0.0), (4384, 0.0), (4385, 0.019581713910059535), (4386, 0.022949886733684477), (4387, 0.014887308391224333), (4388, 0.0), (4389, 0.0), (4390, 0.0), (4391, 0.0), (4392, 0.007874515621743221), (4393, 0.0), (4394, 0.005467680633085453), (4395, 0.0), (4396, 0.0), (4397, 0.0), (4398, 0.0), (4399, 0.0), (4400, 0.0), (4401, 0.0507934617243466), (4402, 0.0), (4403, 0.0), (4404, 0.017676755919142514), (4405, 0.08213493141581095), (4406, 0.02856929114322189), (4407, 0.14508109711255343), (4408, 0.00498344691359544), (4409, 0.0), (4410, 0.0), (4411, 0.0), (4412, 0.0), (4413, 0.0), (4414, 0.007170558584011687), (4415, 0.016486590151740754), (4416, 0.0), (4417, 0.0), (4418, 0.0), (4419, 0.0), (4420, 0.042460876379323706), (4421, 0.0), (4422, 0.0), (4423, 0.0), (4424, 0.0), (4425, 0.0), (4426, 0.0), (4427, 0.016634837489155712), (4428, 0.0), (4429, 0.019086392468048132), (4430, 0.03061657924150763), (4431, 0.029289625140937744), (4432, 0.021886281903729723), (4433, 0.01836304545144448), (4434, 0.0), (4435, 0.0), (4436, 0.0), (4437, 0.0), (4438, 0.0), (4439, 0.0), (4440, 0.0), (4441, 0.0), (4442, 0.0), (4443, 0.0), (4444, 0.0), (4445, 0.0), (4446, 0.027474148057942002), (4447, 0.0), (4448, 0.0), (4449, 0.0), (4450, 0.0), (4451, 0.0), (4452, 0.0), (4453, 0.0), (4454, 0.01781921731120657), (4455, 0.0), (4456, 0.0697283526364546), (4457, 0.0), (4458, 0.0), (4459, 0.0), (4460, 0.023425195693178854), (4461, 0.0), (4462, 0.0), (4463, 0.0), (4464, 0.0), (4465, 0.0), (4466, 0.006315488771823895), (4467, 0.0), (4468, 0.0), (4469, 0.0), (4470, 0.0), (4471, 0.01361896808293114), (4472, 0.02435720089474483), (4473, 0.02726472789670723), (4474, 0.02556393460736263), (4475, 0.0), (4476, 0.021015766583292517), (4477, 0.0), (4478, 0.0), (4479, 0.0), (4480, 0.0), (4481, 0.0), (4482, 0.013956880961820236), (4483, 0.0), (4484, 0.0), (4485, 0.03518068310902911), (4486, 0.0), (4487, 0.0), (4488, 0.029991530736652196), (4489, 0.0), (4490, 0.0), (4491, 0.02255861263116611), (4492, 0.017709765046541644), (4493, 0.026145355619045536), (4494, 0.0), (4495, 0.0), (4496, 0.0), (4497, 0.0), (4498, 0.0), (4499, 0.0), (4500, 0.0), (4501, 0.03292521209307062), (4502, 0.0), (4503, 0.0), (4504, 0.0), (4505, 0.049693217119758944), (4506, 0.0), (4507, 0.0), (4508, 0.0), (4509, 0.0), (4510, 0.0), (4511, 0.0), (4512, 0.0), (4513, 0.00456696110753734), (4514, 0.0), (4515, 0.0), (4516, 0.0), (4517, 0.0), (4518, 0.0), (4519, 0.008128676633030033), (4520, 0.0), (4521, 0.0), (4522, 0.018290730080241242), (4523, 0.0), (4524, 0.0), (4525, 0.0), (4526, 0.0), (4527, 0.0), (4528, 0.0), (4529, 0.0), (4530, 0.0), (4531, 0.0), (4532, 0.0), (4533, 0.021436354425017564), (4534, 0.0), (4535, 0.0), (4536, 0.0), (4537, 0.0), (4538, 0.0), (4539, 0.0), (4540, 0.0), (4541, 0.03429255307712364), (4542, 0.0), (4543, 0.0), (4544, 0.0), (4545, 0.0), (4546, 0.0), (4547, 0.0), (4548, 0.08168585905296916), (4549, 0.0), (4550, 0.0), (4551, 0.0), (4552, 0.006310245055609349), (4553, 0.0), (4554, 0.0), (4555, 0.005833978789647705), (4556, 0.0), (4557, 0.0), (4558, 0.027586107850841347), (4559, 0.0), (4560, 0.006580391106370714), (4561, 0.06253112475044031), (4562, 0.0), (4563, 0.006350082289244901), (4564, 0.0), (4565, 0.0), (4566, 0.0), (4567, 0.0), (4568, 0.0), (4569, 0.030964901114255858), (4570, 0.0), (4571, 0.013774664276889894), (4572, 0.0), (4573, 0.0), (4574, 0.0), (4575, 0.0), (4576, 0.0), (4577, 0.0), (4578, 0.0), (4579, 0.0), (4580, 0.0), (4581, 0.03628481014727685), (4582, 0.0), (4583, 0.0), (4584, 0.0), (4585, 0.04393847605565937), (4586, 0.0), (4587, 0.0), (4588, 0.0), (4589, 0.0), (4590, 0.0), (4591, 0.0), (4592, 0.0), (4593, 0.020940474062274114), (4594, 0.0), (4595, 0.0), (4596, 0.0), (4597, 0.0), (4598, 0.012247044073018123), (4599, 0.019172835826719588), (4600, 0.0), (4601, 0.0), (4602, 0.0), (4603, 0.0), (4604, 0.0), (4605, 0.04405543422333225), (4606, 0.0), (4607, 0.023082379211766268), (4608, 0.0), (4609, 0.0), (4610, 0.0), (4611, 0.0), (4612, 0.0), (4613, 0.020746469050024068), (4614, 0.03424652894373805), (4615, 0.0), (4616, 0.0), (4617, 0.0), (4618, 0.0), (4619, 0.0), (4620, 0.0), (4621, 0.0), (4622, 0.0), (4623, 0.0), (4624, 0.0), (4625, 0.01410521329134101), (4626, 0.014910707515896524), (4627, 0.0060708259146153975), (4628, 0.0), (4629, 0.026129881962601527), (4630, 0.025411286134565565), (4631, 0.0), (4632, 0.0), (4633, 0.0), (4634, 0.0), (4635, 0.0), (4636, 0.0), (4637, 0.0), (4638, 0.0), (4639, 0.0), (4640, 0.0), (4641, 0.0), (4642, 0.0), (4643, 0.0), (4644, 0.01136393931203929), (4645, 0.016995807520612603), (4646, 0.0), (4647, 0.0), (4648, 0.0), (4649, 0.0), (4650, 0.0), (4651, 0.0), (4652, 0.039789064098944796), (4653, 0.0), (4654, 0.05826867442575835), (4655, 0.02273375486359538), (4656, 0.0), (4657, 0.021188063572749227), (4658, 0.014789779370222356), (4659, 0.0), (4660, 0.0063362413355824015), (4661, 0.0), (4662, 0.0), (4663, 0.0), (4664, 0.0), (4665, 0.016818508612538884), (4666, 0.014880667850337143), (4667, 0.0), (4668, 0.0), (4669, 0.0), (4670, 0.006402288404388571), (4671, 0.0), (4672, 0.0), (4673, 0.024209592774594748), (4674, 0.0202497076727667), (4675, 0.025510218620374007), (4676, 0.033775783834020995), (4677, 0.06405279079438096), (4678, 0.0), (4679, 0.0), (4680, 0.0), (4681, 0.022181993477881405), (4682, 0.0), (4683, 0.009914987282659276), (4684, 0.0), (4685, 0.0), (4686, 0.0), (4687, 0.0), (4688, 0.0), (4689, 0.0), (4690, 0.0), (4691, 0.0), (4692, 0.0), (4693, 0.0), (4694, 0.016111311615705583), (4695, 0.0), (4696, 0.04458195263712237), (4697, 0.023642190489632828), (4698, 0.015075916034187639), (4699, 0.025043165297818994), (4700, 0.0), (4701, 0.006609949910777526), (4702, 0.0), (4703, 0.0), (4704, 0.0), (4705, 0.0), (4706, 0.019825640676429702), (4707, 0.004019488976304792), (4708, 0.0), (4709, 0.0), (4710, 0.0), (4711, 0.0), (4712, 0.0), (4713, 0.0), (4714, 0.007968761718336015), (4715, 0.0), (4716, 0.0), (4717, 0.0), (4718, 0.0), (4719, 0.0), (4720, 0.05040336884472856), (4721, 0.018634615000008018), (4722, 0.0), (4723, 0.0), (4724, 0.0), (4725, 0.0), (4726, 0.0), (4727, 0.0), (4728, 0.0), (4729, 0.0), (4730, 0.020853758716406375), (4731, 0.022702271733040028), (4732, 0.0), (4733, 0.004718177866755109), (4734, 0.027680373924267677), (4735, 0.0), (4736, 0.0), (4737, 0.0), (4738, 0.0), (4739, 0.0), (4740, 0.029623413844114852), (4741, 0.022543342603911276), (4742, 0.0), (4743, 0.0), (4744, 0.0), (4745, 0.0), (4746, 0.019136993236899078), (4747, 0.022180074769735103), (4748, 0.0), (4749, 0.0), (4750, 0.0), (4751, 0.017224528027896584), (4752, 0.0), (4753, 0.0), (4754, 0.0), (4755, 0.0), (4756, 0.0), (4757, 0.0), (4758, 0.0), (4759, 0.0), (4760, 0.0), (4761, 0.0), (4762, 0.0), (4763, 0.0), (4764, 0.03224836335167736), (4765, 0.07573806100034745), (4766, 0.013592871781250257), (4767, 0.024603283674494283), (4768, 0.0), (4769, 0.0), (4770, 0.02391241479452505), (4771, 0.0), (4772, 0.0), (4773, 0.0), (4774, 0.0), (4775, 0.027368467708890235), (4776, 0.0), (4777, 0.0), (4778, 0.043482202931173), (4779, 0.059166419119081604), (4780, 0.0), (4781, 0.0), (4782, 0.0), (4783, 0.0), (4784, 0.05368443817347508), (4785, 0.0), (4786, 0.0), (4787, 0.0), (4788, 0.0), (4789, 0.0), (4790, 0.0), (4791, 0.0), (4792, 0.0), (4793, 0.054609432767589686), (4794, 0.032604837225584916), (4795, 0.0), (4796, 0.0), (4797, 0.0), (4798, 0.0), (4799, 0.0), (4800, 0.0), (4801, 0.0), (4802, 0.01617311415980041), (4803, 0.0), (4804, 0.04756002473204187), (4805, 0.0), (4806, 0.0), (4807, 0.0), (4808, 0.0)]\n"
     ]
    }
   ],
   "source": [
    "similarity_score = list(enumerate(similarity[int(the_index)]))\n",
    "print (similarity_score)"
   ]
  },
  {
   "cell_type": "code",
   "execution_count": 216,
   "id": "5185f222",
   "metadata": {},
   "outputs": [
    {
     "data": {
      "text/plain": [
       "4809"
      ]
     },
     "execution_count": 216,
     "metadata": {},
     "output_type": "execute_result"
    }
   ],
   "source": [
    "len(similarity_score)"
   ]
  },
  {
   "cell_type": "code",
   "execution_count": 221,
   "id": "0f3872a0",
   "metadata": {
    "scrolled": false
   },
   "outputs": [],
   "source": [
    "# sort movies based on similarity score\n",
    "sorted_sims = sorted(similarity_score, key = lambda x:x[1], reverse=True)"
   ]
  },
  {
   "cell_type": "markdown",
   "id": "24efbf22",
   "metadata": {},
   "source": [
    "### Many Examples of the Full Code"
   ]
  },
  {
   "cell_type": "code",
   "execution_count": 277,
   "id": "b8020873",
   "metadata": {},
   "outputs": [
    {
     "name": "stdout",
     "output_type": "stream",
     "text": [
      "Enter Your Favorite Movie: Iron Man\n",
      "These are the movies suggested for you: \n",
      "1. Iron Man\n",
      "2. Iron Man 2\n",
      "3. Iron Man 3\n",
      "4. Avengers: Age of Ultron\n",
      "5. The Avengers\n",
      "6. Captain America: Civil War\n",
      "7. Captain America: The Winter Soldier\n",
      "8. Ant-Man\n",
      "9. X-Men\n",
      "10. Made\n"
     ]
    }
   ],
   "source": [
    "# asks for your favorite movie\n",
    "movie_name = input(\"Enter Your Favorite Movie: \")\n",
    "\n",
    "titles = df['title'].tolist()\n",
    "\n",
    "find_close_match = difflib.get_close_matches(movie_name, titles)\n",
    "\n",
    "# returns the closest match to your input (accounting for spelling errors)\n",
    "close_match = find_close_match[0]\n",
    "\n",
    "# finds the index of this match and produces a list of simialrity scores to the other indeces\n",
    "the_index = df[df.title == close_match].index[0]\n",
    "\n",
    "similarity_score = list(enumerate(similarity[int(the_index)]))\n",
    "\n",
    "# sorts the list of similarity scores\n",
    "sorted_sims = sorted(similarity_score, key = lambda x:x[1], reverse=True)\n",
    "\n",
    "print (\"These are the movies suggested for you: \")\n",
    "\n",
    "#prints the movies with the 10 highest similarity scores\n",
    "for i in range(10):\n",
    "    index = sorted_sims[i][0]\n",
    "    title_from_index = df[df.index==index]['title'].values[0]\n",
    "    print (str(i+1) + '.', title_from_index)"
   ]
  },
  {
   "cell_type": "code",
   "execution_count": 273,
   "id": "344f5963",
   "metadata": {},
   "outputs": [
    {
     "name": "stdout",
     "output_type": "stream",
     "text": [
      "Enter Your Favorite Movie: The Godfather\n",
      "These are the movies suggested for you: \n",
      "1. The Godfather\n",
      "2. The Godfather: Part III\n",
      "3. Apocalypse Now\n",
      "4. Closer\n",
      "5. The Godfather: Part II\n",
      "6. Mickey Blue Eyes\n",
      "7. August Rush\n",
      "8. Leaving Las Vegas\n",
      "9. Machete\n",
      "10. Dracula\n"
     ]
    }
   ],
   "source": [
    "movie_name = input(\"Enter Your Favorite Movie: \")\n",
    "\n",
    "titles = df['title'].tolist()\n",
    "\n",
    "find_close_match = difflib.get_close_matches(movie_name, titles)\n",
    "\n",
    "close_match = find_close_match[0]\n",
    "\n",
    "the_index = df[df.title == close_match].index[0]\n",
    "\n",
    "similarity_score = list(enumerate(similarity[int(the_index)]))\n",
    "\n",
    "sorted_sims = sorted(similarity_score, key = lambda x:x[1], reverse=True)\n",
    "\n",
    "print (\"These are the movies suggested for you: \")\n",
    "\n",
    "for i in range(10):\n",
    "    index = sorted_sims[i][0]\n",
    "    title_from_index = df[df.index==index]['title'].values[0]\n",
    "    print (str(i+1) + '.', title_from_index)"
   ]
  },
  {
   "cell_type": "code",
   "execution_count": 274,
   "id": "91e9084d",
   "metadata": {},
   "outputs": [
    {
     "name": "stdout",
     "output_type": "stream",
     "text": [
      "Enter Your Favorite Movie: Caddyshack\n",
      "These are the movies suggested for you: \n",
      "1. Caddyshack\n",
      "2. Happy Gilmore\n",
      "3. Tin Cup\n",
      "4. National Lampoon's Vacation\n",
      "5. Groundhog Day\n",
      "6. Stripes\n",
      "7. Jarhead\n",
      "8. Memoirs of an Invisible Man\n",
      "9. Year One\n",
      "10. Modern Problems\n"
     ]
    }
   ],
   "source": [
    "movie_name = input(\"Enter Your Favorite Movie: \")\n",
    "\n",
    "titles = df['title'].tolist()\n",
    "\n",
    "find_close_match = difflib.get_close_matches(movie_name, titles)\n",
    "\n",
    "close_match = find_close_match[0]\n",
    "\n",
    "the_index = df[df.title == close_match].index[0]\n",
    "\n",
    "similarity_score = list(enumerate(similarity[int(the_index)]))\n",
    "\n",
    "sorted_sims = sorted(similarity_score, key = lambda x:x[1], reverse=True)\n",
    "\n",
    "print (\"These are the movies suggested for you: \")\n",
    "\n",
    "for i in range(10):\n",
    "    index = sorted_sims[i][0]\n",
    "    title_from_index = df[df.index==index]['title'].values[0]\n",
    "    print (str(i+1) + '.', title_from_index)"
   ]
  },
  {
   "cell_type": "code",
   "execution_count": 275,
   "id": "4ae29826",
   "metadata": {},
   "outputs": [
    {
     "name": "stdout",
     "output_type": "stream",
     "text": [
      "Enter Your Favorite Movie: Star Wars\n",
      "These are the movies suggested for you: \n",
      "1. Star Wars\n",
      "2. The Empire Strikes Back\n",
      "3. Return of the Jedi\n",
      "4. On Her Majesty's Secret Service\n",
      "5. Titan A.E.\n",
      "6. Star Wars: Episode I - The Phantom Menace\n",
      "7. The Helix... Loaded\n",
      "8. Star Wars: Episode III - Revenge of the Sith\n",
      "9. Timecop\n",
      "10. Lawrence of Arabia\n"
     ]
    }
   ],
   "source": [
    "movie_name = input(\"Enter Your Favorite Movie: \")\n",
    "\n",
    "titles = df['title'].tolist()\n",
    "\n",
    "find_close_match = difflib.get_close_matches(movie_name, titles)\n",
    "\n",
    "close_match = find_close_match[0]\n",
    "\n",
    "the_index = df[df.title == close_match].index[0]\n",
    "\n",
    "similarity_score = list(enumerate(similarity[int(the_index)]))\n",
    "\n",
    "sorted_sims = sorted(similarity_score, key = lambda x:x[1], reverse=True)\n",
    "\n",
    "print (\"These are the movies suggested for you: \")\n",
    "\n",
    "for i in range(10):\n",
    "    index = sorted_sims[i][0]\n",
    "    title_from_index = df[df.index==index]['title'].values[0]\n",
    "    print (str(i+1) + '.', title_from_index)"
   ]
  },
  {
   "cell_type": "code",
   "execution_count": 276,
   "id": "890377a8",
   "metadata": {},
   "outputs": [
    {
     "name": "stdout",
     "output_type": "stream",
     "text": [
      "Enter Your Favorite Movie: Toy Story\n",
      "These are the movies suggested for you: \n",
      "1. Toy Story\n",
      "2. Toy Story 2\n",
      "3. Toy Story 3\n",
      "4. Cars 2\n",
      "5. Cloud Atlas\n",
      "6. Home\n",
      "7. Larry Crowne\n",
      "8. Quest for Camelot\n",
      "9. Big\n",
      "10. That Thing You Do!\n"
     ]
    }
   ],
   "source": [
    "movie_name = input(\"Enter Your Favorite Movie: \")\n",
    "\n",
    "titles = df['title'].tolist()\n",
    "\n",
    "find_close_match = difflib.get_close_matches(movie_name, titles)\n",
    "\n",
    "close_match = find_close_match[0]\n",
    "\n",
    "the_index = df[df.title == close_match].index[0]\n",
    "\n",
    "similarity_score = list(enumerate(similarity[int(the_index)]))\n",
    "\n",
    "sorted_sims = sorted(similarity_score, key = lambda x:x[1], reverse=True)\n",
    "\n",
    "print (\"These are the movies suggested for you: \")\n",
    "\n",
    "for i in range(10):\n",
    "    index = sorted_sims[i][0]\n",
    "    title_from_index = df[df.index==index]['title'].values[0]\n",
    "    print (str(i+1) + '.', title_from_index)"
   ]
  },
  {
   "cell_type": "code",
   "execution_count": null,
   "id": "162e81e3",
   "metadata": {},
   "outputs": [],
   "source": []
  }
 ],
 "metadata": {
  "kernelspec": {
   "display_name": "Python 3",
   "language": "python",
   "name": "python3"
  },
  "language_info": {
   "codemirror_mode": {
    "name": "ipython",
    "version": 3
   },
   "file_extension": ".py",
   "mimetype": "text/x-python",
   "name": "python",
   "nbconvert_exporter": "python",
   "pygments_lexer": "ipython3",
   "version": "3.8.8"
  }
 },
 "nbformat": 4,
 "nbformat_minor": 5
}
